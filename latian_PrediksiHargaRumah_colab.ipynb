{
  "cells": [
    {
      "cell_type": "markdown",
      "metadata": {
        "id": "TqKvXoQFt7In"
      },
      "source": [
        "# Prediksi Harga Rumah\n",
        "\n",
        "- data dan kode diperoleh dari https://github.com/adimasmudi/house_prediction\n",
        "- link kode: https://github.com/GilangAgungS/house-prediction-fix1\n"
      ]
    },
    {
      "cell_type": "markdown",
      "metadata": {
        "id": "4bUOXqKClF6D"
      },
      "source": [
        "## Import Data yang digunakan"
      ]
    },
    {
      "cell_type": "code",
      "execution_count": 1,
      "metadata": {
        "id": "NYWDrx0clF6E"
      },
      "outputs": [],
      "source": [
        "import pandas as pd"
      ]
    },
    {
      "cell_type": "markdown",
      "metadata": {
        "id": "XSv6TwbilF6F"
      },
      "source": [
        "import dengan lokasi file di google drive"
      ]
    },
    {
      "cell_type": "code",
      "execution_count": 2,
      "metadata": {
        "colab": {
          "base_uri": "https://localhost:8080/"
        },
        "id": "ZdZBj6dZ4kLC",
        "outputId": "525eefa8-30ef-45e5-918d-1460fabbcedc"
      },
      "outputs": [
        {
          "output_type": "stream",
          "name": "stdout",
          "text": [
            "Mounted at /content/drive\n"
          ]
        }
      ],
      "source": [
        "from google.colab import drive\n",
        "drive.mount('/content/drive')"
      ]
    },
    {
      "cell_type": "markdown",
      "metadata": {
        "id": "6Jn2LA_1lF6H"
      },
      "source": [
        "import file yang berada di komputer (local)"
      ]
    },
    {
      "cell_type": "code",
      "execution_count": 3,
      "metadata": {
        "id": "eirs-yUfx9Wp"
      },
      "outputs": [],
      "source": [
        "#dataset = pd.read_csv('kc_house_data.csv')"
      ]
    },
    {
      "cell_type": "markdown",
      "metadata": {
        "id": "J_21mZyht7It"
      },
      "source": [
        "## 1. Data Understanding"
      ]
    },
    {
      "cell_type": "markdown",
      "metadata": {
        "id": "J0qY4ELwt7Iu"
      },
      "source": [
        "Memanggil library yang dibutuhkan"
      ]
    },
    {
      "cell_type": "code",
      "execution_count": 4,
      "metadata": {
        "id": "NgzRuABLt7Iv"
      },
      "outputs": [],
      "source": [
        "import numpy as np\n",
        "import matplotlib.pyplot as plt\n",
        "import seaborn as sns\n",
        "import pandas as pd"
      ]
    },
    {
      "cell_type": "markdown",
      "metadata": {
        "id": "JaLTcIWOt7Ix"
      },
      "source": [
        "membuka dataset"
      ]
    },
    {
      "cell_type": "code",
      "execution_count": 5,
      "metadata": {
        "colab": {
          "base_uri": "https://localhost:8080/",
          "height": 488
        },
        "id": "FB4L06zQlF6K",
        "outputId": "a1b682f4-4f45-4eb7-b14f-5b4b5b3aebca"
      },
      "outputs": [
        {
          "output_type": "execute_result",
          "data": {
            "text/plain": [
              "               id             date     price  bedrooms  bathrooms  \\\n",
              "0      7129300520  20141013T000000  221900.0         3       1.00   \n",
              "1      6414100192  20141209T000000  538000.0         3       2.25   \n",
              "2      5631500400  20150225T000000  180000.0         2       1.00   \n",
              "3      2487200875  20141209T000000  604000.0         4       3.00   \n",
              "4      1954400510  20150218T000000  510000.0         3       2.00   \n",
              "...           ...              ...       ...       ...        ...   \n",
              "21608   263000018  20140521T000000  360000.0         3       2.50   \n",
              "21609  6600060120  20150223T000000  400000.0         4       2.50   \n",
              "21610  1523300141  20140623T000000  402101.0         2       0.75   \n",
              "21611   291310100  20150116T000000  400000.0         3       2.50   \n",
              "21612  1523300157  20141015T000000  325000.0         2       0.75   \n",
              "\n",
              "       sqft_living  sqft_lot  floors  waterfront  view  ...  grade  \\\n",
              "0             1180      5650     1.0           0     0  ...      7   \n",
              "1             2570      7242     2.0           0     0  ...      7   \n",
              "2              770     10000     1.0           0     0  ...      6   \n",
              "3             1960      5000     1.0           0     0  ...      7   \n",
              "4             1680      8080     1.0           0     0  ...      8   \n",
              "...            ...       ...     ...         ...   ...  ...    ...   \n",
              "21608         1530      1131     3.0           0     0  ...      8   \n",
              "21609         2310      5813     2.0           0     0  ...      8   \n",
              "21610         1020      1350     2.0           0     0  ...      7   \n",
              "21611         1600      2388     2.0           0     0  ...      8   \n",
              "21612         1020      1076     2.0           0     0  ...      7   \n",
              "\n",
              "       sqft_above  sqft_basement  yr_built  yr_renovated  zipcode      lat  \\\n",
              "0            1180              0      1955             0    98178  47.5112   \n",
              "1            2170            400      1951          1991    98125  47.7210   \n",
              "2             770              0      1933             0    98028  47.7379   \n",
              "3            1050            910      1965             0    98136  47.5208   \n",
              "4            1680              0      1987             0    98074  47.6168   \n",
              "...           ...            ...       ...           ...      ...      ...   \n",
              "21608        1530              0      2009             0    98103  47.6993   \n",
              "21609        2310              0      2014             0    98146  47.5107   \n",
              "21610        1020              0      2009             0    98144  47.5944   \n",
              "21611        1600              0      2004             0    98027  47.5345   \n",
              "21612        1020              0      2008             0    98144  47.5941   \n",
              "\n",
              "          long  sqft_living15  sqft_lot15  \n",
              "0     -122.257           1340        5650  \n",
              "1     -122.319           1690        7639  \n",
              "2     -122.233           2720        8062  \n",
              "3     -122.393           1360        5000  \n",
              "4     -122.045           1800        7503  \n",
              "...        ...            ...         ...  \n",
              "21608 -122.346           1530        1509  \n",
              "21609 -122.362           1830        7200  \n",
              "21610 -122.299           1020        2007  \n",
              "21611 -122.069           1410        1287  \n",
              "21612 -122.299           1020        1357  \n",
              "\n",
              "[21613 rows x 21 columns]"
            ],
            "text/html": [
              "\n",
              "  <div id=\"df-f64aee5b-410a-4722-8811-acae9d33a654\">\n",
              "    <div class=\"colab-df-container\">\n",
              "      <div>\n",
              "<style scoped>\n",
              "    .dataframe tbody tr th:only-of-type {\n",
              "        vertical-align: middle;\n",
              "    }\n",
              "\n",
              "    .dataframe tbody tr th {\n",
              "        vertical-align: top;\n",
              "    }\n",
              "\n",
              "    .dataframe thead th {\n",
              "        text-align: right;\n",
              "    }\n",
              "</style>\n",
              "<table border=\"1\" class=\"dataframe\">\n",
              "  <thead>\n",
              "    <tr style=\"text-align: right;\">\n",
              "      <th></th>\n",
              "      <th>id</th>\n",
              "      <th>date</th>\n",
              "      <th>price</th>\n",
              "      <th>bedrooms</th>\n",
              "      <th>bathrooms</th>\n",
              "      <th>sqft_living</th>\n",
              "      <th>sqft_lot</th>\n",
              "      <th>floors</th>\n",
              "      <th>waterfront</th>\n",
              "      <th>view</th>\n",
              "      <th>...</th>\n",
              "      <th>grade</th>\n",
              "      <th>sqft_above</th>\n",
              "      <th>sqft_basement</th>\n",
              "      <th>yr_built</th>\n",
              "      <th>yr_renovated</th>\n",
              "      <th>zipcode</th>\n",
              "      <th>lat</th>\n",
              "      <th>long</th>\n",
              "      <th>sqft_living15</th>\n",
              "      <th>sqft_lot15</th>\n",
              "    </tr>\n",
              "  </thead>\n",
              "  <tbody>\n",
              "    <tr>\n",
              "      <th>0</th>\n",
              "      <td>7129300520</td>\n",
              "      <td>20141013T000000</td>\n",
              "      <td>221900.0</td>\n",
              "      <td>3</td>\n",
              "      <td>1.00</td>\n",
              "      <td>1180</td>\n",
              "      <td>5650</td>\n",
              "      <td>1.0</td>\n",
              "      <td>0</td>\n",
              "      <td>0</td>\n",
              "      <td>...</td>\n",
              "      <td>7</td>\n",
              "      <td>1180</td>\n",
              "      <td>0</td>\n",
              "      <td>1955</td>\n",
              "      <td>0</td>\n",
              "      <td>98178</td>\n",
              "      <td>47.5112</td>\n",
              "      <td>-122.257</td>\n",
              "      <td>1340</td>\n",
              "      <td>5650</td>\n",
              "    </tr>\n",
              "    <tr>\n",
              "      <th>1</th>\n",
              "      <td>6414100192</td>\n",
              "      <td>20141209T000000</td>\n",
              "      <td>538000.0</td>\n",
              "      <td>3</td>\n",
              "      <td>2.25</td>\n",
              "      <td>2570</td>\n",
              "      <td>7242</td>\n",
              "      <td>2.0</td>\n",
              "      <td>0</td>\n",
              "      <td>0</td>\n",
              "      <td>...</td>\n",
              "      <td>7</td>\n",
              "      <td>2170</td>\n",
              "      <td>400</td>\n",
              "      <td>1951</td>\n",
              "      <td>1991</td>\n",
              "      <td>98125</td>\n",
              "      <td>47.7210</td>\n",
              "      <td>-122.319</td>\n",
              "      <td>1690</td>\n",
              "      <td>7639</td>\n",
              "    </tr>\n",
              "    <tr>\n",
              "      <th>2</th>\n",
              "      <td>5631500400</td>\n",
              "      <td>20150225T000000</td>\n",
              "      <td>180000.0</td>\n",
              "      <td>2</td>\n",
              "      <td>1.00</td>\n",
              "      <td>770</td>\n",
              "      <td>10000</td>\n",
              "      <td>1.0</td>\n",
              "      <td>0</td>\n",
              "      <td>0</td>\n",
              "      <td>...</td>\n",
              "      <td>6</td>\n",
              "      <td>770</td>\n",
              "      <td>0</td>\n",
              "      <td>1933</td>\n",
              "      <td>0</td>\n",
              "      <td>98028</td>\n",
              "      <td>47.7379</td>\n",
              "      <td>-122.233</td>\n",
              "      <td>2720</td>\n",
              "      <td>8062</td>\n",
              "    </tr>\n",
              "    <tr>\n",
              "      <th>3</th>\n",
              "      <td>2487200875</td>\n",
              "      <td>20141209T000000</td>\n",
              "      <td>604000.0</td>\n",
              "      <td>4</td>\n",
              "      <td>3.00</td>\n",
              "      <td>1960</td>\n",
              "      <td>5000</td>\n",
              "      <td>1.0</td>\n",
              "      <td>0</td>\n",
              "      <td>0</td>\n",
              "      <td>...</td>\n",
              "      <td>7</td>\n",
              "      <td>1050</td>\n",
              "      <td>910</td>\n",
              "      <td>1965</td>\n",
              "      <td>0</td>\n",
              "      <td>98136</td>\n",
              "      <td>47.5208</td>\n",
              "      <td>-122.393</td>\n",
              "      <td>1360</td>\n",
              "      <td>5000</td>\n",
              "    </tr>\n",
              "    <tr>\n",
              "      <th>4</th>\n",
              "      <td>1954400510</td>\n",
              "      <td>20150218T000000</td>\n",
              "      <td>510000.0</td>\n",
              "      <td>3</td>\n",
              "      <td>2.00</td>\n",
              "      <td>1680</td>\n",
              "      <td>8080</td>\n",
              "      <td>1.0</td>\n",
              "      <td>0</td>\n",
              "      <td>0</td>\n",
              "      <td>...</td>\n",
              "      <td>8</td>\n",
              "      <td>1680</td>\n",
              "      <td>0</td>\n",
              "      <td>1987</td>\n",
              "      <td>0</td>\n",
              "      <td>98074</td>\n",
              "      <td>47.6168</td>\n",
              "      <td>-122.045</td>\n",
              "      <td>1800</td>\n",
              "      <td>7503</td>\n",
              "    </tr>\n",
              "    <tr>\n",
              "      <th>...</th>\n",
              "      <td>...</td>\n",
              "      <td>...</td>\n",
              "      <td>...</td>\n",
              "      <td>...</td>\n",
              "      <td>...</td>\n",
              "      <td>...</td>\n",
              "      <td>...</td>\n",
              "      <td>...</td>\n",
              "      <td>...</td>\n",
              "      <td>...</td>\n",
              "      <td>...</td>\n",
              "      <td>...</td>\n",
              "      <td>...</td>\n",
              "      <td>...</td>\n",
              "      <td>...</td>\n",
              "      <td>...</td>\n",
              "      <td>...</td>\n",
              "      <td>...</td>\n",
              "      <td>...</td>\n",
              "      <td>...</td>\n",
              "      <td>...</td>\n",
              "    </tr>\n",
              "    <tr>\n",
              "      <th>21608</th>\n",
              "      <td>263000018</td>\n",
              "      <td>20140521T000000</td>\n",
              "      <td>360000.0</td>\n",
              "      <td>3</td>\n",
              "      <td>2.50</td>\n",
              "      <td>1530</td>\n",
              "      <td>1131</td>\n",
              "      <td>3.0</td>\n",
              "      <td>0</td>\n",
              "      <td>0</td>\n",
              "      <td>...</td>\n",
              "      <td>8</td>\n",
              "      <td>1530</td>\n",
              "      <td>0</td>\n",
              "      <td>2009</td>\n",
              "      <td>0</td>\n",
              "      <td>98103</td>\n",
              "      <td>47.6993</td>\n",
              "      <td>-122.346</td>\n",
              "      <td>1530</td>\n",
              "      <td>1509</td>\n",
              "    </tr>\n",
              "    <tr>\n",
              "      <th>21609</th>\n",
              "      <td>6600060120</td>\n",
              "      <td>20150223T000000</td>\n",
              "      <td>400000.0</td>\n",
              "      <td>4</td>\n",
              "      <td>2.50</td>\n",
              "      <td>2310</td>\n",
              "      <td>5813</td>\n",
              "      <td>2.0</td>\n",
              "      <td>0</td>\n",
              "      <td>0</td>\n",
              "      <td>...</td>\n",
              "      <td>8</td>\n",
              "      <td>2310</td>\n",
              "      <td>0</td>\n",
              "      <td>2014</td>\n",
              "      <td>0</td>\n",
              "      <td>98146</td>\n",
              "      <td>47.5107</td>\n",
              "      <td>-122.362</td>\n",
              "      <td>1830</td>\n",
              "      <td>7200</td>\n",
              "    </tr>\n",
              "    <tr>\n",
              "      <th>21610</th>\n",
              "      <td>1523300141</td>\n",
              "      <td>20140623T000000</td>\n",
              "      <td>402101.0</td>\n",
              "      <td>2</td>\n",
              "      <td>0.75</td>\n",
              "      <td>1020</td>\n",
              "      <td>1350</td>\n",
              "      <td>2.0</td>\n",
              "      <td>0</td>\n",
              "      <td>0</td>\n",
              "      <td>...</td>\n",
              "      <td>7</td>\n",
              "      <td>1020</td>\n",
              "      <td>0</td>\n",
              "      <td>2009</td>\n",
              "      <td>0</td>\n",
              "      <td>98144</td>\n",
              "      <td>47.5944</td>\n",
              "      <td>-122.299</td>\n",
              "      <td>1020</td>\n",
              "      <td>2007</td>\n",
              "    </tr>\n",
              "    <tr>\n",
              "      <th>21611</th>\n",
              "      <td>291310100</td>\n",
              "      <td>20150116T000000</td>\n",
              "      <td>400000.0</td>\n",
              "      <td>3</td>\n",
              "      <td>2.50</td>\n",
              "      <td>1600</td>\n",
              "      <td>2388</td>\n",
              "      <td>2.0</td>\n",
              "      <td>0</td>\n",
              "      <td>0</td>\n",
              "      <td>...</td>\n",
              "      <td>8</td>\n",
              "      <td>1600</td>\n",
              "      <td>0</td>\n",
              "      <td>2004</td>\n",
              "      <td>0</td>\n",
              "      <td>98027</td>\n",
              "      <td>47.5345</td>\n",
              "      <td>-122.069</td>\n",
              "      <td>1410</td>\n",
              "      <td>1287</td>\n",
              "    </tr>\n",
              "    <tr>\n",
              "      <th>21612</th>\n",
              "      <td>1523300157</td>\n",
              "      <td>20141015T000000</td>\n",
              "      <td>325000.0</td>\n",
              "      <td>2</td>\n",
              "      <td>0.75</td>\n",
              "      <td>1020</td>\n",
              "      <td>1076</td>\n",
              "      <td>2.0</td>\n",
              "      <td>0</td>\n",
              "      <td>0</td>\n",
              "      <td>...</td>\n",
              "      <td>7</td>\n",
              "      <td>1020</td>\n",
              "      <td>0</td>\n",
              "      <td>2008</td>\n",
              "      <td>0</td>\n",
              "      <td>98144</td>\n",
              "      <td>47.5941</td>\n",
              "      <td>-122.299</td>\n",
              "      <td>1020</td>\n",
              "      <td>1357</td>\n",
              "    </tr>\n",
              "  </tbody>\n",
              "</table>\n",
              "<p>21613 rows × 21 columns</p>\n",
              "</div>\n",
              "      <button class=\"colab-df-convert\" onclick=\"convertToInteractive('df-f64aee5b-410a-4722-8811-acae9d33a654')\"\n",
              "              title=\"Convert this dataframe to an interactive table.\"\n",
              "              style=\"display:none;\">\n",
              "        \n",
              "  <svg xmlns=\"http://www.w3.org/2000/svg\" height=\"24px\"viewBox=\"0 0 24 24\"\n",
              "       width=\"24px\">\n",
              "    <path d=\"M0 0h24v24H0V0z\" fill=\"none\"/>\n",
              "    <path d=\"M18.56 5.44l.94 2.06.94-2.06 2.06-.94-2.06-.94-.94-2.06-.94 2.06-2.06.94zm-11 1L8.5 8.5l.94-2.06 2.06-.94-2.06-.94L8.5 2.5l-.94 2.06-2.06.94zm10 10l.94 2.06.94-2.06 2.06-.94-2.06-.94-.94-2.06-.94 2.06-2.06.94z\"/><path d=\"M17.41 7.96l-1.37-1.37c-.4-.4-.92-.59-1.43-.59-.52 0-1.04.2-1.43.59L10.3 9.45l-7.72 7.72c-.78.78-.78 2.05 0 2.83L4 21.41c.39.39.9.59 1.41.59.51 0 1.02-.2 1.41-.59l7.78-7.78 2.81-2.81c.8-.78.8-2.07 0-2.86zM5.41 20L4 18.59l7.72-7.72 1.47 1.35L5.41 20z\"/>\n",
              "  </svg>\n",
              "      </button>\n",
              "      \n",
              "  <style>\n",
              "    .colab-df-container {\n",
              "      display:flex;\n",
              "      flex-wrap:wrap;\n",
              "      gap: 12px;\n",
              "    }\n",
              "\n",
              "    .colab-df-convert {\n",
              "      background-color: #E8F0FE;\n",
              "      border: none;\n",
              "      border-radius: 50%;\n",
              "      cursor: pointer;\n",
              "      display: none;\n",
              "      fill: #1967D2;\n",
              "      height: 32px;\n",
              "      padding: 0 0 0 0;\n",
              "      width: 32px;\n",
              "    }\n",
              "\n",
              "    .colab-df-convert:hover {\n",
              "      background-color: #E2EBFA;\n",
              "      box-shadow: 0px 1px 2px rgba(60, 64, 67, 0.3), 0px 1px 3px 1px rgba(60, 64, 67, 0.15);\n",
              "      fill: #174EA6;\n",
              "    }\n",
              "\n",
              "    [theme=dark] .colab-df-convert {\n",
              "      background-color: #3B4455;\n",
              "      fill: #D2E3FC;\n",
              "    }\n",
              "\n",
              "    [theme=dark] .colab-df-convert:hover {\n",
              "      background-color: #434B5C;\n",
              "      box-shadow: 0px 1px 3px 1px rgba(0, 0, 0, 0.15);\n",
              "      filter: drop-shadow(0px 1px 2px rgba(0, 0, 0, 0.3));\n",
              "      fill: #FFFFFF;\n",
              "    }\n",
              "  </style>\n",
              "\n",
              "      <script>\n",
              "        const buttonEl =\n",
              "          document.querySelector('#df-f64aee5b-410a-4722-8811-acae9d33a654 button.colab-df-convert');\n",
              "        buttonEl.style.display =\n",
              "          google.colab.kernel.accessAllowed ? 'block' : 'none';\n",
              "\n",
              "        async function convertToInteractive(key) {\n",
              "          const element = document.querySelector('#df-f64aee5b-410a-4722-8811-acae9d33a654');\n",
              "          const dataTable =\n",
              "            await google.colab.kernel.invokeFunction('convertToInteractive',\n",
              "                                                     [key], {});\n",
              "          if (!dataTable) return;\n",
              "\n",
              "          const docLinkHtml = 'Like what you see? Visit the ' +\n",
              "            '<a target=\"_blank\" href=https://colab.research.google.com/notebooks/data_table.ipynb>data table notebook</a>'\n",
              "            + ' to learn more about interactive tables.';\n",
              "          element.innerHTML = '';\n",
              "          dataTable['output_type'] = 'display_data';\n",
              "          await google.colab.output.renderOutput(dataTable, element);\n",
              "          const docLink = document.createElement('div');\n",
              "          docLink.innerHTML = docLinkHtml;\n",
              "          element.appendChild(docLink);\n",
              "        }\n",
              "      </script>\n",
              "    </div>\n",
              "  </div>\n",
              "  "
            ]
          },
          "metadata": {},
          "execution_count": 5
        }
      ],
      "source": [
        "# Membuka file data dari google drive\n",
        "\n",
        "dataset = pd.read_csv('/content/drive/My Drive/latian prediksi harga rumah/kc_house_data.csv')\n",
        "dataset"
      ]
    },
    {
      "cell_type": "code",
      "execution_count": 6,
      "metadata": {
        "id": "Oz5DyxFxt7Ix"
      },
      "outputs": [],
      "source": [
        "# Membuka file data dari komputer (local)\n",
        "\n",
        "#df = pd.read_csv('kc_house_data.csv')\n",
        "#df"
      ]
    },
    {
      "cell_type": "code",
      "execution_count": 7,
      "metadata": {
        "colab": {
          "base_uri": "https://localhost:8080/",
          "height": 473
        },
        "id": "1qx4AvCilF6M",
        "outputId": "9392f7a7-ce9b-476b-ffb2-02994724a419"
      },
      "outputs": [
        {
          "output_type": "display_data",
          "data": {
            "text/plain": [
              "<Figure size 1440x432 with 1 Axes>"
            ],
            "image/png": "[encoded data removed]"
          },
          "metadata": {
            "needs_background": "light"
          }
        }
      ],
      "source": [
        "# Melihat variabel yang paling berpengaruh terhadap harga\n",
        "cor = dataset.corr()['price'].sort_values(ascending=False).drop(['price'])\n",
        "f=plt.figure(figsize=(20,6))\n",
        "\n",
        "f.add_subplot(1,2,1)\n",
        "plt.bar(x=list(cor.index), height=list(cor.values), color='teal')\n",
        "plt.xticks(rotation=90)\n",
        "plt.xlabel('Feature', fontsize=12)\n",
        "plt.ylabel('Correlation', fontsize=12)\n",
        "plt.title('Correlation of Features with Price', fontsize=15)\n",
        "plt.show()"
      ]
    },
    {
      "cell_type": "markdown",
      "metadata": {
        "id": "z6euPwwrlF6M"
      },
      "source": [
        "dari grafik di atas kita bisa melihat variabel apa saja yang memiliki korelasi yang tinggi terhadap harga, kita akan menggunakan beberapa variabel dengan korelasi tinggi seperti 'sqft_living', 'grade', 'sqft_above', 'sqft_living15', 'bathrooms', 'bedrooms', dan 'floors'"
      ]
    },
    {
      "cell_type": "markdown",
      "metadata": {
        "id": "sEZG1TZnt7Iz"
      },
      "source": [
        "\n",
        "- Variabel independen: 'sqft_living', 'grade', 'sqft_above', 'sqft_living15', 'bathrooms', 'bedrooms', dan 'floors'\n",
        "- Variabel dependen (yang dipengaruhi oleh variabel independen): 'price'"
      ]
    },
    {
      "cell_type": "markdown",
      "metadata": {
        "id": "62-gkAATlF6N"
      },
      "source": [
        "membuat variabel dataFrame yang berisi data independen dan dependen yang dibutuhkan"
      ]
    },
    {
      "cell_type": "code",
      "execution_count": 8,
      "metadata": {
        "id": "uWl2EVlKt7I0"
      },
      "outputs": [],
      "source": [
        "# Memuat data dari google drive\n",
        "dataFrame = pd.read_csv('/content/drive/My Drive/latian prediksi harga rumah/kc_house_data.csv', usecols=['sqft_living', 'grade', 'sqft_above', 'sqft_living15', 'bathrooms', 'bedrooms','floors','price', 'yr_built'])\n",
        "\n",
        "# Memuat data dari komputer (local)\n",
        "# dataFrame = pd.read_csv('kc_house_data.csv', usecols=['sqft_living', 'grade', 'sqft_above', 'sqft_living15', 'bathrooms', 'bedrooms','floors','price', 'yr_built'])\n",
        "# dataFrame"
      ]
    },
    {
      "cell_type": "markdown",
      "metadata": {
        "id": "eEcpx533lF6N"
      },
      "source": [
        "Penjelasan dari kolom diatas:\n",
        "- price : harga rumah ($)\n",
        "- bedrooms : jumlah kamar tidur\n",
        "- bathrooms : jumlah kamar mandi\n",
        "- sqft_living : luas ruangan dalam satuan sqft (square feet)\n",
        "- floors : jumlah lantai\n",
        "- grade : klasifikasi dari kelas rumah\n",
        "- sqft_above : luas ruangan di atas tanah\n",
        "- sqft_living15 : rata-rata luas tanah dari 15 tetangga terdekat"
      ]
    },
    {
      "cell_type": "markdown",
      "metadata": {
        "id": "qBFS-zK-lF6O"
      },
      "source": [
        "Melihat 10 data teratas"
      ]
    },
    {
      "cell_type": "code",
      "execution_count": 9,
      "metadata": {
        "colab": {
          "base_uri": "https://localhost:8080/",
          "height": 363
        },
        "id": "7PUGNumZt7I4",
        "outputId": "69a64c5d-4a3e-4eeb-cba4-537ed118068b"
      },
      "outputs": [
        {
          "output_type": "execute_result",
          "data": {
            "text/plain": [
              "       price  bedrooms  bathrooms  sqft_living  floors  grade  sqft_above  \\\n",
              "0   221900.0         3       1.00         1180     1.0      7        1180   \n",
              "1   538000.0         3       2.25         2570     2.0      7        2170   \n",
              "2   180000.0         2       1.00          770     1.0      6         770   \n",
              "3   604000.0         4       3.00         1960     1.0      7        1050   \n",
              "4   510000.0         3       2.00         1680     1.0      8        1680   \n",
              "5  1225000.0         4       4.50         5420     1.0     11        3890   \n",
              "6   257500.0         3       2.25         1715     2.0      7        1715   \n",
              "7   291850.0         3       1.50         1060     1.0      7        1060   \n",
              "8   229500.0         3       1.00         1780     1.0      7        1050   \n",
              "9   323000.0         3       2.50         1890     2.0      7        1890   \n",
              "\n",
              "   yr_built  sqft_living15  \n",
              "0      1955           1340  \n",
              "1      1951           1690  \n",
              "2      1933           2720  \n",
              "3      1965           1360  \n",
              "4      1987           1800  \n",
              "5      2001           4760  \n",
              "6      1995           2238  \n",
              "7      1963           1650  \n",
              "8      1960           1780  \n",
              "9      2003           2390  "
            ],
            "text/html": [
              "\n",
              "  <div id=\"df-a2a10cef-eb56-425f-8288-823ab13cb92e\">\n",
              "    <div class=\"colab-df-container\">\n",
              "      <div>\n",
              "<style scoped>\n",
              "    .dataframe tbody tr th:only-of-type {\n",
              "        vertical-align: middle;\n",
              "    }\n",
              "\n",
              "    .dataframe tbody tr th {\n",
              "        vertical-align: top;\n",
              "    }\n",
              "\n",
              "    .dataframe thead th {\n",
              "        text-align: right;\n",
              "    }\n",
              "</style>\n",
              "<table border=\"1\" class=\"dataframe\">\n",
              "  <thead>\n",
              "    <tr style=\"text-align: right;\">\n",
              "      <th></th>\n",
              "      <th>price</th>\n",
              "      <th>bedrooms</th>\n",
              "      <th>bathrooms</th>\n",
              "      <th>sqft_living</th>\n",
              "      <th>floors</th>\n",
              "      <th>grade</th>\n",
              "      <th>sqft_above</th>\n",
              "      <th>yr_built</th>\n",
              "      <th>sqft_living15</th>\n",
              "    </tr>\n",
              "  </thead>\n",
              "  <tbody>\n",
              "    <tr>\n",
              "      <th>0</th>\n",
              "      <td>221900.0</td>\n",
              "      <td>3</td>\n",
              "      <td>1.00</td>\n",
              "      <td>1180</td>\n",
              "      <td>1.0</td>\n",
              "      <td>7</td>\n",
              "      <td>1180</td>\n",
              "      <td>1955</td>\n",
              "      <td>1340</td>\n",
              "    </tr>\n",
              "    <tr>\n",
              "      <th>1</th>\n",
              "      <td>538000.0</td>\n",
              "      <td>3</td>\n",
              "      <td>2.25</td>\n",
              "      <td>2570</td>\n",
              "      <td>2.0</td>\n",
              "      <td>7</td>\n",
              "      <td>2170</td>\n",
              "      <td>1951</td>\n",
              "      <td>1690</td>\n",
              "    </tr>\n",
              "    <tr>\n",
              "      <th>2</th>\n",
              "      <td>180000.0</td>\n",
              "      <td>2</td>\n",
              "      <td>1.00</td>\n",
              "      <td>770</td>\n",
              "      <td>1.0</td>\n",
              "      <td>6</td>\n",
              "      <td>770</td>\n",
              "      <td>1933</td>\n",
              "      <td>2720</td>\n",
              "    </tr>\n",
              "    <tr>\n",
              "      <th>3</th>\n",
              "      <td>604000.0</td>\n",
              "      <td>4</td>\n",
              "      <td>3.00</td>\n",
              "      <td>1960</td>\n",
              "      <td>1.0</td>\n",
              "      <td>7</td>\n",
              "      <td>1050</td>\n",
              "      <td>1965</td>\n",
              "      <td>1360</td>\n",
              "    </tr>\n",
              "    <tr>\n",
              "      <th>4</th>\n",
              "      <td>510000.0</td>\n",
              "      <td>3</td>\n",
              "      <td>2.00</td>\n",
              "      <td>1680</td>\n",
              "      <td>1.0</td>\n",
              "      <td>8</td>\n",
              "      <td>1680</td>\n",
              "      <td>1987</td>\n",
              "      <td>1800</td>\n",
              "    </tr>\n",
              "    <tr>\n",
              "      <th>5</th>\n",
              "      <td>1225000.0</td>\n",
              "      <td>4</td>\n",
              "      <td>4.50</td>\n",
              "      <td>5420</td>\n",
              "      <td>1.0</td>\n",
              "      <td>11</td>\n",
              "      <td>3890</td>\n",
              "      <td>2001</td>\n",
              "      <td>4760</td>\n",
              "    </tr>\n",
              "    <tr>\n",
              "      <th>6</th>\n",
              "      <td>257500.0</td>\n",
              "      <td>3</td>\n",
              "      <td>2.25</td>\n",
              "      <td>1715</td>\n",
              "      <td>2.0</td>\n",
              "      <td>7</td>\n",
              "      <td>1715</td>\n",
              "      <td>1995</td>\n",
              "      <td>2238</td>\n",
              "    </tr>\n",
              "    <tr>\n",
              "      <th>7</th>\n",
              "      <td>291850.0</td>\n",
              "      <td>3</td>\n",
              "      <td>1.50</td>\n",
              "      <td>1060</td>\n",
              "      <td>1.0</td>\n",
              "      <td>7</td>\n",
              "      <td>1060</td>\n",
              "      <td>1963</td>\n",
              "      <td>1650</td>\n",
              "    </tr>\n",
              "    <tr>\n",
              "      <th>8</th>\n",
              "      <td>229500.0</td>\n",
              "      <td>3</td>\n",
              "      <td>1.00</td>\n",
              "      <td>1780</td>\n",
              "      <td>1.0</td>\n",
              "      <td>7</td>\n",
              "      <td>1050</td>\n",
              "      <td>1960</td>\n",
              "      <td>1780</td>\n",
              "    </tr>\n",
              "    <tr>\n",
              "      <th>9</th>\n",
              "      <td>323000.0</td>\n",
              "      <td>3</td>\n",
              "      <td>2.50</td>\n",
              "      <td>1890</td>\n",
              "      <td>2.0</td>\n",
              "      <td>7</td>\n",
              "      <td>1890</td>\n",
              "      <td>2003</td>\n",
              "      <td>2390</td>\n",
              "    </tr>\n",
              "  </tbody>\n",
              "</table>\n",
              "</div>\n",
              "      <button class=\"colab-df-convert\" onclick=\"convertToInteractive('df-a2a10cef-eb56-425f-8288-823ab13cb92e')\"\n",
              "              title=\"Convert this dataframe to an interactive table.\"\n",
              "              style=\"display:none;\">\n",
              "        \n",
              "  <svg xmlns=\"http://www.w3.org/2000/svg\" height=\"24px\"viewBox=\"0 0 24 24\"\n",
              "       width=\"24px\">\n",
              "    <path d=\"M0 0h24v24H0V0z\" fill=\"none\"/>\n",
              "    <path d=\"M18.56 5.44l.94 2.06.94-2.06 2.06-.94-2.06-.94-.94-2.06-.94 2.06-2.06.94zm-11 1L8.5 8.5l.94-2.06 2.06-.94-2.06-.94L8.5 2.5l-.94 2.06-2.06.94zm10 10l.94 2.06.94-2.06 2.06-.94-2.06-.94-.94-2.06-.94 2.06-2.06.94z\"/><path d=\"M17.41 7.96l-1.37-1.37c-.4-.4-.92-.59-1.43-.59-.52 0-1.04.2-1.43.59L10.3 9.45l-7.72 7.72c-.78.78-.78 2.05 0 2.83L4 21.41c.39.39.9.59 1.41.59.51 0 1.02-.2 1.41-.59l7.78-7.78 2.81-2.81c.8-.78.8-2.07 0-2.86zM5.41 20L4 18.59l7.72-7.72 1.47 1.35L5.41 20z\"/>\n",
              "  </svg>\n",
              "      </button>\n",
              "      \n",
              "  <style>\n",
              "    .colab-df-container {\n",
              "      display:flex;\n",
              "      flex-wrap:wrap;\n",
              "      gap: 12px;\n",
              "    }\n",
              "\n",
              "    .colab-df-convert {\n",
              "      background-color: #E8F0FE;\n",
              "      border: none;\n",
              "      border-radius: 50%;\n",
              "      cursor: pointer;\n",
              "      display: none;\n",
              "      fill: #1967D2;\n",
              "      height: 32px;\n",
              "      padding: 0 0 0 0;\n",
              "      width: 32px;\n",
              "    }\n",
              "\n",
              "    .colab-df-convert:hover {\n",
              "      background-color: #E2EBFA;\n",
              "      box-shadow: 0px 1px 2px rgba(60, 64, 67, 0.3), 0px 1px 3px 1px rgba(60, 64, 67, 0.15);\n",
              "      fill: #174EA6;\n",
              "    }\n",
              "\n",
              "    [theme=dark] .colab-df-convert {\n",
              "      background-color: #3B4455;\n",
              "      fill: #D2E3FC;\n",
              "    }\n",
              "\n",
              "    [theme=dark] .colab-df-convert:hover {\n",
              "      background-color: #434B5C;\n",
              "      box-shadow: 0px 1px 3px 1px rgba(0, 0, 0, 0.15);\n",
              "      filter: drop-shadow(0px 1px 2px rgba(0, 0, 0, 0.3));\n",
              "      fill: #FFFFFF;\n",
              "    }\n",
              "  </style>\n",
              "\n",
              "      <script>\n",
              "        const buttonEl =\n",
              "          document.querySelector('#df-a2a10cef-eb56-425f-8288-823ab13cb92e button.colab-df-convert');\n",
              "        buttonEl.style.display =\n",
              "          google.colab.kernel.accessAllowed ? 'block' : 'none';\n",
              "\n",
              "        async function convertToInteractive(key) {\n",
              "          const element = document.querySelector('#df-a2a10cef-eb56-425f-8288-823ab13cb92e');\n",
              "          const dataTable =\n",
              "            await google.colab.kernel.invokeFunction('convertToInteractive',\n",
              "                                                     [key], {});\n",
              "          if (!dataTable) return;\n",
              "\n",
              "          const docLinkHtml = 'Like what you see? Visit the ' +\n",
              "            '<a target=\"_blank\" href=https://colab.research.google.com/notebooks/data_table.ipynb>data table notebook</a>'\n",
              "            + ' to learn more about interactive tables.';\n",
              "          element.innerHTML = '';\n",
              "          dataTable['output_type'] = 'display_data';\n",
              "          await google.colab.output.renderOutput(dataTable, element);\n",
              "          const docLink = document.createElement('div');\n",
              "          docLink.innerHTML = docLinkHtml;\n",
              "          element.appendChild(docLink);\n",
              "        }\n",
              "      </script>\n",
              "    </div>\n",
              "  </div>\n",
              "  "
            ]
          },
          "metadata": {},
          "execution_count": 9
        }
      ],
      "source": [
        "#melihat 10 data teratas\n",
        "dataFrame.head(10)"
      ]
    },
    {
      "cell_type": "markdown",
      "metadata": {
        "id": "Sqa712RrlF6O"
      },
      "source": [
        "Melihat 10 data terbawah"
      ]
    },
    {
      "cell_type": "code",
      "execution_count": 10,
      "metadata": {
        "colab": {
          "base_uri": "https://localhost:8080/",
          "height": 363
        },
        "id": "8A6Gp9ant7I4",
        "outputId": "9f3abb26-2bef-4df4-bc87-69bee4c43445"
      },
      "outputs": [
        {
          "output_type": "execute_result",
          "data": {
            "text/plain": [
              "           price  bedrooms  bathrooms  sqft_living  floors  grade  sqft_above  \\\n",
              "21603   507250.0         3       2.50         2270     2.0      8        2270   \n",
              "21604   429000.0         3       2.00         1490     3.0      8        1490   \n",
              "21605   610685.0         4       2.50         2520     2.0      9        2520   \n",
              "21606  1007500.0         4       3.50         3510     2.0      9        2600   \n",
              "21607   475000.0         3       2.50         1310     2.0      8        1180   \n",
              "21608   360000.0         3       2.50         1530     3.0      8        1530   \n",
              "21609   400000.0         4       2.50         2310     2.0      8        2310   \n",
              "21610   402101.0         2       0.75         1020     2.0      7        1020   \n",
              "21611   400000.0         3       2.50         1600     2.0      8        1600   \n",
              "21612   325000.0         2       0.75         1020     2.0      7        1020   \n",
              "\n",
              "       yr_built  sqft_living15  \n",
              "21603      2003           2270  \n",
              "21604      2014           1400  \n",
              "21605      2014           2520  \n",
              "21606      2009           2050  \n",
              "21607      2008           1330  \n",
              "21608      2009           1530  \n",
              "21609      2014           1830  \n",
              "21610      2009           1020  \n",
              "21611      2004           1410  \n",
              "21612      2008           1020  "
            ],
            "text/html": [
              "\n",
              "  <div id=\"df-262996a4-c7b2-445c-b156-513c99787079\">\n",
              "    <div class=\"colab-df-container\">\n",
              "      <div>\n",
              "<style scoped>\n",
              "    .dataframe tbody tr th:only-of-type {\n",
              "        vertical-align: middle;\n",
              "    }\n",
              "\n",
              "    .dataframe tbody tr th {\n",
              "        vertical-align: top;\n",
              "    }\n",
              "\n",
              "    .dataframe thead th {\n",
              "        text-align: right;\n",
              "    }\n",
              "</style>\n",
              "<table border=\"1\" class=\"dataframe\">\n",
              "  <thead>\n",
              "    <tr style=\"text-align: right;\">\n",
              "      <th></th>\n",
              "      <th>price</th>\n",
              "      <th>bedrooms</th>\n",
              "      <th>bathrooms</th>\n",
              "      <th>sqft_living</th>\n",
              "      <th>floors</th>\n",
              "      <th>grade</th>\n",
              "      <th>sqft_above</th>\n",
              "      <th>yr_built</th>\n",
              "      <th>sqft_living15</th>\n",
              "    </tr>\n",
              "  </thead>\n",
              "  <tbody>\n",
              "    <tr>\n",
              "      <th>21603</th>\n",
              "      <td>507250.0</td>\n",
              "      <td>3</td>\n",
              "      <td>2.50</td>\n",
              "      <td>2270</td>\n",
              "      <td>2.0</td>\n",
              "      <td>8</td>\n",
              "      <td>2270</td>\n",
              "      <td>2003</td>\n",
              "      <td>2270</td>\n",
              "    </tr>\n",
              "    <tr>\n",
              "      <th>21604</th>\n",
              "      <td>429000.0</td>\n",
              "      <td>3</td>\n",
              "      <td>2.00</td>\n",
              "      <td>1490</td>\n",
              "      <td>3.0</td>\n",
              "      <td>8</td>\n",
              "      <td>1490</td>\n",
              "      <td>2014</td>\n",
              "      <td>1400</td>\n",
              "    </tr>\n",
              "    <tr>\n",
              "      <th>21605</th>\n",
              "      <td>610685.0</td>\n",
              "      <td>4</td>\n",
              "      <td>2.50</td>\n",
              "      <td>2520</td>\n",
              "      <td>2.0</td>\n",
              "      <td>9</td>\n",
              "      <td>2520</td>\n",
              "      <td>2014</td>\n",
              "      <td>2520</td>\n",
              "    </tr>\n",
              "    <tr>\n",
              "      <th>21606</th>\n",
              "      <td>1007500.0</td>\n",
              "      <td>4</td>\n",
              "      <td>3.50</td>\n",
              "      <td>3510</td>\n",
              "      <td>2.0</td>\n",
              "      <td>9</td>\n",
              "      <td>2600</td>\n",
              "      <td>2009</td>\n",
              "      <td>2050</td>\n",
              "    </tr>\n",
              "    <tr>\n",
              "      <th>21607</th>\n",
              "      <td>475000.0</td>\n",
              "      <td>3</td>\n",
              "      <td>2.50</td>\n",
              "      <td>1310</td>\n",
              "      <td>2.0</td>\n",
              "      <td>8</td>\n",
              "      <td>1180</td>\n",
              "      <td>2008</td>\n",
              "      <td>1330</td>\n",
              "    </tr>\n",
              "    <tr>\n",
              "      <th>21608</th>\n",
              "      <td>360000.0</td>\n",
              "      <td>3</td>\n",
              "      <td>2.50</td>\n",
              "      <td>1530</td>\n",
              "      <td>3.0</td>\n",
              "      <td>8</td>\n",
              "      <td>1530</td>\n",
              "      <td>2009</td>\n",
              "      <td>1530</td>\n",
              "    </tr>\n",
              "    <tr>\n",
              "      <th>21609</th>\n",
              "      <td>400000.0</td>\n",
              "      <td>4</td>\n",
              "      <td>2.50</td>\n",
              "      <td>2310</td>\n",
              "      <td>2.0</td>\n",
              "      <td>8</td>\n",
              "      <td>2310</td>\n",
              "      <td>2014</td>\n",
              "      <td>1830</td>\n",
              "    </tr>\n",
              "    <tr>\n",
              "      <th>21610</th>\n",
              "      <td>402101.0</td>\n",
              "      <td>2</td>\n",
              "      <td>0.75</td>\n",
              "      <td>1020</td>\n",
              "      <td>2.0</td>\n",
              "      <td>7</td>\n",
              "      <td>1020</td>\n",
              "      <td>2009</td>\n",
              "      <td>1020</td>\n",
              "    </tr>\n",
              "    <tr>\n",
              "      <th>21611</th>\n",
              "      <td>400000.0</td>\n",
              "      <td>3</td>\n",
              "      <td>2.50</td>\n",
              "      <td>1600</td>\n",
              "      <td>2.0</td>\n",
              "      <td>8</td>\n",
              "      <td>1600</td>\n",
              "      <td>2004</td>\n",
              "      <td>1410</td>\n",
              "    </tr>\n",
              "    <tr>\n",
              "      <th>21612</th>\n",
              "      <td>325000.0</td>\n",
              "      <td>2</td>\n",
              "      <td>0.75</td>\n",
              "      <td>1020</td>\n",
              "      <td>2.0</td>\n",
              "      <td>7</td>\n",
              "      <td>1020</td>\n",
              "      <td>2008</td>\n",
              "      <td>1020</td>\n",
              "    </tr>\n",
              "  </tbody>\n",
              "</table>\n",
              "</div>\n",
              "      <button class=\"colab-df-convert\" onclick=\"convertToInteractive('df-262996a4-c7b2-445c-b156-513c99787079')\"\n",
              "              title=\"Convert this dataframe to an interactive table.\"\n",
              "              style=\"display:none;\">\n",
              "        \n",
              "  <svg xmlns=\"http://www.w3.org/2000/svg\" height=\"24px\"viewBox=\"0 0 24 24\"\n",
              "       width=\"24px\">\n",
              "    <path d=\"M0 0h24v24H0V0z\" fill=\"none\"/>\n",
              "    <path d=\"M18.56 5.44l.94 2.06.94-2.06 2.06-.94-2.06-.94-.94-2.06-.94 2.06-2.06.94zm-11 1L8.5 8.5l.94-2.06 2.06-.94-2.06-.94L8.5 2.5l-.94 2.06-2.06.94zm10 10l.94 2.06.94-2.06 2.06-.94-2.06-.94-.94-2.06-.94 2.06-2.06.94z\"/><path d=\"M17.41 7.96l-1.37-1.37c-.4-.4-.92-.59-1.43-.59-.52 0-1.04.2-1.43.59L10.3 9.45l-7.72 7.72c-.78.78-.78 2.05 0 2.83L4 21.41c.39.39.9.59 1.41.59.51 0 1.02-.2 1.41-.59l7.78-7.78 2.81-2.81c.8-.78.8-2.07 0-2.86zM5.41 20L4 18.59l7.72-7.72 1.47 1.35L5.41 20z\"/>\n",
              "  </svg>\n",
              "      </button>\n",
              "      \n",
              "  <style>\n",
              "    .colab-df-container {\n",
              "      display:flex;\n",
              "      flex-wrap:wrap;\n",
              "      gap: 12px;\n",
              "    }\n",
              "\n",
              "    .colab-df-convert {\n",
              "      background-color: #E8F0FE;\n",
              "      border: none;\n",
              "      border-radius: 50%;\n",
              "      cursor: pointer;\n",
              "      display: none;\n",
              "      fill: #1967D2;\n",
              "      height: 32px;\n",
              "      padding: 0 0 0 0;\n",
              "      width: 32px;\n",
              "    }\n",
              "\n",
              "    .colab-df-convert:hover {\n",
              "      background-color: #E2EBFA;\n",
              "      box-shadow: 0px 1px 2px rgba(60, 64, 67, 0.3), 0px 1px 3px 1px rgba(60, 64, 67, 0.15);\n",
              "      fill: #174EA6;\n",
              "    }\n",
              "\n",
              "    [theme=dark] .colab-df-convert {\n",
              "      background-color: #3B4455;\n",
              "      fill: #D2E3FC;\n",
              "    }\n",
              "\n",
              "    [theme=dark] .colab-df-convert:hover {\n",
              "      background-color: #434B5C;\n",
              "      box-shadow: 0px 1px 3px 1px rgba(0, 0, 0, 0.15);\n",
              "      filter: drop-shadow(0px 1px 2px rgba(0, 0, 0, 0.3));\n",
              "      fill: #FFFFFF;\n",
              "    }\n",
              "  </style>\n",
              "\n",
              "      <script>\n",
              "        const buttonEl =\n",
              "          document.querySelector('#df-262996a4-c7b2-445c-b156-513c99787079 button.colab-df-convert');\n",
              "        buttonEl.style.display =\n",
              "          google.colab.kernel.accessAllowed ? 'block' : 'none';\n",
              "\n",
              "        async function convertToInteractive(key) {\n",
              "          const element = document.querySelector('#df-262996a4-c7b2-445c-b156-513c99787079');\n",
              "          const dataTable =\n",
              "            await google.colab.kernel.invokeFunction('convertToInteractive',\n",
              "                                                     [key], {});\n",
              "          if (!dataTable) return;\n",
              "\n",
              "          const docLinkHtml = 'Like what you see? Visit the ' +\n",
              "            '<a target=\"_blank\" href=https://colab.research.google.com/notebooks/data_table.ipynb>data table notebook</a>'\n",
              "            + ' to learn more about interactive tables.';\n",
              "          element.innerHTML = '';\n",
              "          dataTable['output_type'] = 'display_data';\n",
              "          await google.colab.output.renderOutput(dataTable, element);\n",
              "          const docLink = document.createElement('div');\n",
              "          docLink.innerHTML = docLinkHtml;\n",
              "          element.appendChild(docLink);\n",
              "        }\n",
              "      </script>\n",
              "    </div>\n",
              "  </div>\n",
              "  "
            ]
          },
          "metadata": {},
          "execution_count": 10
        }
      ],
      "source": [
        "#melihat data terbawah\n",
        "dataFrame.tail(10)"
      ]
    },
    {
      "cell_type": "markdown",
      "metadata": {
        "id": "eStJLIg6lF6P"
      },
      "source": [
        "Melihat jumlah baris dan kolom"
      ]
    },
    {
      "cell_type": "code",
      "execution_count": 11,
      "metadata": {
        "colab": {
          "base_uri": "https://localhost:8080/"
        },
        "id": "fBTTzVwRt7I5",
        "outputId": "aee70791-f3e8-4317-e4bf-ec28cb8234da"
      },
      "outputs": [
        {
          "output_type": "execute_result",
          "data": {
            "text/plain": [
              "(21613, 9)"
            ]
          },
          "metadata": {},
          "execution_count": 11
        }
      ],
      "source": [
        "#melihat jumlah baris dan kolom\n",
        "dataFrame.shape"
      ]
    },
    {
      "cell_type": "markdown",
      "metadata": {
        "id": "87Uhr-9VlF6P"
      },
      "source": [
        "Melihat nama kolom, jumlah data, dan tipe data"
      ]
    },
    {
      "cell_type": "code",
      "execution_count": 12,
      "metadata": {
        "colab": {
          "base_uri": "https://localhost:8080/"
        },
        "id": "thFn25eBt7I6",
        "outputId": "4a6e0b7c-d8c2-4e0a-9bf6-726ffa705ba2"
      },
      "outputs": [
        {
          "output_type": "stream",
          "name": "stdout",
          "text": [
            "<class 'pandas.core.frame.DataFrame'>\n",
            "RangeIndex: 21613 entries, 0 to 21612\n",
            "Data columns (total 9 columns):\n",
            " #   Column         Non-Null Count  Dtype  \n",
            "---  ------         --------------  -----  \n",
            " 0   price          21613 non-null  float64\n",
            " 1   bedrooms       21613 non-null  int64  \n",
            " 2   bathrooms      21613 non-null  float64\n",
            " 3   sqft_living    21613 non-null  int64  \n",
            " 4   floors         21613 non-null  float64\n",
            " 5   grade          21613 non-null  int64  \n",
            " 6   sqft_above     21613 non-null  int64  \n",
            " 7   yr_built       21613 non-null  int64  \n",
            " 8   sqft_living15  21613 non-null  int64  \n",
            "dtypes: float64(3), int64(6)\n",
            "memory usage: 1.5 MB\n"
          ]
        }
      ],
      "source": [
        "#melihat nama kolom, jumlah data, dan tipe data\n",
        "dataFrame.info()"
      ]
    },
    {
      "cell_type": "markdown",
      "metadata": {
        "id": "ByNk-C-6t7I7"
      },
      "source": [
        "dari data diatas dapat dilihat bahwa kolom 'bathrooms' dan 'floors' memiliki tipe data float, kita perlu ubah menjadi integer karena nilai dari kolom 'bathrooms' dan 'floors' harus bilangan bulat"
      ]
    },
    {
      "cell_type": "markdown",
      "metadata": {
        "id": "ksFL0pZglF6P"
      },
      "source": [
        "Melihat nilai dengan jumlah data yang ada pada kolom 'bedrooms'"
      ]
    },
    {
      "cell_type": "code",
      "execution_count": 13,
      "metadata": {
        "colab": {
          "base_uri": "https://localhost:8080/"
        },
        "id": "AWYt-I6Tt7I8",
        "outputId": "48b452f8-e000-49f7-988d-e08db5d90778"
      },
      "outputs": [
        {
          "output_type": "execute_result",
          "data": {
            "text/plain": [
              "0       13\n",
              "1      199\n",
              "2     2760\n",
              "3     9824\n",
              "4     6882\n",
              "5     1601\n",
              "6      272\n",
              "7       38\n",
              "8       13\n",
              "9        6\n",
              "10       3\n",
              "11       1\n",
              "33       1\n",
              "Name: bedrooms, dtype: int64"
            ]
          },
          "metadata": {},
          "execution_count": 13
        }
      ],
      "source": [
        "#melihat nilai dengan jumlah data terbanyak pada kolom 'bedrooms'\n",
        "dataFrame['bedrooms'].value_counts().sort_index(ascending=True)"
      ]
    },
    {
      "cell_type": "markdown",
      "metadata": {
        "id": "ZLd5_Ph9lF6Q"
      },
      "source": [
        "dari data diatas menunjukkan ada 'bedrooms' dengan nilai 33, nilai tersebut dirasa kurang masuk akal untuk sebuah rumah, jadi kita akan menghapusnya di tahap selanjutnya "
      ]
    },
    {
      "cell_type": "markdown",
      "metadata": {
        "id": "PvYpnaqKt7I_"
      },
      "source": [
        "## 2. Data Preparation\n",
        "#### Data preparation adalah proses pengumpulan, penggabungan, penataan, dan pengorganisasian data sehingga dapat digunakan dalam analitik, dan visualisasi data"
      ]
    },
    {
      "cell_type": "code",
      "execution_count": 14,
      "metadata": {
        "colab": {
          "base_uri": "https://localhost:8080/"
        },
        "id": "TvhCPlQtt7JA",
        "outputId": "720f8630-371f-4229-ea1d-7ee0e8536223"
      },
      "outputs": [
        {
          "output_type": "execute_result",
          "data": {
            "text/plain": [
              "price            0\n",
              "bedrooms         0\n",
              "bathrooms        0\n",
              "sqft_living      0\n",
              "floors           0\n",
              "grade            0\n",
              "sqft_above       0\n",
              "yr_built         0\n",
              "sqft_living15    0\n",
              "dtype: int64"
            ]
          },
          "metadata": {},
          "execution_count": 14
        }
      ],
      "source": [
        "#melihat data yang kosong\n",
        "dataFrame.isnull().sum()"
      ]
    },
    {
      "cell_type": "markdown",
      "metadata": {
        "id": "nX1J5psot7JA"
      },
      "source": [
        "Dari hasil diatas tidak ada data yang kosong, sehingga tidak perlu melakukan manipulasi data kosong"
      ]
    },
    {
      "cell_type": "markdown",
      "metadata": {
        "id": "PuOu-CyxlF6Q"
      },
      "source": [
        "Mengubah tipe data pada kolom 'bathrooms' (dari float ke integer) karena data 'bathroom' harus bilangan bulat"
      ]
    },
    {
      "cell_type": "code",
      "execution_count": 15,
      "metadata": {
        "colab": {
          "base_uri": "https://localhost:8080/"
        },
        "id": "K2XkaNc3lF6R",
        "outputId": "6b1427c8-8cfd-4c2e-bb9d-b8d86d814f8a"
      },
      "outputs": [
        {
          "output_type": "execute_result",
          "data": {
            "text/plain": [
              "price            float64\n",
              "bedrooms           int64\n",
              "bathrooms          int64\n",
              "sqft_living        int64\n",
              "floors           float64\n",
              "grade              int64\n",
              "sqft_above         int64\n",
              "yr_built           int64\n",
              "sqft_living15      int64\n",
              "dtype: object"
            ]
          },
          "metadata": {},
          "execution_count": 15
        }
      ],
      "source": [
        "#mengubah tipe data kolom 'bathrooms' menjadi integer(int)\n",
        "dataFrame['bathrooms'] = dataFrame['bathrooms'].astype(int)\n",
        "dataFrame.dtypes"
      ]
    },
    {
      "cell_type": "markdown",
      "metadata": {
        "id": "sE1DejqVlF6R"
      },
      "source": [
        "Mengubah tipe data pada kolom 'floors' (dari float ke integer) karena data 'floors' harus bilangan bulat"
      ]
    },
    {
      "cell_type": "code",
      "execution_count": 16,
      "metadata": {
        "colab": {
          "base_uri": "https://localhost:8080/"
        },
        "id": "dHREas9slF6R",
        "outputId": "a9032de9-0a09-4774-a0b5-6d0d37552106"
      },
      "outputs": [
        {
          "output_type": "execute_result",
          "data": {
            "text/plain": [
              "price            float64\n",
              "bedrooms           int64\n",
              "bathrooms          int64\n",
              "sqft_living        int64\n",
              "floors             int64\n",
              "grade              int64\n",
              "sqft_above         int64\n",
              "yr_built           int64\n",
              "sqft_living15      int64\n",
              "dtype: object"
            ]
          },
          "metadata": {},
          "execution_count": 16
        }
      ],
      "source": [
        "#mengubah tipe data kolom 'floors' menjadi integer(int)\n",
        "dataFrame['floors'] = dataFrame['floors'].astype(int)\n",
        "dataFrame.dtypes\n"
      ]
    },
    {
      "cell_type": "markdown",
      "metadata": {
        "id": "AlibB0f5lF6R"
      },
      "source": [
        "Menghapus nilai 33 pada kolom 'bedroom'"
      ]
    },
    {
      "cell_type": "code",
      "execution_count": 17,
      "metadata": {
        "id": "8sy3hpOElF6R"
      },
      "outputs": [],
      "source": [
        "#menghapus data dengan 'bedrooms' dengan nilai 33\n",
        "dataFrame = dataFrame[dataFrame['bedrooms'] != 33]\n"
      ]
    },
    {
      "cell_type": "code",
      "execution_count": 18,
      "metadata": {
        "colab": {
          "base_uri": "https://localhost:8080/"
        },
        "id": "0RuIOJDilF6S",
        "outputId": "580589d7-a2d5-4fde-b816-349ca2c3b861"
      },
      "outputs": [
        {
          "output_type": "execute_result",
          "data": {
            "text/plain": [
              "0       13\n",
              "1      199\n",
              "2     2760\n",
              "3     9824\n",
              "4     6882\n",
              "5     1601\n",
              "6      272\n",
              "7       38\n",
              "8       13\n",
              "9        6\n",
              "10       3\n",
              "11       1\n",
              "Name: bedrooms, dtype: int64"
            ]
          },
          "metadata": {},
          "execution_count": 18
        }
      ],
      "source": [
        "dataFrame['bedrooms'].value_counts().sort_index(ascending=True)"
      ]
    },
    {
      "cell_type": "markdown",
      "metadata": {
        "id": "bMYH5q7ClF6S"
      },
      "source": [
        "Cek apakah kolom 'bedrooms' dengan nilai 33 sudah dihilangkan"
      ]
    },
    {
      "cell_type": "code",
      "execution_count": 19,
      "metadata": {
        "colab": {
          "base_uri": "https://localhost:8080/",
          "height": 49
        },
        "id": "iXtqNBTIlF6S",
        "outputId": "216b7f09-84b4-471a-a63e-786e7753d38d"
      },
      "outputs": [
        {
          "output_type": "execute_result",
          "data": {
            "text/plain": [
              "Empty DataFrame\n",
              "Columns: [price, bedrooms, bathrooms, sqft_living, floors, grade, sqft_above, yr_built, sqft_living15]\n",
              "Index: []"
            ],
            "text/html": [
              "\n",
              "  <div id=\"df-8fee1582-694f-463e-91a3-a5670c04c376\">\n",
              "    <div class=\"colab-df-container\">\n",
              "      <div>\n",
              "<style scoped>\n",
              "    .dataframe tbody tr th:only-of-type {\n",
              "        vertical-align: middle;\n",
              "    }\n",
              "\n",
              "    .dataframe tbody tr th {\n",
              "        vertical-align: top;\n",
              "    }\n",
              "\n",
              "    .dataframe thead th {\n",
              "        text-align: right;\n",
              "    }\n",
              "</style>\n",
              "<table border=\"1\" class=\"dataframe\">\n",
              "  <thead>\n",
              "    <tr style=\"text-align: right;\">\n",
              "      <th></th>\n",
              "      <th>price</th>\n",
              "      <th>bedrooms</th>\n",
              "      <th>bathrooms</th>\n",
              "      <th>sqft_living</th>\n",
              "      <th>floors</th>\n",
              "      <th>grade</th>\n",
              "      <th>sqft_above</th>\n",
              "      <th>yr_built</th>\n",
              "      <th>sqft_living15</th>\n",
              "    </tr>\n",
              "  </thead>\n",
              "  <tbody>\n",
              "  </tbody>\n",
              "</table>\n",
              "</div>\n",
              "      <button class=\"colab-df-convert\" onclick=\"convertToInteractive('df-8fee1582-694f-463e-91a3-a5670c04c376')\"\n",
              "              title=\"Convert this dataframe to an interactive table.\"\n",
              "              style=\"display:none;\">\n",
              "        \n",
              "  <svg xmlns=\"http://www.w3.org/2000/svg\" height=\"24px\"viewBox=\"0 0 24 24\"\n",
              "       width=\"24px\">\n",
              "    <path d=\"M0 0h24v24H0V0z\" fill=\"none\"/>\n",
              "    <path d=\"M18.56 5.44l.94 2.06.94-2.06 2.06-.94-2.06-.94-.94-2.06-.94 2.06-2.06.94zm-11 1L8.5 8.5l.94-2.06 2.06-.94-2.06-.94L8.5 2.5l-.94 2.06-2.06.94zm10 10l.94 2.06.94-2.06 2.06-.94-2.06-.94-.94-2.06-.94 2.06-2.06.94z\"/><path d=\"M17.41 7.96l-1.37-1.37c-.4-.4-.92-.59-1.43-.59-.52 0-1.04.2-1.43.59L10.3 9.45l-7.72 7.72c-.78.78-.78 2.05 0 2.83L4 21.41c.39.39.9.59 1.41.59.51 0 1.02-.2 1.41-.59l7.78-7.78 2.81-2.81c.8-.78.8-2.07 0-2.86zM5.41 20L4 18.59l7.72-7.72 1.47 1.35L5.41 20z\"/>\n",
              "  </svg>\n",
              "      </button>\n",
              "      \n",
              "  <style>\n",
              "    .colab-df-container {\n",
              "      display:flex;\n",
              "      flex-wrap:wrap;\n",
              "      gap: 12px;\n",
              "    }\n",
              "\n",
              "    .colab-df-convert {\n",
              "      background-color: #E8F0FE;\n",
              "      border: none;\n",
              "      border-radius: 50%;\n",
              "      cursor: pointer;\n",
              "      display: none;\n",
              "      fill: #1967D2;\n",
              "      height: 32px;\n",
              "      padding: 0 0 0 0;\n",
              "      width: 32px;\n",
              "    }\n",
              "\n",
              "    .colab-df-convert:hover {\n",
              "      background-color: #E2EBFA;\n",
              "      box-shadow: 0px 1px 2px rgba(60, 64, 67, 0.3), 0px 1px 3px 1px rgba(60, 64, 67, 0.15);\n",
              "      fill: #174EA6;\n",
              "    }\n",
              "\n",
              "    [theme=dark] .colab-df-convert {\n",
              "      background-color: #3B4455;\n",
              "      fill: #D2E3FC;\n",
              "    }\n",
              "\n",
              "    [theme=dark] .colab-df-convert:hover {\n",
              "      background-color: #434B5C;\n",
              "      box-shadow: 0px 1px 3px 1px rgba(0, 0, 0, 0.15);\n",
              "      filter: drop-shadow(0px 1px 2px rgba(0, 0, 0, 0.3));\n",
              "      fill: #FFFFFF;\n",
              "    }\n",
              "  </style>\n",
              "\n",
              "      <script>\n",
              "        const buttonEl =\n",
              "          document.querySelector('#df-8fee1582-694f-463e-91a3-a5670c04c376 button.colab-df-convert');\n",
              "        buttonEl.style.display =\n",
              "          google.colab.kernel.accessAllowed ? 'block' : 'none';\n",
              "\n",
              "        async function convertToInteractive(key) {\n",
              "          const element = document.querySelector('#df-8fee1582-694f-463e-91a3-a5670c04c376');\n",
              "          const dataTable =\n",
              "            await google.colab.kernel.invokeFunction('convertToInteractive',\n",
              "                                                     [key], {});\n",
              "          if (!dataTable) return;\n",
              "\n",
              "          const docLinkHtml = 'Like what you see? Visit the ' +\n",
              "            '<a target=\"_blank\" href=https://colab.research.google.com/notebooks/data_table.ipynb>data table notebook</a>'\n",
              "            + ' to learn more about interactive tables.';\n",
              "          element.innerHTML = '';\n",
              "          dataTable['output_type'] = 'display_data';\n",
              "          await google.colab.output.renderOutput(dataTable, element);\n",
              "          const docLink = document.createElement('div');\n",
              "          docLink.innerHTML = docLinkHtml;\n",
              "          element.appendChild(docLink);\n",
              "        }\n",
              "      </script>\n",
              "    </div>\n",
              "  </div>\n",
              "  "
            ]
          },
          "metadata": {},
          "execution_count": 19
        }
      ],
      "source": [
        "#cek apakah kolom 'bedrooms' dengan nilai 33 sudah dihilangkan\n",
        "dataFrame[dataFrame['bedrooms'] == 33]"
      ]
    },
    {
      "cell_type": "markdown",
      "metadata": {
        "id": "RqZdoRNllF6S"
      },
      "source": [
        "dari hasil diatas menunjukkan bahwa sudah tidak ada nilai 33 pada kolom 'bedrooms'"
      ]
    },
    {
      "cell_type": "markdown",
      "metadata": {
        "id": "S8FERHerlF6S"
      },
      "source": [
        "Melihat rangkuman statistik seperti rata-rata, median, dll pada kolom"
      ]
    },
    {
      "cell_type": "code",
      "execution_count": 20,
      "metadata": {
        "colab": {
          "base_uri": "https://localhost:8080/",
          "height": 300
        },
        "id": "fPAKaCKvlF6S",
        "outputId": "cb0bfc8f-9204-4db3-b282-d184f91c59b4"
      },
      "outputs": [
        {
          "output_type": "execute_result",
          "data": {
            "text/plain": [
              "              price      bedrooms     bathrooms   sqft_living        floors  \\\n",
              "count  2.161200e+04  21612.000000  21612.000000  21612.000000  21612.000000   \n",
              "mean   5.400835e+05      3.369471      1.749769   2079.921016      1.446234   \n",
              "std    3.671351e+05      0.907982      0.734872    918.456818      0.551898   \n",
              "min    7.500000e+04      0.000000      0.000000    290.000000      1.000000   \n",
              "25%    3.218375e+05      3.000000      1.000000   1426.500000      1.000000   \n",
              "50%    4.500000e+05      3.000000      2.000000   1910.000000      1.000000   \n",
              "75%    6.450000e+05      4.000000      2.000000   2550.000000      2.000000   \n",
              "max    7.700000e+06     11.000000      8.000000  13540.000000      3.000000   \n",
              "\n",
              "              grade    sqft_above      yr_built  sqft_living15  \n",
              "count  21612.000000  21612.000000  21612.000000   21612.000000  \n",
              "mean       7.656904   1788.425319   1971.006247    1986.582871  \n",
              "std        1.175477    828.094487     29.373636     685.392610  \n",
              "min        1.000000    290.000000   1900.000000     399.000000  \n",
              "25%        7.000000   1190.000000   1951.000000    1490.000000  \n",
              "50%        7.000000   1560.000000   1975.000000    1840.000000  \n",
              "75%        8.000000   2210.000000   1997.000000    2360.000000  \n",
              "max       13.000000   9410.000000   2015.000000    6210.000000  "
            ],
            "text/html": [
              "\n",
              "  <div id=\"df-347480dc-12c1-45ae-8476-f458cff0ec08\">\n",
              "    <div class=\"colab-df-container\">\n",
              "      <div>\n",
              "<style scoped>\n",
              "    .dataframe tbody tr th:only-of-type {\n",
              "        vertical-align: middle;\n",
              "    }\n",
              "\n",
              "    .dataframe tbody tr th {\n",
              "        vertical-align: top;\n",
              "    }\n",
              "\n",
              "    .dataframe thead th {\n",
              "        text-align: right;\n",
              "    }\n",
              "</style>\n",
              "<table border=\"1\" class=\"dataframe\">\n",
              "  <thead>\n",
              "    <tr style=\"text-align: right;\">\n",
              "      <th></th>\n",
              "      <th>price</th>\n",
              "      <th>bedrooms</th>\n",
              "      <th>bathrooms</th>\n",
              "      <th>sqft_living</th>\n",
              "      <th>floors</th>\n",
              "      <th>grade</th>\n",
              "      <th>sqft_above</th>\n",
              "      <th>yr_built</th>\n",
              "      <th>sqft_living15</th>\n",
              "    </tr>\n",
              "  </thead>\n",
              "  <tbody>\n",
              "    <tr>\n",
              "      <th>count</th>\n",
              "      <td>2.161200e+04</td>\n",
              "      <td>21612.000000</td>\n",
              "      <td>21612.000000</td>\n",
              "      <td>21612.000000</td>\n",
              "      <td>21612.000000</td>\n",
              "      <td>21612.000000</td>\n",
              "      <td>21612.000000</td>\n",
              "      <td>21612.000000</td>\n",
              "      <td>21612.000000</td>\n",
              "    </tr>\n",
              "    <tr>\n",
              "      <th>mean</th>\n",
              "      <td>5.400835e+05</td>\n",
              "      <td>3.369471</td>\n",
              "      <td>1.749769</td>\n",
              "      <td>2079.921016</td>\n",
              "      <td>1.446234</td>\n",
              "      <td>7.656904</td>\n",
              "      <td>1788.425319</td>\n",
              "      <td>1971.006247</td>\n",
              "      <td>1986.582871</td>\n",
              "    </tr>\n",
              "    <tr>\n",
              "      <th>std</th>\n",
              "      <td>3.671351e+05</td>\n",
              "      <td>0.907982</td>\n",
              "      <td>0.734872</td>\n",
              "      <td>918.456818</td>\n",
              "      <td>0.551898</td>\n",
              "      <td>1.175477</td>\n",
              "      <td>828.094487</td>\n",
              "      <td>29.373636</td>\n",
              "      <td>685.392610</td>\n",
              "    </tr>\n",
              "    <tr>\n",
              "      <th>min</th>\n",
              "      <td>7.500000e+04</td>\n",
              "      <td>0.000000</td>\n",
              "      <td>0.000000</td>\n",
              "      <td>290.000000</td>\n",
              "      <td>1.000000</td>\n",
              "      <td>1.000000</td>\n",
              "      <td>290.000000</td>\n",
              "      <td>1900.000000</td>\n",
              "      <td>399.000000</td>\n",
              "    </tr>\n",
              "    <tr>\n",
              "      <th>25%</th>\n",
              "      <td>3.218375e+05</td>\n",
              "      <td>3.000000</td>\n",
              "      <td>1.000000</td>\n",
              "      <td>1426.500000</td>\n",
              "      <td>1.000000</td>\n",
              "      <td>7.000000</td>\n",
              "      <td>1190.000000</td>\n",
              "      <td>1951.000000</td>\n",
              "      <td>1490.000000</td>\n",
              "    </tr>\n",
              "    <tr>\n",
              "      <th>50%</th>\n",
              "      <td>4.500000e+05</td>\n",
              "      <td>3.000000</td>\n",
              "      <td>2.000000</td>\n",
              "      <td>1910.000000</td>\n",
              "      <td>1.000000</td>\n",
              "      <td>7.000000</td>\n",
              "      <td>1560.000000</td>\n",
              "      <td>1975.000000</td>\n",
              "      <td>1840.000000</td>\n",
              "    </tr>\n",
              "    <tr>\n",
              "      <th>75%</th>\n",
              "      <td>6.450000e+05</td>\n",
              "      <td>4.000000</td>\n",
              "      <td>2.000000</td>\n",
              "      <td>2550.000000</td>\n",
              "      <td>2.000000</td>\n",
              "      <td>8.000000</td>\n",
              "      <td>2210.000000</td>\n",
              "      <td>1997.000000</td>\n",
              "      <td>2360.000000</td>\n",
              "    </tr>\n",
              "    <tr>\n",
              "      <th>max</th>\n",
              "      <td>7.700000e+06</td>\n",
              "      <td>11.000000</td>\n",
              "      <td>8.000000</td>\n",
              "      <td>13540.000000</td>\n",
              "      <td>3.000000</td>\n",
              "      <td>13.000000</td>\n",
              "      <td>9410.000000</td>\n",
              "      <td>2015.000000</td>\n",
              "      <td>6210.000000</td>\n",
              "    </tr>\n",
              "  </tbody>\n",
              "</table>\n",
              "</div>\n",
              "      <button class=\"colab-df-convert\" onclick=\"convertToInteractive('df-347480dc-12c1-45ae-8476-f458cff0ec08')\"\n",
              "              title=\"Convert this dataframe to an interactive table.\"\n",
              "              style=\"display:none;\">\n",
              "        \n",
              "  <svg xmlns=\"http://www.w3.org/2000/svg\" height=\"24px\"viewBox=\"0 0 24 24\"\n",
              "       width=\"24px\">\n",
              "    <path d=\"M0 0h24v24H0V0z\" fill=\"none\"/>\n",
              "    <path d=\"M18.56 5.44l.94 2.06.94-2.06 2.06-.94-2.06-.94-.94-2.06-.94 2.06-2.06.94zm-11 1L8.5 8.5l.94-2.06 2.06-.94-2.06-.94L8.5 2.5l-.94 2.06-2.06.94zm10 10l.94 2.06.94-2.06 2.06-.94-2.06-.94-.94-2.06-.94 2.06-2.06.94z\"/><path d=\"M17.41 7.96l-1.37-1.37c-.4-.4-.92-.59-1.43-.59-.52 0-1.04.2-1.43.59L10.3 9.45l-7.72 7.72c-.78.78-.78 2.05 0 2.83L4 21.41c.39.39.9.59 1.41.59.51 0 1.02-.2 1.41-.59l7.78-7.78 2.81-2.81c.8-.78.8-2.07 0-2.86zM5.41 20L4 18.59l7.72-7.72 1.47 1.35L5.41 20z\"/>\n",
              "  </svg>\n",
              "      </button>\n",
              "      \n",
              "  <style>\n",
              "    .colab-df-container {\n",
              "      display:flex;\n",
              "      flex-wrap:wrap;\n",
              "      gap: 12px;\n",
              "    }\n",
              "\n",
              "    .colab-df-convert {\n",
              "      background-color: #E8F0FE;\n",
              "      border: none;\n",
              "      border-radius: 50%;\n",
              "      cursor: pointer;\n",
              "      display: none;\n",
              "      fill: #1967D2;\n",
              "      height: 32px;\n",
              "      padding: 0 0 0 0;\n",
              "      width: 32px;\n",
              "    }\n",
              "\n",
              "    .colab-df-convert:hover {\n",
              "      background-color: #E2EBFA;\n",
              "      box-shadow: 0px 1px 2px rgba(60, 64, 67, 0.3), 0px 1px 3px 1px rgba(60, 64, 67, 0.15);\n",
              "      fill: #174EA6;\n",
              "    }\n",
              "\n",
              "    [theme=dark] .colab-df-convert {\n",
              "      background-color: #3B4455;\n",
              "      fill: #D2E3FC;\n",
              "    }\n",
              "\n",
              "    [theme=dark] .colab-df-convert:hover {\n",
              "      background-color: #434B5C;\n",
              "      box-shadow: 0px 1px 3px 1px rgba(0, 0, 0, 0.15);\n",
              "      filter: drop-shadow(0px 1px 2px rgba(0, 0, 0, 0.3));\n",
              "      fill: #FFFFFF;\n",
              "    }\n",
              "  </style>\n",
              "\n",
              "      <script>\n",
              "        const buttonEl =\n",
              "          document.querySelector('#df-347480dc-12c1-45ae-8476-f458cff0ec08 button.colab-df-convert');\n",
              "        buttonEl.style.display =\n",
              "          google.colab.kernel.accessAllowed ? 'block' : 'none';\n",
              "\n",
              "        async function convertToInteractive(key) {\n",
              "          const element = document.querySelector('#df-347480dc-12c1-45ae-8476-f458cff0ec08');\n",
              "          const dataTable =\n",
              "            await google.colab.kernel.invokeFunction('convertToInteractive',\n",
              "                                                     [key], {});\n",
              "          if (!dataTable) return;\n",
              "\n",
              "          const docLinkHtml = 'Like what you see? Visit the ' +\n",
              "            '<a target=\"_blank\" href=https://colab.research.google.com/notebooks/data_table.ipynb>data table notebook</a>'\n",
              "            + ' to learn more about interactive tables.';\n",
              "          element.innerHTML = '';\n",
              "          dataTable['output_type'] = 'display_data';\n",
              "          await google.colab.output.renderOutput(dataTable, element);\n",
              "          const docLink = document.createElement('div');\n",
              "          docLink.innerHTML = docLinkHtml;\n",
              "          element.appendChild(docLink);\n",
              "        }\n",
              "      </script>\n",
              "    </div>\n",
              "  </div>\n",
              "  "
            ]
          },
          "metadata": {},
          "execution_count": 20
        }
      ],
      "source": [
        "# Melihat rangkuman statistik seperti rata-rata, median, dll pada kolom\n",
        "dataFrame.describe()"
      ]
    },
    {
      "cell_type": "markdown",
      "metadata": {
        "id": "VwGdZRq_t7JA"
      },
      "source": [
        "### EDA(Exploratory Data Analysis)\n",
        "#### Exploratory Data Analysis adalah proses untuk melihat pola-pola tertentu dalam data"
      ]
    },
    {
      "cell_type": "code",
      "execution_count": 21,
      "metadata": {
        "colab": {
          "base_uri": "https://localhost:8080/",
          "height": 206
        },
        "id": "CPuK0pyIt7JB",
        "outputId": "f7adc550-21a0-4a83-a8ce-2f4c7a85bce9"
      },
      "outputs": [
        {
          "output_type": "execute_result",
          "data": {
            "text/plain": [
              "      price  bedrooms  bathrooms  sqft_living  floors  grade  sqft_above  \\\n",
              "0  221900.0         3          1         1180       1      7        1180   \n",
              "1  538000.0         3          2         2570       2      7        2170   \n",
              "2  180000.0         2          1          770       1      6         770   \n",
              "3  604000.0         4          3         1960       1      7        1050   \n",
              "4  510000.0         3          2         1680       1      8        1680   \n",
              "\n",
              "   yr_built  sqft_living15  \n",
              "0      1955           1340  \n",
              "1      1951           1690  \n",
              "2      1933           2720  \n",
              "3      1965           1360  \n",
              "4      1987           1800  "
            ],
            "text/html": [
              "\n",
              "  <div id=\"df-ff5168dd-4a06-471a-a3ac-98a5e071fcac\">\n",
              "    <div class=\"colab-df-container\">\n",
              "      <div>\n",
              "<style scoped>\n",
              "    .dataframe tbody tr th:only-of-type {\n",
              "        vertical-align: middle;\n",
              "    }\n",
              "\n",
              "    .dataframe tbody tr th {\n",
              "        vertical-align: top;\n",
              "    }\n",
              "\n",
              "    .dataframe thead th {\n",
              "        text-align: right;\n",
              "    }\n",
              "</style>\n",
              "<table border=\"1\" class=\"dataframe\">\n",
              "  <thead>\n",
              "    <tr style=\"text-align: right;\">\n",
              "      <th></th>\n",
              "      <th>price</th>\n",
              "      <th>bedrooms</th>\n",
              "      <th>bathrooms</th>\n",
              "      <th>sqft_living</th>\n",
              "      <th>floors</th>\n",
              "      <th>grade</th>\n",
              "      <th>sqft_above</th>\n",
              "      <th>yr_built</th>\n",
              "      <th>sqft_living15</th>\n",
              "    </tr>\n",
              "  </thead>\n",
              "  <tbody>\n",
              "    <tr>\n",
              "      <th>0</th>\n",
              "      <td>221900.0</td>\n",
              "      <td>3</td>\n",
              "      <td>1</td>\n",
              "      <td>1180</td>\n",
              "      <td>1</td>\n",
              "      <td>7</td>\n",
              "      <td>1180</td>\n",
              "      <td>1955</td>\n",
              "      <td>1340</td>\n",
              "    </tr>\n",
              "    <tr>\n",
              "      <th>1</th>\n",
              "      <td>538000.0</td>\n",
              "      <td>3</td>\n",
              "      <td>2</td>\n",
              "      <td>2570</td>\n",
              "      <td>2</td>\n",
              "      <td>7</td>\n",
              "      <td>2170</td>\n",
              "      <td>1951</td>\n",
              "      <td>1690</td>\n",
              "    </tr>\n",
              "    <tr>\n",
              "      <th>2</th>\n",
              "      <td>180000.0</td>\n",
              "      <td>2</td>\n",
              "      <td>1</td>\n",
              "      <td>770</td>\n",
              "      <td>1</td>\n",
              "      <td>6</td>\n",
              "      <td>770</td>\n",
              "      <td>1933</td>\n",
              "      <td>2720</td>\n",
              "    </tr>\n",
              "    <tr>\n",
              "      <th>3</th>\n",
              "      <td>604000.0</td>\n",
              "      <td>4</td>\n",
              "      <td>3</td>\n",
              "      <td>1960</td>\n",
              "      <td>1</td>\n",
              "      <td>7</td>\n",
              "      <td>1050</td>\n",
              "      <td>1965</td>\n",
              "      <td>1360</td>\n",
              "    </tr>\n",
              "    <tr>\n",
              "      <th>4</th>\n",
              "      <td>510000.0</td>\n",
              "      <td>3</td>\n",
              "      <td>2</td>\n",
              "      <td>1680</td>\n",
              "      <td>1</td>\n",
              "      <td>8</td>\n",
              "      <td>1680</td>\n",
              "      <td>1987</td>\n",
              "      <td>1800</td>\n",
              "    </tr>\n",
              "  </tbody>\n",
              "</table>\n",
              "</div>\n",
              "      <button class=\"colab-df-convert\" onclick=\"convertToInteractive('df-ff5168dd-4a06-471a-a3ac-98a5e071fcac')\"\n",
              "              title=\"Convert this dataframe to an interactive table.\"\n",
              "              style=\"display:none;\">\n",
              "        \n",
              "  <svg xmlns=\"http://www.w3.org/2000/svg\" height=\"24px\"viewBox=\"0 0 24 24\"\n",
              "       width=\"24px\">\n",
              "    <path d=\"M0 0h24v24H0V0z\" fill=\"none\"/>\n",
              "    <path d=\"M18.56 5.44l.94 2.06.94-2.06 2.06-.94-2.06-.94-.94-2.06-.94 2.06-2.06.94zm-11 1L8.5 8.5l.94-2.06 2.06-.94-2.06-.94L8.5 2.5l-.94 2.06-2.06.94zm10 10l.94 2.06.94-2.06 2.06-.94-2.06-.94-.94-2.06-.94 2.06-2.06.94z\"/><path d=\"M17.41 7.96l-1.37-1.37c-.4-.4-.92-.59-1.43-.59-.52 0-1.04.2-1.43.59L10.3 9.45l-7.72 7.72c-.78.78-.78 2.05 0 2.83L4 21.41c.39.39.9.59 1.41.59.51 0 1.02-.2 1.41-.59l7.78-7.78 2.81-2.81c.8-.78.8-2.07 0-2.86zM5.41 20L4 18.59l7.72-7.72 1.47 1.35L5.41 20z\"/>\n",
              "  </svg>\n",
              "      </button>\n",
              "      \n",
              "  <style>\n",
              "    .colab-df-container {\n",
              "      display:flex;\n",
              "      flex-wrap:wrap;\n",
              "      gap: 12px;\n",
              "    }\n",
              "\n",
              "    .colab-df-convert {\n",
              "      background-color: #E8F0FE;\n",
              "      border: none;\n",
              "      border-radius: 50%;\n",
              "      cursor: pointer;\n",
              "      display: none;\n",
              "      fill: #1967D2;\n",
              "      height: 32px;\n",
              "      padding: 0 0 0 0;\n",
              "      width: 32px;\n",
              "    }\n",
              "\n",
              "    .colab-df-convert:hover {\n",
              "      background-color: #E2EBFA;\n",
              "      box-shadow: 0px 1px 2px rgba(60, 64, 67, 0.3), 0px 1px 3px 1px rgba(60, 64, 67, 0.15);\n",
              "      fill: #174EA6;\n",
              "    }\n",
              "\n",
              "    [theme=dark] .colab-df-convert {\n",
              "      background-color: #3B4455;\n",
              "      fill: #D2E3FC;\n",
              "    }\n",
              "\n",
              "    [theme=dark] .colab-df-convert:hover {\n",
              "      background-color: #434B5C;\n",
              "      box-shadow: 0px 1px 3px 1px rgba(0, 0, 0, 0.15);\n",
              "      filter: drop-shadow(0px 1px 2px rgba(0, 0, 0, 0.3));\n",
              "      fill: #FFFFFF;\n",
              "    }\n",
              "  </style>\n",
              "\n",
              "      <script>\n",
              "        const buttonEl =\n",
              "          document.querySelector('#df-ff5168dd-4a06-471a-a3ac-98a5e071fcac button.colab-df-convert');\n",
              "        buttonEl.style.display =\n",
              "          google.colab.kernel.accessAllowed ? 'block' : 'none';\n",
              "\n",
              "        async function convertToInteractive(key) {\n",
              "          const element = document.querySelector('#df-ff5168dd-4a06-471a-a3ac-98a5e071fcac');\n",
              "          const dataTable =\n",
              "            await google.colab.kernel.invokeFunction('convertToInteractive',\n",
              "                                                     [key], {});\n",
              "          if (!dataTable) return;\n",
              "\n",
              "          const docLinkHtml = 'Like what you see? Visit the ' +\n",
              "            '<a target=\"_blank\" href=https://colab.research.google.com/notebooks/data_table.ipynb>data table notebook</a>'\n",
              "            + ' to learn more about interactive tables.';\n",
              "          element.innerHTML = '';\n",
              "          dataTable['output_type'] = 'display_data';\n",
              "          await google.colab.output.renderOutput(dataTable, element);\n",
              "          const docLink = document.createElement('div');\n",
              "          docLink.innerHTML = docLinkHtml;\n",
              "          element.appendChild(docLink);\n",
              "        }\n",
              "      </script>\n",
              "    </div>\n",
              "  </div>\n",
              "  "
            ]
          },
          "metadata": {},
          "execution_count": 21
        }
      ],
      "source": [
        "dataFrame.head()"
      ]
    },
    {
      "cell_type": "markdown",
      "metadata": {
        "id": "nQ5StdMqlF6T"
      },
      "source": [
        "Membuat pairplot untuk melihat hubungan antar variabel"
      ]
    },
    {
      "cell_type": "code",
      "execution_count": 22,
      "metadata": {
        "id": "pnd9RAt-aXU4"
      },
      "outputs": [],
      "source": [
        "# membuat pairplot untuk melihat hubungan antar variabel\n",
        "# sns.pairplot(dataFrame)"
      ]
    },
    {
      "cell_type": "markdown",
      "metadata": {
        "id": "M-hIOEJIt7JB"
      },
      "source": [
        "### Melakukan Univariate Analysis \n",
        "#### Univariate Analysis berfungsi untuk menganalisa tiap variabel tanpa melihat hubungan dengan variabel lain."
      ]
    },
    {
      "cell_type": "markdown",
      "metadata": {
        "id": "g77UsB69lF6T"
      },
      "source": [
        "univariate analysis variabel 'bedrooms'"
      ]
    },
    {
      "cell_type": "code",
      "execution_count": 23,
      "metadata": {
        "colab": {
          "base_uri": "https://localhost:8080/",
          "height": 552
        },
        "id": "Htop83jDt7JC",
        "outputId": "2fb691fb-fd8f-4d08-f24e-368cb56776bb"
      },
      "outputs": [
        {
          "output_type": "stream",
          "name": "stderr",
          "text": [
            "/usr/local/lib/python3.7/dist-packages/seaborn/_decorators.py:43: FutureWarning: Pass the following variable as a keyword arg: x. From version 0.12, the only valid positional argument will be `data`, and passing other arguments without an explicit keyword will result in an error or misinterpretation.\n",
            "  FutureWarning\n"
          ]
        },
        {
          "output_type": "display_data",
          "data": {
            "text/plain": [
              "<Figure size 1440x576 with 2 Axes>"
            ],
            "image/png": "[encoded data removed]"
          },
          "metadata": {
            "needs_background": "light"
          }
        }
      ],
      "source": [
        "# univariate analysis variabel 'bedrooms'\n",
        "f = plt.figure(figsize=(20,8))\n",
        "\n",
        "# add_subplot(baris, kolom, posisi)\n",
        "\n",
        "#plot kiri\n",
        "f.add_subplot(1,2,1)\n",
        "sns.countplot(dataFrame['bedrooms'])\n",
        "\n",
        "#plot kanan\n",
        "f.add_subplot(1,2,2)\n",
        "#membuat boxplot untuk variabel 'bedrooms'\n",
        "plt.boxplot(dataFrame['bedrooms'])\n",
        "plt.show()"
      ]
    },
    {
      "cell_type": "markdown",
      "metadata": {
        "id": "K_ykQzxbt7JC"
      },
      "source": [
        "informasi:\n",
        "- kebanyakan jumlah bedrooms dalam rumah adalah 3 dan 4\n",
        "- banyak memiliki outliers dilihat dari data diluar garis minimum dan maksimum"
      ]
    },
    {
      "cell_type": "markdown",
      "metadata": {
        "id": "fR1rlPMXlF6T"
      },
      "source": [
        "univariate analysis variabel 'bathrooms'"
      ]
    },
    {
      "cell_type": "code",
      "execution_count": 24,
      "metadata": {
        "colab": {
          "base_uri": "https://localhost:8080/",
          "height": 552
        },
        "id": "TzitNay_t7JC",
        "outputId": "8db7d2cc-c27e-4cc6-c833-e15fba8ed23c"
      },
      "outputs": [
        {
          "output_type": "stream",
          "name": "stderr",
          "text": [
            "/usr/local/lib/python3.7/dist-packages/seaborn/_decorators.py:43: FutureWarning: Pass the following variable as a keyword arg: x. From version 0.12, the only valid positional argument will be `data`, and passing other arguments without an explicit keyword will result in an error or misinterpretation.\n",
            "  FutureWarning\n"
          ]
        },
        {
          "output_type": "display_data",
          "data": {
            "text/plain": [
              "<Figure size 1440x576 with 2 Axes>"
            ],
            "image/png": "[encoded data removed]"
          },
          "metadata": {
            "needs_background": "light"
          }
        }
      ],
      "source": [
        "# univariate analysis variabel 'bathrooms'\n",
        "f = plt.figure(figsize=(20,8))\n",
        "\n",
        "# add_subplot(baris, kolom, posisi)\n",
        "f.add_subplot(1,2,1)\n",
        "sns.countplot(dataFrame['bathrooms'])\n",
        "\n",
        "#membuat boxplot untuk variabel 'bathrooms'\n",
        "f.add_subplot(1,2,2)\n",
        "plt.boxplot(dataFrame['bathrooms'])\n",
        "\n",
        "\n",
        "plt.show()"
      ]
    },
    {
      "cell_type": "code",
      "execution_count": 25,
      "metadata": {
        "colab": {
          "base_uri": "https://localhost:8080/"
        },
        "id": "NJj0Oucet7JD",
        "outputId": "db4643d0-0404-4b14-f83b-d1fa3e5c11a3"
      },
      "outputs": [
        {
          "output_type": "execute_result",
          "data": {
            "text/plain": [
              "0       86\n",
              "1     8354\n",
              "2    10542\n",
              "3     2228\n",
              "4      338\n",
              "5       48\n",
              "6       12\n",
              "7        2\n",
              "8        2\n",
              "Name: bathrooms, dtype: int64"
            ]
          },
          "metadata": {},
          "execution_count": 25
        }
      ],
      "source": [
        "#melihat nilai tertinggi pada kolom 'bathrooms'\n",
        "dataFrame['bathrooms'].value_counts().sort_index(ascending=True)"
      ]
    },
    {
      "cell_type": "markdown",
      "metadata": {
        "id": "gig2cge5lF6U"
      },
      "source": [
        "informasi:\n",
        "- kebanyakan jumlah bathrooms dalam rumah adalah 1 dan 2\n",
        "- ada beberapa outliers dilihat dari data diluar garis maksimum"
      ]
    },
    {
      "cell_type": "markdown",
      "metadata": {
        "id": "4W76TTlXlF6U"
      },
      "source": [
        "univariate analysis variabel 'sqft_living'"
      ]
    },
    {
      "cell_type": "code",
      "execution_count": 26,
      "metadata": {
        "colab": {
          "base_uri": "https://localhost:8080/",
          "height": 498
        },
        "id": "pNysn2avt7JD",
        "outputId": "963a03b3-a9b7-4de9-df18-1a98ff30b7b4"
      },
      "outputs": [
        {
          "output_type": "display_data",
          "data": {
            "text/plain": [
              "<Figure size 1440x576 with 2 Axes>"
            ],
            "image/png": "[encoded data removed]"
          },
          "metadata": {
            "needs_background": "light"
          }
        }
      ],
      "source": [
        "#univariate analysis variabel 'sqft_living'\n",
        "f = plt.figure(figsize=(20,8))\n",
        "\n",
        "# add_subplot(baris, kolom, posisi)\n",
        "f.add_subplot(1,2,1)\n",
        "dataFrame['sqft_living'].plot(kind='kde')\n",
        "plt.xlabel('sqft_living')\n",
        "\n",
        "f.add_subplot(1,2,2)\n",
        "#membuat boxplot untuk variabel 'sqft_living'\n",
        "plt.boxplot(dataFrame['sqft_living'])\n",
        "plt.show()"
      ]
    },
    {
      "cell_type": "markdown",
      "metadata": {
        "id": "1neUkpQBt7JE"
      },
      "source": [
        "informasi:\n",
        "- density(kepadatan) dari luas rumah(sqft_living) ada di angka 2000an\n",
        "- dilihat dari boxplot, ada banyak outliers di atas garis maksimum"
      ]
    },
    {
      "cell_type": "markdown",
      "metadata": {
        "id": "ByKuGQsxlF6V"
      },
      "source": [
        "univariate analysis variabel 'sqft_above'"
      ]
    },
    {
      "cell_type": "code",
      "execution_count": 27,
      "metadata": {
        "colab": {
          "base_uri": "https://localhost:8080/",
          "height": 498
        },
        "id": "tMubqIvPlF6V",
        "outputId": "027c8c9a-4bb8-406f-e58f-99a070ef95bc"
      },
      "outputs": [
        {
          "output_type": "display_data",
          "data": {
            "text/plain": [
              "<Figure size 1440x576 with 2 Axes>"
            ],
            "image/png": "[encoded data removed]"
          },
          "metadata": {
            "needs_background": "light"
          }
        }
      ],
      "source": [
        "#univariate analysis variabel 'sqft_living'\n",
        "f = plt.figure(figsize=(20,8))\n",
        "\n",
        "# add_subplot(baris, kolom, posisi)\n",
        "f.add_subplot(1,2,1)\n",
        "dataFrame['sqft_above'].plot(kind='kde')\n",
        "plt.xlabel('sqft_above')\n",
        "\n",
        "f.add_subplot(1,2,2)\n",
        "plt.boxplot(dataFrame['sqft_above'])\n",
        "plt.show()"
      ]
    },
    {
      "cell_type": "markdown",
      "metadata": {
        "id": "caTJPybPlF6V"
      },
      "source": [
        "informasi:\n",
        "- density(kepadatan) dari luas rumah(sqft_above) ada di angka 1500an\n",
        "- dilihat dari boxplot, ada banyak outliers di atas garis maksimum"
      ]
    },
    {
      "cell_type": "markdown",
      "metadata": {
        "id": "DRiQLAjilF6V"
      },
      "source": [
        "univariate analysis variabel 'sqft_living15'"
      ]
    },
    {
      "cell_type": "code",
      "execution_count": 28,
      "metadata": {
        "colab": {
          "base_uri": "https://localhost:8080/",
          "height": 498
        },
        "id": "MyYNdqwclF6V",
        "outputId": "44d93ffc-c04e-4c9f-d876-6c54cf4f0b25"
      },
      "outputs": [
        {
          "output_type": "display_data",
          "data": {
            "text/plain": [
              "<Figure size 1440x576 with 2 Axes>"
            ],
            "image/png": "[encoded data removed]"
          },
          "metadata": {
            "needs_background": "light"
          }
        }
      ],
      "source": [
        "#univariate analysis variabel 'sqft_living'\n",
        "f = plt.figure(figsize=(20,8))\n",
        "\n",
        "# add_subplot(baris, kolom, posisi)\n",
        "f.add_subplot(1,2,1)\n",
        "dataFrame['sqft_living15'].plot(kind='kde')\n",
        "plt.xlabel('sqft_living15')\n",
        "\n",
        "f.add_subplot(1,2,2)\n",
        "plt.boxplot(dataFrame['sqft_living15'])\n",
        "plt.show()"
      ]
    },
    {
      "cell_type": "markdown",
      "metadata": {
        "id": "4N1qCgXylF6W"
      },
      "source": [
        "informasi:\n",
        "- density(kepadatan) dari luas rumah(sqft_living15) ada di angka 1500an\n",
        "- dilihat dari boxplot, ada banyak outliers di atas garis maksimum\n",
        "\n",
        "kepadatan antara 'sqft_living', 'sqft_above', dan 'sqft_living15' memiliki kemiripan"
      ]
    },
    {
      "cell_type": "markdown",
      "metadata": {
        "id": "pO-4iZzelF6W"
      },
      "source": [
        "univariate analysis variabel 'grade'"
      ]
    },
    {
      "cell_type": "code",
      "execution_count": 29,
      "metadata": {
        "colab": {
          "base_uri": "https://localhost:8080/",
          "height": 552
        },
        "id": "nk9981jBt7JE",
        "outputId": "c6a9f884-bdf5-411c-efac-02d4196d2976"
      },
      "outputs": [
        {
          "output_type": "stream",
          "name": "stderr",
          "text": [
            "/usr/local/lib/python3.7/dist-packages/seaborn/_decorators.py:43: FutureWarning: Pass the following variable as a keyword arg: x. From version 0.12, the only valid positional argument will be `data`, and passing other arguments without an explicit keyword will result in an error or misinterpretation.\n",
            "  FutureWarning\n"
          ]
        },
        {
          "output_type": "display_data",
          "data": {
            "text/plain": [
              "<Figure size 1440x576 with 2 Axes>"
            ],
            "image/png": "[encoded data removed]"
          },
          "metadata": {
            "needs_background": "light"
          }
        }
      ],
      "source": [
        "# #univariate analysis variabel 'grade'\n",
        "f = plt.figure(figsize=(20,8))\n",
        "\n",
        "# add_subplot(baris, kolom, posisi)\n",
        "f.add_subplot(1,2,1)\n",
        "sns.countplot(dataFrame['grade'])\n",
        "\n",
        "#membuat boxplot untuk variabel 'grade'\n",
        "f.add_subplot(1,2,2)\n",
        "plt.boxplot(dataFrame['grade'])\n",
        "plt.show()"
      ]
    },
    {
      "cell_type": "code",
      "execution_count": 30,
      "metadata": {
        "colab": {
          "base_uri": "https://localhost:8080/"
        },
        "id": "Eep3PSaNlF6W",
        "outputId": "6d4b1de0-51f6-45fc-f530-f4d77a6cb15e"
      },
      "outputs": [
        {
          "output_type": "execute_result",
          "data": {
            "text/plain": [
              "1        1\n",
              "3        3\n",
              "4       29\n",
              "5      242\n",
              "6     2038\n",
              "7     8980\n",
              "8     6068\n",
              "9     2615\n",
              "10    1134\n",
              "11     399\n",
              "12      90\n",
              "13      13\n",
              "Name: grade, dtype: int64"
            ]
          },
          "metadata": {},
          "execution_count": 30
        }
      ],
      "source": [
        "dataFrame['grade'].value_counts().sort_index(ascending = True)"
      ]
    },
    {
      "cell_type": "markdown",
      "metadata": {
        "id": "IxdGR20pt7JF"
      },
      "source": [
        "informasi:\n",
        "- kebanyakan rumah memiliki grade 7 dan 8\n",
        "- boxplot menunjukkan ada outlier di bawah garis minimum dan diatas garis maksimum"
      ]
    },
    {
      "cell_type": "markdown",
      "metadata": {
        "id": "KBz5eTEPlF6W"
      },
      "source": [
        "univariate analysis variabel 'floors'"
      ]
    },
    {
      "cell_type": "code",
      "execution_count": 31,
      "metadata": {
        "colab": {
          "base_uri": "https://localhost:8080/",
          "height": 552
        },
        "id": "ttPYmG2RdcA0",
        "outputId": "3d05b3e8-1fbc-4bb5-faef-2e810bfd78c9"
      },
      "outputs": [
        {
          "output_type": "stream",
          "name": "stderr",
          "text": [
            "/usr/local/lib/python3.7/dist-packages/seaborn/_decorators.py:43: FutureWarning: Pass the following variable as a keyword arg: x. From version 0.12, the only valid positional argument will be `data`, and passing other arguments without an explicit keyword will result in an error or misinterpretation.\n",
            "  FutureWarning\n"
          ]
        },
        {
          "output_type": "display_data",
          "data": {
            "text/plain": [
              "<Figure size 1440x576 with 2 Axes>"
            ],
            "image/png": "[encoded data removed]"
          },
          "metadata": {
            "needs_background": "light"
          }
        }
      ],
      "source": [
        "# univariate analysis variabel 'floors'\n",
        "f = plt.figure(figsize=(20,8))\n",
        "\n",
        "# add_subplot(baris, kolom, posisi)\n",
        "f.add_subplot(1,2,1)\n",
        "sns.countplot(dataFrame['floors'])\n",
        "\n",
        "#membuat boxplot untuk variabel 'floors'\n",
        "f.add_subplot(1,2,2)\n",
        "plt.boxplot(dataFrame['floors'])\n",
        "plt.show()"
      ]
    },
    {
      "cell_type": "code",
      "execution_count": 32,
      "metadata": {
        "colab": {
          "base_uri": "https://localhost:8080/"
        },
        "id": "x6M9o6XMlF6W",
        "outputId": "813baf45-5790-4d83-a29f-ef8bf68fb7a1"
      },
      "outputs": [
        {
          "output_type": "execute_result",
          "data": {
            "text/plain": [
              "1    12589\n",
              "2     8402\n",
              "3      621\n",
              "Name: floors, dtype: int64"
            ]
          },
          "metadata": {},
          "execution_count": 32
        }
      ],
      "source": [
        "dataFrame['floors'].value_counts().sort_index(ascending = True)"
      ]
    },
    {
      "cell_type": "markdown",
      "metadata": {
        "id": "RUwA4k-MlF6X"
      },
      "source": [
        "informasi:\n",
        "- kebanyakan rumah memiliki 1 lantai"
      ]
    },
    {
      "cell_type": "markdown",
      "metadata": {
        "id": "rBxZSB_Tt7JH"
      },
      "source": [
        "### Bivariate analysis \n",
        "#### Bivariate analysis berfungsi untuk melihat hubungan antara variabel satu dengan variabel lain, dalam kasus ini adalah variabel indepen terhadap variabel dependen(price)\n"
      ]
    },
    {
      "cell_type": "code",
      "execution_count": 33,
      "metadata": {
        "colab": {
          "base_uri": "https://localhost:8080/",
          "height": 339
        },
        "id": "LBRJ8SMut7JI",
        "outputId": "ee1c3ab1-7c41-4e9c-8c9a-f30b1cd498ed"
      },
      "outputs": [
        {
          "output_type": "stream",
          "name": "stderr",
          "text": [
            "/usr/local/lib/python3.7/dist-packages/seaborn/axisgrid.py:2076: UserWarning: The `size` parameter has been renamed to `height`; please update your code.\n",
            "  warnings.warn(msg, UserWarning)\n"
          ]
        },
        {
          "output_type": "execute_result",
          "data": {
            "text/plain": [
              "<seaborn.axisgrid.PairGrid at 0x7efbdcab6490>"
            ]
          },
          "metadata": {},
          "execution_count": 33
        },
        {
          "output_type": "display_data",
          "data": {
            "text/plain": [
              "<Figure size 2016x360 with 8 Axes>"
            ],
            "image/png": "[encoded data removed]"
          },
          "metadata": {
            "needs_background": "light"
          }
        }
      ],
      "source": [
        "plt.Figure(figsize=(10, 8))\n",
        "sns.pairplot(data=dataFrame,\n",
        "             x_vars=['sqft_living', 'grade', 'sqft_above', 'sqft_living15', 'bathrooms', 'bedrooms','floors', 'yr_built'], \n",
        "             y_vars=['price'],\n",
        "             size=5,\n",
        "             aspect=0.7)"
      ]
    },
    {
      "cell_type": "markdown",
      "metadata": {
        "id": "Di8OsDzjlF6X"
      },
      "source": [
        "informasi:\n",
        "- 'sqft_living' hingga 6000 memiliki kepadatan yang tinggi, harga rumah memiliki variasi yang lebih pada ukuran 'sqft_living' tersebut\n",
        "- semakin tinggi 'grade' maka semakin bervariasi harga dari rumah, namun semakin tinggi 'grade' data tersebut semakin jarang\n",
        "- 'sqft_above' memiliki persebaran yang mirip dengan 'sqft_living'\n",
        "- 'sqft_living15' memiliki persebaran yang lebih luas dibanding 'sqft_living' dan 'sqft_above'\n",
        "- Semakin banyak jumlah 'bathrooms' maka semakin bervariasi harga dari rumah\n",
        "- rumah dengan jumlah 'bedrooms' 5 dan 6 justru memiliki harga yang lebih tinggi dibanding rumah dengan 'bedrooms' yang lebih banyal\n",
        "- 'floors' dengan angka 2 memiliki harga yang lebih bervariasi dan lebih tinggi dibanding 1 dan 3"
      ]
    },
    {
      "cell_type": "markdown",
      "metadata": {
        "id": "4_P7_TVklF6X"
      },
      "source": [
        "Melihat variabel yang paling berpengaruh terhadap harga"
      ]
    },
    {
      "cell_type": "code",
      "execution_count": 34,
      "metadata": {
        "colab": {
          "base_uri": "https://localhost:8080/",
          "height": 463
        },
        "id": "x06z8YBC0_xH",
        "outputId": "2295f8e6-b3eb-4cc3-be68-1b067f9e3add"
      },
      "outputs": [
        {
          "output_type": "display_data",
          "data": {
            "text/plain": [
              "<Figure size 1440x432 with 3 Axes>"
            ],
            "image/png": "[encoded data removed]"
          },
          "metadata": {
            "needs_background": "light"
          }
        }
      ],
      "source": [
        "# Melihat variabel yang paling berpengaruh terhadap harga\n",
        "cor = dataFrame.corr()['price'].sort_values(ascending=False).drop(['price'])\n",
        "f=plt.figure(figsize=(20,6))\n",
        "\n",
        "f.add_subplot(1,2,1)\n",
        "plt.bar(x=list(cor.index), height=list(cor.values), color='teal')\n",
        "plt.xticks(rotation=90)\n",
        "plt.xlabel('Feature', fontsize=12)\n",
        "plt.ylabel('Correlation', fontsize=12)\n",
        "plt.title('Correlation of Features with Price', fontsize=15)\n",
        "\n",
        "f.add_subplot(1,2,2)\n",
        "sns.heatmap(dataFrame.corr(), annot=True)\n",
        "\n",
        "plt.show()"
      ]
    },
    {
      "cell_type": "markdown",
      "metadata": {
        "id": "r6Wev1r9lF6X"
      },
      "source": [
        "dari seluruh variabel yang telah dipilih, variabel 'sqft_living' memiliki pengaruh paling tinggi terhadap harga, sedangkan variabel 'floors' memiliki pengaruh paling rendah terhadap harga"
      ]
    },
    {
      "cell_type": "markdown",
      "metadata": {
        "id": "8AqqynTtt7JJ"
      },
      "source": [
        "## 3. Modelling\n",
        "\n",
        "Dalam proses ini kita akan melakukan pembagian data menjadi data train dan data test, kemudian membandingkan akurasi dari beberapa algoritma regression"
      ]
    },
    {
      "cell_type": "code",
      "execution_count": 35,
      "metadata": {
        "colab": {
          "base_uri": "https://localhost:8080/",
          "height": 363
        },
        "id": "poHhiKQXt7JJ",
        "outputId": "54444e5b-acaf-4724-971a-bfeb2d49bfce"
      },
      "outputs": [
        {
          "output_type": "execute_result",
          "data": {
            "text/plain": [
              "       price  bedrooms  bathrooms  sqft_living  floors  grade  sqft_above  \\\n",
              "0   221900.0         3          1         1180       1      7        1180   \n",
              "1   538000.0         3          2         2570       2      7        2170   \n",
              "2   180000.0         2          1          770       1      6         770   \n",
              "3   604000.0         4          3         1960       1      7        1050   \n",
              "4   510000.0         3          2         1680       1      8        1680   \n",
              "5  1225000.0         4          4         5420       1     11        3890   \n",
              "6   257500.0         3          2         1715       2      7        1715   \n",
              "7   291850.0         3          1         1060       1      7        1060   \n",
              "8   229500.0         3          1         1780       1      7        1050   \n",
              "9   323000.0         3          2         1890       2      7        1890   \n",
              "\n",
              "   yr_built  sqft_living15  \n",
              "0      1955           1340  \n",
              "1      1951           1690  \n",
              "2      1933           2720  \n",
              "3      1965           1360  \n",
              "4      1987           1800  \n",
              "5      2001           4760  \n",
              "6      1995           2238  \n",
              "7      1963           1650  \n",
              "8      1960           1780  \n",
              "9      2003           2390  "
            ],
            "text/html": [
              "\n",
              "  <div id=\"df-46c954c6-ab77-4901-8dcf-0237a91e194e\">\n",
              "    <div class=\"colab-df-container\">\n",
              "      <div>\n",
              "<style scoped>\n",
              "    .dataframe tbody tr th:only-of-type {\n",
              "        vertical-align: middle;\n",
              "    }\n",
              "\n",
              "    .dataframe tbody tr th {\n",
              "        vertical-align: top;\n",
              "    }\n",
              "\n",
              "    .dataframe thead th {\n",
              "        text-align: right;\n",
              "    }\n",
              "</style>\n",
              "<table border=\"1\" class=\"dataframe\">\n",
              "  <thead>\n",
              "    <tr style=\"text-align: right;\">\n",
              "      <th></th>\n",
              "      <th>price</th>\n",
              "      <th>bedrooms</th>\n",
              "      <th>bathrooms</th>\n",
              "      <th>sqft_living</th>\n",
              "      <th>floors</th>\n",
              "      <th>grade</th>\n",
              "      <th>sqft_above</th>\n",
              "      <th>yr_built</th>\n",
              "      <th>sqft_living15</th>\n",
              "    </tr>\n",
              "  </thead>\n",
              "  <tbody>\n",
              "    <tr>\n",
              "      <th>0</th>\n",
              "      <td>221900.0</td>\n",
              "      <td>3</td>\n",
              "      <td>1</td>\n",
              "      <td>1180</td>\n",
              "      <td>1</td>\n",
              "      <td>7</td>\n",
              "      <td>1180</td>\n",
              "      <td>1955</td>\n",
              "      <td>1340</td>\n",
              "    </tr>\n",
              "    <tr>\n",
              "      <th>1</th>\n",
              "      <td>538000.0</td>\n",
              "      <td>3</td>\n",
              "      <td>2</td>\n",
              "      <td>2570</td>\n",
              "      <td>2</td>\n",
              "      <td>7</td>\n",
              "      <td>2170</td>\n",
              "      <td>1951</td>\n",
              "      <td>1690</td>\n",
              "    </tr>\n",
              "    <tr>\n",
              "      <th>2</th>\n",
              "      <td>180000.0</td>\n",
              "      <td>2</td>\n",
              "      <td>1</td>\n",
              "      <td>770</td>\n",
              "      <td>1</td>\n",
              "      <td>6</td>\n",
              "      <td>770</td>\n",
              "      <td>1933</td>\n",
              "      <td>2720</td>\n",
              "    </tr>\n",
              "    <tr>\n",
              "      <th>3</th>\n",
              "      <td>604000.0</td>\n",
              "      <td>4</td>\n",
              "      <td>3</td>\n",
              "      <td>1960</td>\n",
              "      <td>1</td>\n",
              "      <td>7</td>\n",
              "      <td>1050</td>\n",
              "      <td>1965</td>\n",
              "      <td>1360</td>\n",
              "    </tr>\n",
              "    <tr>\n",
              "      <th>4</th>\n",
              "      <td>510000.0</td>\n",
              "      <td>3</td>\n",
              "      <td>2</td>\n",
              "      <td>1680</td>\n",
              "      <td>1</td>\n",
              "      <td>8</td>\n",
              "      <td>1680</td>\n",
              "      <td>1987</td>\n",
              "      <td>1800</td>\n",
              "    </tr>\n",
              "    <tr>\n",
              "      <th>5</th>\n",
              "      <td>1225000.0</td>\n",
              "      <td>4</td>\n",
              "      <td>4</td>\n",
              "      <td>5420</td>\n",
              "      <td>1</td>\n",
              "      <td>11</td>\n",
              "      <td>3890</td>\n",
              "      <td>2001</td>\n",
              "      <td>4760</td>\n",
              "    </tr>\n",
              "    <tr>\n",
              "      <th>6</th>\n",
              "      <td>257500.0</td>\n",
              "      <td>3</td>\n",
              "      <td>2</td>\n",
              "      <td>1715</td>\n",
              "      <td>2</td>\n",
              "      <td>7</td>\n",
              "      <td>1715</td>\n",
              "      <td>1995</td>\n",
              "      <td>2238</td>\n",
              "    </tr>\n",
              "    <tr>\n",
              "      <th>7</th>\n",
              "      <td>291850.0</td>\n",
              "      <td>3</td>\n",
              "      <td>1</td>\n",
              "      <td>1060</td>\n",
              "      <td>1</td>\n",
              "      <td>7</td>\n",
              "      <td>1060</td>\n",
              "      <td>1963</td>\n",
              "      <td>1650</td>\n",
              "    </tr>\n",
              "    <tr>\n",
              "      <th>8</th>\n",
              "      <td>229500.0</td>\n",
              "      <td>3</td>\n",
              "      <td>1</td>\n",
              "      <td>1780</td>\n",
              "      <td>1</td>\n",
              "      <td>7</td>\n",
              "      <td>1050</td>\n",
              "      <td>1960</td>\n",
              "      <td>1780</td>\n",
              "    </tr>\n",
              "    <tr>\n",
              "      <th>9</th>\n",
              "      <td>323000.0</td>\n",
              "      <td>3</td>\n",
              "      <td>2</td>\n",
              "      <td>1890</td>\n",
              "      <td>2</td>\n",
              "      <td>7</td>\n",
              "      <td>1890</td>\n",
              "      <td>2003</td>\n",
              "      <td>2390</td>\n",
              "    </tr>\n",
              "  </tbody>\n",
              "</table>\n",
              "</div>\n",
              "      <button class=\"colab-df-convert\" onclick=\"convertToInteractive('df-46c954c6-ab77-4901-8dcf-0237a91e194e')\"\n",
              "              title=\"Convert this dataframe to an interactive table.\"\n",
              "              style=\"display:none;\">\n",
              "        \n",
              "  <svg xmlns=\"http://www.w3.org/2000/svg\" height=\"24px\"viewBox=\"0 0 24 24\"\n",
              "       width=\"24px\">\n",
              "    <path d=\"M0 0h24v24H0V0z\" fill=\"none\"/>\n",
              "    <path d=\"M18.56 5.44l.94 2.06.94-2.06 2.06-.94-2.06-.94-.94-2.06-.94 2.06-2.06.94zm-11 1L8.5 8.5l.94-2.06 2.06-.94-2.06-.94L8.5 2.5l-.94 2.06-2.06.94zm10 10l.94 2.06.94-2.06 2.06-.94-2.06-.94-.94-2.06-.94 2.06-2.06.94z\"/><path d=\"M17.41 7.96l-1.37-1.37c-.4-.4-.92-.59-1.43-.59-.52 0-1.04.2-1.43.59L10.3 9.45l-7.72 7.72c-.78.78-.78 2.05 0 2.83L4 21.41c.39.39.9.59 1.41.59.51 0 1.02-.2 1.41-.59l7.78-7.78 2.81-2.81c.8-.78.8-2.07 0-2.86zM5.41 20L4 18.59l7.72-7.72 1.47 1.35L5.41 20z\"/>\n",
              "  </svg>\n",
              "      </button>\n",
              "      \n",
              "  <style>\n",
              "    .colab-df-container {\n",
              "      display:flex;\n",
              "      flex-wrap:wrap;\n",
              "      gap: 12px;\n",
              "    }\n",
              "\n",
              "    .colab-df-convert {\n",
              "      background-color: #E8F0FE;\n",
              "      border: none;\n",
              "      border-radius: 50%;\n",
              "      cursor: pointer;\n",
              "      display: none;\n",
              "      fill: #1967D2;\n",
              "      height: 32px;\n",
              "      padding: 0 0 0 0;\n",
              "      width: 32px;\n",
              "    }\n",
              "\n",
              "    .colab-df-convert:hover {\n",
              "      background-color: #E2EBFA;\n",
              "      box-shadow: 0px 1px 2px rgba(60, 64, 67, 0.3), 0px 1px 3px 1px rgba(60, 64, 67, 0.15);\n",
              "      fill: #174EA6;\n",
              "    }\n",
              "\n",
              "    [theme=dark] .colab-df-convert {\n",
              "      background-color: #3B4455;\n",
              "      fill: #D2E3FC;\n",
              "    }\n",
              "\n",
              "    [theme=dark] .colab-df-convert:hover {\n",
              "      background-color: #434B5C;\n",
              "      box-shadow: 0px 1px 3px 1px rgba(0, 0, 0, 0.15);\n",
              "      filter: drop-shadow(0px 1px 2px rgba(0, 0, 0, 0.3));\n",
              "      fill: #FFFFFF;\n",
              "    }\n",
              "  </style>\n",
              "\n",
              "      <script>\n",
              "        const buttonEl =\n",
              "          document.querySelector('#df-46c954c6-ab77-4901-8dcf-0237a91e194e button.colab-df-convert');\n",
              "        buttonEl.style.display =\n",
              "          google.colab.kernel.accessAllowed ? 'block' : 'none';\n",
              "\n",
              "        async function convertToInteractive(key) {\n",
              "          const element = document.querySelector('#df-46c954c6-ab77-4901-8dcf-0237a91e194e');\n",
              "          const dataTable =\n",
              "            await google.colab.kernel.invokeFunction('convertToInteractive',\n",
              "                                                     [key], {});\n",
              "          if (!dataTable) return;\n",
              "\n",
              "          const docLinkHtml = 'Like what you see? Visit the ' +\n",
              "            '<a target=\"_blank\" href=https://colab.research.google.com/notebooks/data_table.ipynb>data table notebook</a>'\n",
              "            + ' to learn more about interactive tables.';\n",
              "          element.innerHTML = '';\n",
              "          dataTable['output_type'] = 'display_data';\n",
              "          await google.colab.output.renderOutput(dataTable, element);\n",
              "          const docLink = document.createElement('div');\n",
              "          docLink.innerHTML = docLinkHtml;\n",
              "          element.appendChild(docLink);\n",
              "        }\n",
              "      </script>\n",
              "    </div>\n",
              "  </div>\n",
              "  "
            ]
          },
          "metadata": {},
          "execution_count": 35
        }
      ],
      "source": [
        "#melihat 10 data pertama\n",
        "dataFrame.head(10)"
      ]
    },
    {
      "cell_type": "code",
      "execution_count": 36,
      "metadata": {
        "colab": {
          "base_uri": "https://localhost:8080/",
          "height": 363
        },
        "id": "_sTwOSxhbx9b",
        "outputId": "32705b1b-c252-4d97-d553-6bcf473713e5"
      },
      "outputs": [
        {
          "output_type": "execute_result",
          "data": {
            "text/plain": [
              "           price  bedrooms  bathrooms  sqft_living  floors  grade  sqft_above  \\\n",
              "21603   507250.0         3          2         2270       2      8        2270   \n",
              "21604   429000.0         3          2         1490       3      8        1490   \n",
              "21605   610685.0         4          2         2520       2      9        2520   \n",
              "21606  1007500.0         4          3         3510       2      9        2600   \n",
              "21607   475000.0         3          2         1310       2      8        1180   \n",
              "21608   360000.0         3          2         1530       3      8        1530   \n",
              "21609   400000.0         4          2         2310       2      8        2310   \n",
              "21610   402101.0         2          0         1020       2      7        1020   \n",
              "21611   400000.0         3          2         1600       2      8        1600   \n",
              "21612   325000.0         2          0         1020       2      7        1020   \n",
              "\n",
              "       yr_built  sqft_living15  \n",
              "21603      2003           2270  \n",
              "21604      2014           1400  \n",
              "21605      2014           2520  \n",
              "21606      2009           2050  \n",
              "21607      2008           1330  \n",
              "21608      2009           1530  \n",
              "21609      2014           1830  \n",
              "21610      2009           1020  \n",
              "21611      2004           1410  \n",
              "21612      2008           1020  "
            ],
            "text/html": [
              "\n",
              "  <div id=\"df-1f1cbab2-5872-466a-9289-2c27cdb83e46\">\n",
              "    <div class=\"colab-df-container\">\n",
              "      <div>\n",
              "<style scoped>\n",
              "    .dataframe tbody tr th:only-of-type {\n",
              "        vertical-align: middle;\n",
              "    }\n",
              "\n",
              "    .dataframe tbody tr th {\n",
              "        vertical-align: top;\n",
              "    }\n",
              "\n",
              "    .dataframe thead th {\n",
              "        text-align: right;\n",
              "    }\n",
              "</style>\n",
              "<table border=\"1\" class=\"dataframe\">\n",
              "  <thead>\n",
              "    <tr style=\"text-align: right;\">\n",
              "      <th></th>\n",
              "      <th>price</th>\n",
              "      <th>bedrooms</th>\n",
              "      <th>bathrooms</th>\n",
              "      <th>sqft_living</th>\n",
              "      <th>floors</th>\n",
              "      <th>grade</th>\n",
              "      <th>sqft_above</th>\n",
              "      <th>yr_built</th>\n",
              "      <th>sqft_living15</th>\n",
              "    </tr>\n",
              "  </thead>\n",
              "  <tbody>\n",
              "    <tr>\n",
              "      <th>21603</th>\n",
              "      <td>507250.0</td>\n",
              "      <td>3</td>\n",
              "      <td>2</td>\n",
              "      <td>2270</td>\n",
              "      <td>2</td>\n",
              "      <td>8</td>\n",
              "      <td>2270</td>\n",
              "      <td>2003</td>\n",
              "      <td>2270</td>\n",
              "    </tr>\n",
              "    <tr>\n",
              "      <th>21604</th>\n",
              "      <td>429000.0</td>\n",
              "      <td>3</td>\n",
              "      <td>2</td>\n",
              "      <td>1490</td>\n",
              "      <td>3</td>\n",
              "      <td>8</td>\n",
              "      <td>1490</td>\n",
              "      <td>2014</td>\n",
              "      <td>1400</td>\n",
              "    </tr>\n",
              "    <tr>\n",
              "      <th>21605</th>\n",
              "      <td>610685.0</td>\n",
              "      <td>4</td>\n",
              "      <td>2</td>\n",
              "      <td>2520</td>\n",
              "      <td>2</td>\n",
              "      <td>9</td>\n",
              "      <td>2520</td>\n",
              "      <td>2014</td>\n",
              "      <td>2520</td>\n",
              "    </tr>\n",
              "    <tr>\n",
              "      <th>21606</th>\n",
              "      <td>1007500.0</td>\n",
              "      <td>4</td>\n",
              "      <td>3</td>\n",
              "      <td>3510</td>\n",
              "      <td>2</td>\n",
              "      <td>9</td>\n",
              "      <td>2600</td>\n",
              "      <td>2009</td>\n",
              "      <td>2050</td>\n",
              "    </tr>\n",
              "    <tr>\n",
              "      <th>21607</th>\n",
              "      <td>475000.0</td>\n",
              "      <td>3</td>\n",
              "      <td>2</td>\n",
              "      <td>1310</td>\n",
              "      <td>2</td>\n",
              "      <td>8</td>\n",
              "      <td>1180</td>\n",
              "      <td>2008</td>\n",
              "      <td>1330</td>\n",
              "    </tr>\n",
              "    <tr>\n",
              "      <th>21608</th>\n",
              "      <td>360000.0</td>\n",
              "      <td>3</td>\n",
              "      <td>2</td>\n",
              "      <td>1530</td>\n",
              "      <td>3</td>\n",
              "      <td>8</td>\n",
              "      <td>1530</td>\n",
              "      <td>2009</td>\n",
              "      <td>1530</td>\n",
              "    </tr>\n",
              "    <tr>\n",
              "      <th>21609</th>\n",
              "      <td>400000.0</td>\n",
              "      <td>4</td>\n",
              "      <td>2</td>\n",
              "      <td>2310</td>\n",
              "      <td>2</td>\n",
              "      <td>8</td>\n",
              "      <td>2310</td>\n",
              "      <td>2014</td>\n",
              "      <td>1830</td>\n",
              "    </tr>\n",
              "    <tr>\n",
              "      <th>21610</th>\n",
              "      <td>402101.0</td>\n",
              "      <td>2</td>\n",
              "      <td>0</td>\n",
              "      <td>1020</td>\n",
              "      <td>2</td>\n",
              "      <td>7</td>\n",
              "      <td>1020</td>\n",
              "      <td>2009</td>\n",
              "      <td>1020</td>\n",
              "    </tr>\n",
              "    <tr>\n",
              "      <th>21611</th>\n",
              "      <td>400000.0</td>\n",
              "      <td>3</td>\n",
              "      <td>2</td>\n",
              "      <td>1600</td>\n",
              "      <td>2</td>\n",
              "      <td>8</td>\n",
              "      <td>1600</td>\n",
              "      <td>2004</td>\n",
              "      <td>1410</td>\n",
              "    </tr>\n",
              "    <tr>\n",
              "      <th>21612</th>\n",
              "      <td>325000.0</td>\n",
              "      <td>2</td>\n",
              "      <td>0</td>\n",
              "      <td>1020</td>\n",
              "      <td>2</td>\n",
              "      <td>7</td>\n",
              "      <td>1020</td>\n",
              "      <td>2008</td>\n",
              "      <td>1020</td>\n",
              "    </tr>\n",
              "  </tbody>\n",
              "</table>\n",
              "</div>\n",
              "      <button class=\"colab-df-convert\" onclick=\"convertToInteractive('df-1f1cbab2-5872-466a-9289-2c27cdb83e46')\"\n",
              "              title=\"Convert this dataframe to an interactive table.\"\n",
              "              style=\"display:none;\">\n",
              "        \n",
              "  <svg xmlns=\"http://www.w3.org/2000/svg\" height=\"24px\"viewBox=\"0 0 24 24\"\n",
              "       width=\"24px\">\n",
              "    <path d=\"M0 0h24v24H0V0z\" fill=\"none\"/>\n",
              "    <path d=\"M18.56 5.44l.94 2.06.94-2.06 2.06-.94-2.06-.94-.94-2.06-.94 2.06-2.06.94zm-11 1L8.5 8.5l.94-2.06 2.06-.94-2.06-.94L8.5 2.5l-.94 2.06-2.06.94zm10 10l.94 2.06.94-2.06 2.06-.94-2.06-.94-.94-2.06-.94 2.06-2.06.94z\"/><path d=\"M17.41 7.96l-1.37-1.37c-.4-.4-.92-.59-1.43-.59-.52 0-1.04.2-1.43.59L10.3 9.45l-7.72 7.72c-.78.78-.78 2.05 0 2.83L4 21.41c.39.39.9.59 1.41.59.51 0 1.02-.2 1.41-.59l7.78-7.78 2.81-2.81c.8-.78.8-2.07 0-2.86zM5.41 20L4 18.59l7.72-7.72 1.47 1.35L5.41 20z\"/>\n",
              "  </svg>\n",
              "      </button>\n",
              "      \n",
              "  <style>\n",
              "    .colab-df-container {\n",
              "      display:flex;\n",
              "      flex-wrap:wrap;\n",
              "      gap: 12px;\n",
              "    }\n",
              "\n",
              "    .colab-df-convert {\n",
              "      background-color: #E8F0FE;\n",
              "      border: none;\n",
              "      border-radius: 50%;\n",
              "      cursor: pointer;\n",
              "      display: none;\n",
              "      fill: #1967D2;\n",
              "      height: 32px;\n",
              "      padding: 0 0 0 0;\n",
              "      width: 32px;\n",
              "    }\n",
              "\n",
              "    .colab-df-convert:hover {\n",
              "      background-color: #E2EBFA;\n",
              "      box-shadow: 0px 1px 2px rgba(60, 64, 67, 0.3), 0px 1px 3px 1px rgba(60, 64, 67, 0.15);\n",
              "      fill: #174EA6;\n",
              "    }\n",
              "\n",
              "    [theme=dark] .colab-df-convert {\n",
              "      background-color: #3B4455;\n",
              "      fill: #D2E3FC;\n",
              "    }\n",
              "\n",
              "    [theme=dark] .colab-df-convert:hover {\n",
              "      background-color: #434B5C;\n",
              "      box-shadow: 0px 1px 3px 1px rgba(0, 0, 0, 0.15);\n",
              "      filter: drop-shadow(0px 1px 2px rgba(0, 0, 0, 0.3));\n",
              "      fill: #FFFFFF;\n",
              "    }\n",
              "  </style>\n",
              "\n",
              "      <script>\n",
              "        const buttonEl =\n",
              "          document.querySelector('#df-1f1cbab2-5872-466a-9289-2c27cdb83e46 button.colab-df-convert');\n",
              "        buttonEl.style.display =\n",
              "          google.colab.kernel.accessAllowed ? 'block' : 'none';\n",
              "\n",
              "        async function convertToInteractive(key) {\n",
              "          const element = document.querySelector('#df-1f1cbab2-5872-466a-9289-2c27cdb83e46');\n",
              "          const dataTable =\n",
              "            await google.colab.kernel.invokeFunction('convertToInteractive',\n",
              "                                                     [key], {});\n",
              "          if (!dataTable) return;\n",
              "\n",
              "          const docLinkHtml = 'Like what you see? Visit the ' +\n",
              "            '<a target=\"_blank\" href=https://colab.research.google.com/notebooks/data_table.ipynb>data table notebook</a>'\n",
              "            + ' to learn more about interactive tables.';\n",
              "          element.innerHTML = '';\n",
              "          dataTable['output_type'] = 'display_data';\n",
              "          await google.colab.output.renderOutput(dataTable, element);\n",
              "          const docLink = document.createElement('div');\n",
              "          docLink.innerHTML = docLinkHtml;\n",
              "          element.appendChild(docLink);\n",
              "        }\n",
              "      </script>\n",
              "    </div>\n",
              "  </div>\n",
              "  "
            ]
          },
          "metadata": {},
          "execution_count": 36
        }
      ],
      "source": [
        "#melihat 10 data terakhir\n",
        "dataFrame.tail(10)"
      ]
    },
    {
      "cell_type": "markdown",
      "metadata": {
        "id": "1sa54NfZlF6Y"
      },
      "source": [
        "Membuat variabel 'X' sebagai variabel independen, variabel diambil dari data yang sudah ada, variabel 'price' dihilangkan karena merupakan variabel dependen\n",
        "\n",
        "Variabel 'y' berisi variabel 'price' sebagai variabel dependen"
      ]
    },
    {
      "cell_type": "code",
      "execution_count": 37,
      "metadata": {
        "id": "-2pjgl-guRcs"
      },
      "outputs": [],
      "source": [
        "# X(Independent variables) and y(target variables) \n",
        "X = dataFrame[['bedrooms', 'bathrooms', 'sqft_living', 'floors', 'grade', 'sqft_above', 'sqft_living15', 'yr_built']]\n",
        "y = dataFrame['price']"
      ]
    },
    {
      "cell_type": "code",
      "execution_count": 38,
      "metadata": {
        "colab": {
          "base_uri": "https://localhost:8080/",
          "height": 424
        },
        "id": "qsbDyKu6K2m-",
        "outputId": "1f099454-1787-4ffb-8a0c-5aecc44a2570"
      },
      "outputs": [
        {
          "output_type": "execute_result",
          "data": {
            "text/plain": [
              "       bedrooms  bathrooms  sqft_living  floors  grade  sqft_above  \\\n",
              "0             3          1         1180       1      7        1180   \n",
              "1             3          2         2570       2      7        2170   \n",
              "2             2          1          770       1      6         770   \n",
              "3             4          3         1960       1      7        1050   \n",
              "4             3          2         1680       1      8        1680   \n",
              "...         ...        ...          ...     ...    ...         ...   \n",
              "21608         3          2         1530       3      8        1530   \n",
              "21609         4          2         2310       2      8        2310   \n",
              "21610         2          0         1020       2      7        1020   \n",
              "21611         3          2         1600       2      8        1600   \n",
              "21612         2          0         1020       2      7        1020   \n",
              "\n",
              "       sqft_living15  yr_built  \n",
              "0               1340      1955  \n",
              "1               1690      1951  \n",
              "2               2720      1933  \n",
              "3               1360      1965  \n",
              "4               1800      1987  \n",
              "...              ...       ...  \n",
              "21608           1530      2009  \n",
              "21609           1830      2014  \n",
              "21610           1020      2009  \n",
              "21611           1410      2004  \n",
              "21612           1020      2008  \n",
              "\n",
              "[21612 rows x 8 columns]"
            ],
            "text/html": [
              "\n",
              "  <div id=\"df-bb653f03-407b-4a9e-b020-c3b6d74d757a\">\n",
              "    <div class=\"colab-df-container\">\n",
              "      <div>\n",
              "<style scoped>\n",
              "    .dataframe tbody tr th:only-of-type {\n",
              "        vertical-align: middle;\n",
              "    }\n",
              "\n",
              "    .dataframe tbody tr th {\n",
              "        vertical-align: top;\n",
              "    }\n",
              "\n",
              "    .dataframe thead th {\n",
              "        text-align: right;\n",
              "    }\n",
              "</style>\n",
              "<table border=\"1\" class=\"dataframe\">\n",
              "  <thead>\n",
              "    <tr style=\"text-align: right;\">\n",
              "      <th></th>\n",
              "      <th>bedrooms</th>\n",
              "      <th>bathrooms</th>\n",
              "      <th>sqft_living</th>\n",
              "      <th>floors</th>\n",
              "      <th>grade</th>\n",
              "      <th>sqft_above</th>\n",
              "      <th>sqft_living15</th>\n",
              "      <th>yr_built</th>\n",
              "    </tr>\n",
              "  </thead>\n",
              "  <tbody>\n",
              "    <tr>\n",
              "      <th>0</th>\n",
              "      <td>3</td>\n",
              "      <td>1</td>\n",
              "      <td>1180</td>\n",
              "      <td>1</td>\n",
              "      <td>7</td>\n",
              "      <td>1180</td>\n",
              "      <td>1340</td>\n",
              "      <td>1955</td>\n",
              "    </tr>\n",
              "    <tr>\n",
              "      <th>1</th>\n",
              "      <td>3</td>\n",
              "      <td>2</td>\n",
              "      <td>2570</td>\n",
              "      <td>2</td>\n",
              "      <td>7</td>\n",
              "      <td>2170</td>\n",
              "      <td>1690</td>\n",
              "      <td>1951</td>\n",
              "    </tr>\n",
              "    <tr>\n",
              "      <th>2</th>\n",
              "      <td>2</td>\n",
              "      <td>1</td>\n",
              "      <td>770</td>\n",
              "      <td>1</td>\n",
              "      <td>6</td>\n",
              "      <td>770</td>\n",
              "      <td>2720</td>\n",
              "      <td>1933</td>\n",
              "    </tr>\n",
              "    <tr>\n",
              "      <th>3</th>\n",
              "      <td>4</td>\n",
              "      <td>3</td>\n",
              "      <td>1960</td>\n",
              "      <td>1</td>\n",
              "      <td>7</td>\n",
              "      <td>1050</td>\n",
              "      <td>1360</td>\n",
              "      <td>1965</td>\n",
              "    </tr>\n",
              "    <tr>\n",
              "      <th>4</th>\n",
              "      <td>3</td>\n",
              "      <td>2</td>\n",
              "      <td>1680</td>\n",
              "      <td>1</td>\n",
              "      <td>8</td>\n",
              "      <td>1680</td>\n",
              "      <td>1800</td>\n",
              "      <td>1987</td>\n",
              "    </tr>\n",
              "    <tr>\n",
              "      <th>...</th>\n",
              "      <td>...</td>\n",
              "      <td>...</td>\n",
              "      <td>...</td>\n",
              "      <td>...</td>\n",
              "      <td>...</td>\n",
              "      <td>...</td>\n",
              "      <td>...</td>\n",
              "      <td>...</td>\n",
              "    </tr>\n",
              "    <tr>\n",
              "      <th>21608</th>\n",
              "      <td>3</td>\n",
              "      <td>2</td>\n",
              "      <td>1530</td>\n",
              "      <td>3</td>\n",
              "      <td>8</td>\n",
              "      <td>1530</td>\n",
              "      <td>1530</td>\n",
              "      <td>2009</td>\n",
              "    </tr>\n",
              "    <tr>\n",
              "      <th>21609</th>\n",
              "      <td>4</td>\n",
              "      <td>2</td>\n",
              "      <td>2310</td>\n",
              "      <td>2</td>\n",
              "      <td>8</td>\n",
              "      <td>2310</td>\n",
              "      <td>1830</td>\n",
              "      <td>2014</td>\n",
              "    </tr>\n",
              "    <tr>\n",
              "      <th>21610</th>\n",
              "      <td>2</td>\n",
              "      <td>0</td>\n",
              "      <td>1020</td>\n",
              "      <td>2</td>\n",
              "      <td>7</td>\n",
              "      <td>1020</td>\n",
              "      <td>1020</td>\n",
              "      <td>2009</td>\n",
              "    </tr>\n",
              "    <tr>\n",
              "      <th>21611</th>\n",
              "      <td>3</td>\n",
              "      <td>2</td>\n",
              "      <td>1600</td>\n",
              "      <td>2</td>\n",
              "      <td>8</td>\n",
              "      <td>1600</td>\n",
              "      <td>1410</td>\n",
              "      <td>2004</td>\n",
              "    </tr>\n",
              "    <tr>\n",
              "      <th>21612</th>\n",
              "      <td>2</td>\n",
              "      <td>0</td>\n",
              "      <td>1020</td>\n",
              "      <td>2</td>\n",
              "      <td>7</td>\n",
              "      <td>1020</td>\n",
              "      <td>1020</td>\n",
              "      <td>2008</td>\n",
              "    </tr>\n",
              "  </tbody>\n",
              "</table>\n",
              "<p>21612 rows × 8 columns</p>\n",
              "</div>\n",
              "      <button class=\"colab-df-convert\" onclick=\"convertToInteractive('df-bb653f03-407b-4a9e-b020-c3b6d74d757a')\"\n",
              "              title=\"Convert this dataframe to an interactive table.\"\n",
              "              style=\"display:none;\">\n",
              "        \n",
              "  <svg xmlns=\"http://www.w3.org/2000/svg\" height=\"24px\"viewBox=\"0 0 24 24\"\n",
              "       width=\"24px\">\n",
              "    <path d=\"M0 0h24v24H0V0z\" fill=\"none\"/>\n",
              "    <path d=\"M18.56 5.44l.94 2.06.94-2.06 2.06-.94-2.06-.94-.94-2.06-.94 2.06-2.06.94zm-11 1L8.5 8.5l.94-2.06 2.06-.94-2.06-.94L8.5 2.5l-.94 2.06-2.06.94zm10 10l.94 2.06.94-2.06 2.06-.94-2.06-.94-.94-2.06-.94 2.06-2.06.94z\"/><path d=\"M17.41 7.96l-1.37-1.37c-.4-.4-.92-.59-1.43-.59-.52 0-1.04.2-1.43.59L10.3 9.45l-7.72 7.72c-.78.78-.78 2.05 0 2.83L4 21.41c.39.39.9.59 1.41.59.51 0 1.02-.2 1.41-.59l7.78-7.78 2.81-2.81c.8-.78.8-2.07 0-2.86zM5.41 20L4 18.59l7.72-7.72 1.47 1.35L5.41 20z\"/>\n",
              "  </svg>\n",
              "      </button>\n",
              "      \n",
              "  <style>\n",
              "    .colab-df-container {\n",
              "      display:flex;\n",
              "      flex-wrap:wrap;\n",
              "      gap: 12px;\n",
              "    }\n",
              "\n",
              "    .colab-df-convert {\n",
              "      background-color: #E8F0FE;\n",
              "      border: none;\n",
              "      border-radius: 50%;\n",
              "      cursor: pointer;\n",
              "      display: none;\n",
              "      fill: #1967D2;\n",
              "      height: 32px;\n",
              "      padding: 0 0 0 0;\n",
              "      width: 32px;\n",
              "    }\n",
              "\n",
              "    .colab-df-convert:hover {\n",
              "      background-color: #E2EBFA;\n",
              "      box-shadow: 0px 1px 2px rgba(60, 64, 67, 0.3), 0px 1px 3px 1px rgba(60, 64, 67, 0.15);\n",
              "      fill: #174EA6;\n",
              "    }\n",
              "\n",
              "    [theme=dark] .colab-df-convert {\n",
              "      background-color: #3B4455;\n",
              "      fill: #D2E3FC;\n",
              "    }\n",
              "\n",
              "    [theme=dark] .colab-df-convert:hover {\n",
              "      background-color: #434B5C;\n",
              "      box-shadow: 0px 1px 3px 1px rgba(0, 0, 0, 0.15);\n",
              "      filter: drop-shadow(0px 1px 2px rgba(0, 0, 0, 0.3));\n",
              "      fill: #FFFFFF;\n",
              "    }\n",
              "  </style>\n",
              "\n",
              "      <script>\n",
              "        const buttonEl =\n",
              "          document.querySelector('#df-bb653f03-407b-4a9e-b020-c3b6d74d757a button.colab-df-convert');\n",
              "        buttonEl.style.display =\n",
              "          google.colab.kernel.accessAllowed ? 'block' : 'none';\n",
              "\n",
              "        async function convertToInteractive(key) {\n",
              "          const element = document.querySelector('#df-bb653f03-407b-4a9e-b020-c3b6d74d757a');\n",
              "          const dataTable =\n",
              "            await google.colab.kernel.invokeFunction('convertToInteractive',\n",
              "                                                     [key], {});\n",
              "          if (!dataTable) return;\n",
              "\n",
              "          const docLinkHtml = 'Like what you see? Visit the ' +\n",
              "            '<a target=\"_blank\" href=https://colab.research.google.com/notebooks/data_table.ipynb>data table notebook</a>'\n",
              "            + ' to learn more about interactive tables.';\n",
              "          element.innerHTML = '';\n",
              "          dataTable['output_type'] = 'display_data';\n",
              "          await google.colab.output.renderOutput(dataTable, element);\n",
              "          const docLink = document.createElement('div');\n",
              "          docLink.innerHTML = docLinkHtml;\n",
              "          element.appendChild(docLink);\n",
              "        }\n",
              "      </script>\n",
              "    </div>\n",
              "  </div>\n",
              "  "
            ]
          },
          "metadata": {},
          "execution_count": 38
        }
      ],
      "source": [
        "X"
      ]
    },
    {
      "cell_type": "code",
      "execution_count": 39,
      "metadata": {
        "colab": {
          "base_uri": "https://localhost:8080/"
        },
        "id": "u7iJx0ELZBTG",
        "outputId": "1d2325f1-d03a-4d8a-dd3a-85c36673d322"
      },
      "outputs": [
        {
          "output_type": "execute_result",
          "data": {
            "text/plain": [
              "0        221900.0\n",
              "1        538000.0\n",
              "2        180000.0\n",
              "3        604000.0\n",
              "4        510000.0\n",
              "           ...   \n",
              "21608    360000.0\n",
              "21609    400000.0\n",
              "21610    402101.0\n",
              "21611    400000.0\n",
              "21612    325000.0\n",
              "Name: price, Length: 21612, dtype: float64"
            ]
          },
          "metadata": {},
          "execution_count": 39
        }
      ],
      "source": [
        "y"
      ]
    },
    {
      "cell_type": "markdown",
      "metadata": {
        "id": "Eguug1vQlF6Z"
      },
      "source": [
        "import train_test_split dari sklearn yang berfungsi membagi data yang kita gunakan menjadi data train dan data test"
      ]
    },
    {
      "cell_type": "code",
      "execution_count": 40,
      "metadata": {
        "id": "wBh29CzZlF6Z"
      },
      "outputs": [],
      "source": [
        "from sklearn.model_selection import train_test_split"
      ]
    },
    {
      "cell_type": "markdown",
      "metadata": {
        "id": "dqGlcEKbt7JK"
      },
      "source": [
        "split data training dan data testing dengan pembagian 70%(training) dan 30%(testing), pembagian data bisa bervariasi sesuai keinginan, umumnya dibagi menjadi 80 20 atau 70 30"
      ]
    },
    {
      "cell_type": "code",
      "execution_count": 41,
      "metadata": {
        "id": "VKaHJ6A5t7JK"
      },
      "outputs": [],
      "source": [
        "X_train, X_test, y_train, y_test = train_test_split(X, y, test_size=0.3, random_state=50)"
      ]
    },
    {
      "cell_type": "code",
      "execution_count": 42,
      "metadata": {
        "colab": {
          "base_uri": "https://localhost:8080/"
        },
        "id": "-bKXnaYwt7JL",
        "outputId": "52343b94-7b29-49dc-9e56-21e35e65220d"
      },
      "outputs": [
        {
          "output_type": "stream",
          "name": "stdout",
          "text": [
            "x_train:  (15128, 8)\n",
            "x_test:  (6484, 8)\n",
            "y_train:  (15128,)\n",
            "y_test:  (6484,)\n"
          ]
        }
      ],
      "source": [
        "#cek shape data train dan test\n",
        "print(\"x_train: \", X_train.shape)\n",
        "print(\"x_test: \", X_test.shape)\n",
        "print(\"y_train: \", y_train.shape)\n",
        "print(\"y_test: \", y_test.shape)"
      ]
    },
    {
      "cell_type": "code",
      "execution_count": 43,
      "metadata": {
        "colab": {
          "base_uri": "https://localhost:8080/",
          "height": 424
        },
        "id": "zZPwcKrwt7JL",
        "outputId": "783e4e38-3164-48cf-cc83-0179bb076bd8"
      },
      "outputs": [
        {
          "output_type": "execute_result",
          "data": {
            "text/plain": [
              "       bedrooms  bathrooms  sqft_living  floors  grade  sqft_above  \\\n",
              "2934          4          2         2100       2      8        2100   \n",
              "2564          4          3         3900       1     10        2520   \n",
              "11954         5          1         1990       1      7        1990   \n",
              "20158         2          1          830       2      7         830   \n",
              "4954          3          2         1800       1      8        1800   \n",
              "...         ...        ...          ...     ...    ...         ...   \n",
              "14565         5          3         3800       1      7        2490   \n",
              "15649         4          1         1940       1      8        1940   \n",
              "10123         3          2         1890       2      8        1890   \n",
              "5600          4          3         4020       2     11        4020   \n",
              "14000         2          1         1190       1      7        1190   \n",
              "\n",
              "       sqft_living15  yr_built  \n",
              "2934            2090      2002  \n",
              "2564            3410      1972  \n",
              "11954           2240      1955  \n",
              "20158            830      2006  \n",
              "4954            2480      1976  \n",
              "...              ...       ...  \n",
              "14565           2000      1965  \n",
              "15649           2405      1974  \n",
              "10123           2460      2000  \n",
              "5600            3930      2001  \n",
              "14000           1550      1912  \n",
              "\n",
              "[15128 rows x 8 columns]"
            ],
            "text/html": [
              "\n",
              "  <div id=\"df-8c763347-146e-408e-9083-134157404f99\">\n",
              "    <div class=\"colab-df-container\">\n",
              "      <div>\n",
              "<style scoped>\n",
              "    .dataframe tbody tr th:only-of-type {\n",
              "        vertical-align: middle;\n",
              "    }\n",
              "\n",
              "    .dataframe tbody tr th {\n",
              "        vertical-align: top;\n",
              "    }\n",
              "\n",
              "    .dataframe thead th {\n",
              "        text-align: right;\n",
              "    }\n",
              "</style>\n",
              "<table border=\"1\" class=\"dataframe\">\n",
              "  <thead>\n",
              "    <tr style=\"text-align: right;\">\n",
              "      <th></th>\n",
              "      <th>bedrooms</th>\n",
              "      <th>bathrooms</th>\n",
              "      <th>sqft_living</th>\n",
              "      <th>floors</th>\n",
              "      <th>grade</th>\n",
              "      <th>sqft_above</th>\n",
              "      <th>sqft_living15</th>\n",
              "      <th>yr_built</th>\n",
              "    </tr>\n",
              "  </thead>\n",
              "  <tbody>\n",
              "    <tr>\n",
              "      <th>2934</th>\n",
              "      <td>4</td>\n",
              "      <td>2</td>\n",
              "      <td>2100</td>\n",
              "      <td>2</td>\n",
              "      <td>8</td>\n",
              "      <td>2100</td>\n",
              "      <td>2090</td>\n",
              "      <td>2002</td>\n",
              "    </tr>\n",
              "    <tr>\n",
              "      <th>2564</th>\n",
              "      <td>4</td>\n",
              "      <td>3</td>\n",
              "      <td>3900</td>\n",
              "      <td>1</td>\n",
              "      <td>10</td>\n",
              "      <td>2520</td>\n",
              "      <td>3410</td>\n",
              "      <td>1972</td>\n",
              "    </tr>\n",
              "    <tr>\n",
              "      <th>11954</th>\n",
              "      <td>5</td>\n",
              "      <td>1</td>\n",
              "      <td>1990</td>\n",
              "      <td>1</td>\n",
              "      <td>7</td>\n",
              "      <td>1990</td>\n",
              "      <td>2240</td>\n",
              "      <td>1955</td>\n",
              "    </tr>\n",
              "    <tr>\n",
              "      <th>20158</th>\n",
              "      <td>2</td>\n",
              "      <td>1</td>\n",
              "      <td>830</td>\n",
              "      <td>2</td>\n",
              "      <td>7</td>\n",
              "      <td>830</td>\n",
              "      <td>830</td>\n",
              "      <td>2006</td>\n",
              "    </tr>\n",
              "    <tr>\n",
              "      <th>4954</th>\n",
              "      <td>3</td>\n",
              "      <td>2</td>\n",
              "      <td>1800</td>\n",
              "      <td>1</td>\n",
              "      <td>8</td>\n",
              "      <td>1800</td>\n",
              "      <td>2480</td>\n",
              "      <td>1976</td>\n",
              "    </tr>\n",
              "    <tr>\n",
              "      <th>...</th>\n",
              "      <td>...</td>\n",
              "      <td>...</td>\n",
              "      <td>...</td>\n",
              "      <td>...</td>\n",
              "      <td>...</td>\n",
              "      <td>...</td>\n",
              "      <td>...</td>\n",
              "      <td>...</td>\n",
              "    </tr>\n",
              "    <tr>\n",
              "      <th>14565</th>\n",
              "      <td>5</td>\n",
              "      <td>3</td>\n",
              "      <td>3800</td>\n",
              "      <td>1</td>\n",
              "      <td>7</td>\n",
              "      <td>2490</td>\n",
              "      <td>2000</td>\n",
              "      <td>1965</td>\n",
              "    </tr>\n",
              "    <tr>\n",
              "      <th>15649</th>\n",
              "      <td>4</td>\n",
              "      <td>1</td>\n",
              "      <td>1940</td>\n",
              "      <td>1</td>\n",
              "      <td>8</td>\n",
              "      <td>1940</td>\n",
              "      <td>2405</td>\n",
              "      <td>1974</td>\n",
              "    </tr>\n",
              "    <tr>\n",
              "      <th>10123</th>\n",
              "      <td>3</td>\n",
              "      <td>2</td>\n",
              "      <td>1890</td>\n",
              "      <td>2</td>\n",
              "      <td>8</td>\n",
              "      <td>1890</td>\n",
              "      <td>2460</td>\n",
              "      <td>2000</td>\n",
              "    </tr>\n",
              "    <tr>\n",
              "      <th>5600</th>\n",
              "      <td>4</td>\n",
              "      <td>3</td>\n",
              "      <td>4020</td>\n",
              "      <td>2</td>\n",
              "      <td>11</td>\n",
              "      <td>4020</td>\n",
              "      <td>3930</td>\n",
              "      <td>2001</td>\n",
              "    </tr>\n",
              "    <tr>\n",
              "      <th>14000</th>\n",
              "      <td>2</td>\n",
              "      <td>1</td>\n",
              "      <td>1190</td>\n",
              "      <td>1</td>\n",
              "      <td>7</td>\n",
              "      <td>1190</td>\n",
              "      <td>1550</td>\n",
              "      <td>1912</td>\n",
              "    </tr>\n",
              "  </tbody>\n",
              "</table>\n",
              "<p>15128 rows × 8 columns</p>\n",
              "</div>\n",
              "      <button class=\"colab-df-convert\" onclick=\"convertToInteractive('df-8c763347-146e-408e-9083-134157404f99')\"\n",
              "              title=\"Convert this dataframe to an interactive table.\"\n",
              "              style=\"display:none;\">\n",
              "        \n",
              "  <svg xmlns=\"http://www.w3.org/2000/svg\" height=\"24px\"viewBox=\"0 0 24 24\"\n",
              "       width=\"24px\">\n",
              "    <path d=\"M0 0h24v24H0V0z\" fill=\"none\"/>\n",
              "    <path d=\"M18.56 5.44l.94 2.06.94-2.06 2.06-.94-2.06-.94-.94-2.06-.94 2.06-2.06.94zm-11 1L8.5 8.5l.94-2.06 2.06-.94-2.06-.94L8.5 2.5l-.94 2.06-2.06.94zm10 10l.94 2.06.94-2.06 2.06-.94-2.06-.94-.94-2.06-.94 2.06-2.06.94z\"/><path d=\"M17.41 7.96l-1.37-1.37c-.4-.4-.92-.59-1.43-.59-.52 0-1.04.2-1.43.59L10.3 9.45l-7.72 7.72c-.78.78-.78 2.05 0 2.83L4 21.41c.39.39.9.59 1.41.59.51 0 1.02-.2 1.41-.59l7.78-7.78 2.81-2.81c.8-.78.8-2.07 0-2.86zM5.41 20L4 18.59l7.72-7.72 1.47 1.35L5.41 20z\"/>\n",
              "  </svg>\n",
              "      </button>\n",
              "      \n",
              "  <style>\n",
              "    .colab-df-container {\n",
              "      display:flex;\n",
              "      flex-wrap:wrap;\n",
              "      gap: 12px;\n",
              "    }\n",
              "\n",
              "    .colab-df-convert {\n",
              "      background-color: #E8F0FE;\n",
              "      border: none;\n",
              "      border-radius: 50%;\n",
              "      cursor: pointer;\n",
              "      display: none;\n",
              "      fill: #1967D2;\n",
              "      height: 32px;\n",
              "      padding: 0 0 0 0;\n",
              "      width: 32px;\n",
              "    }\n",
              "\n",
              "    .colab-df-convert:hover {\n",
              "      background-color: #E2EBFA;\n",
              "      box-shadow: 0px 1px 2px rgba(60, 64, 67, 0.3), 0px 1px 3px 1px rgba(60, 64, 67, 0.15);\n",
              "      fill: #174EA6;\n",
              "    }\n",
              "\n",
              "    [theme=dark] .colab-df-convert {\n",
              "      background-color: #3B4455;\n",
              "      fill: #D2E3FC;\n",
              "    }\n",
              "\n",
              "    [theme=dark] .colab-df-convert:hover {\n",
              "      background-color: #434B5C;\n",
              "      box-shadow: 0px 1px 3px 1px rgba(0, 0, 0, 0.15);\n",
              "      filter: drop-shadow(0px 1px 2px rgba(0, 0, 0, 0.3));\n",
              "      fill: #FFFFFF;\n",
              "    }\n",
              "  </style>\n",
              "\n",
              "      <script>\n",
              "        const buttonEl =\n",
              "          document.querySelector('#df-8c763347-146e-408e-9083-134157404f99 button.colab-df-convert');\n",
              "        buttonEl.style.display =\n",
              "          google.colab.kernel.accessAllowed ? 'block' : 'none';\n",
              "\n",
              "        async function convertToInteractive(key) {\n",
              "          const element = document.querySelector('#df-8c763347-146e-408e-9083-134157404f99');\n",
              "          const dataTable =\n",
              "            await google.colab.kernel.invokeFunction('convertToInteractive',\n",
              "                                                     [key], {});\n",
              "          if (!dataTable) return;\n",
              "\n",
              "          const docLinkHtml = 'Like what you see? Visit the ' +\n",
              "            '<a target=\"_blank\" href=https://colab.research.google.com/notebooks/data_table.ipynb>data table notebook</a>'\n",
              "            + ' to learn more about interactive tables.';\n",
              "          element.innerHTML = '';\n",
              "          dataTable['output_type'] = 'display_data';\n",
              "          await google.colab.output.renderOutput(dataTable, element);\n",
              "          const docLink = document.createElement('div');\n",
              "          docLink.innerHTML = docLinkHtml;\n",
              "          element.appendChild(docLink);\n",
              "        }\n",
              "      </script>\n",
              "    </div>\n",
              "  </div>\n",
              "  "
            ]
          },
          "metadata": {},
          "execution_count": 43
        }
      ],
      "source": [
        "X_train"
      ]
    },
    {
      "cell_type": "code",
      "execution_count": 44,
      "metadata": {
        "colab": {
          "base_uri": "https://localhost:8080/",
          "height": 424
        },
        "id": "Px44iXYit7JL",
        "outputId": "be1ba9cf-2c5d-42cf-f00d-cfa5bc6f021d"
      },
      "outputs": [
        {
          "output_type": "execute_result",
          "data": {
            "text/plain": [
              "       bedrooms  bathrooms  sqft_living  floors  grade  sqft_above  \\\n",
              "5533          3          1         1660       1      7         960   \n",
              "625           3          1          960       1      6         820   \n",
              "14950         3          1          850       1      7         850   \n",
              "13654         3          2         1860       1      7        1860   \n",
              "3929          3          2         1590       1      7        1100   \n",
              "...         ...        ...          ...     ...    ...         ...   \n",
              "8614          3          1         1730       1      7        1480   \n",
              "15978         4          2         2643       2      8        2643   \n",
              "12084         3          1         2400       1      7        1200   \n",
              "19119         4          2         2810       2      9        2810   \n",
              "11052         3          1         1310       2      7        1310   \n",
              "\n",
              "       sqft_living15  yr_built  \n",
              "5533            1510      1941  \n",
              "625             1200      1944  \n",
              "14950            850      1986  \n",
              "13654           1815      1976  \n",
              "3929            2060      1976  \n",
              "...              ...       ...  \n",
              "8614            1730      1941  \n",
              "15978           2406      2012  \n",
              "12084           1460      1961  \n",
              "19119           2990      1993  \n",
              "11052           1310      1998  \n",
              "\n",
              "[6484 rows x 8 columns]"
            ],
            "text/html": [
              "\n",
              "  <div id=\"df-75a6586e-1375-4c37-a0fe-771bfa34c866\">\n",
              "    <div class=\"colab-df-container\">\n",
              "      <div>\n",
              "<style scoped>\n",
              "    .dataframe tbody tr th:only-of-type {\n",
              "        vertical-align: middle;\n",
              "    }\n",
              "\n",
              "    .dataframe tbody tr th {\n",
              "        vertical-align: top;\n",
              "    }\n",
              "\n",
              "    .dataframe thead th {\n",
              "        text-align: right;\n",
              "    }\n",
              "</style>\n",
              "<table border=\"1\" class=\"dataframe\">\n",
              "  <thead>\n",
              "    <tr style=\"text-align: right;\">\n",
              "      <th></th>\n",
              "      <th>bedrooms</th>\n",
              "      <th>bathrooms</th>\n",
              "      <th>sqft_living</th>\n",
              "      <th>floors</th>\n",
              "      <th>grade</th>\n",
              "      <th>sqft_above</th>\n",
              "      <th>sqft_living15</th>\n",
              "      <th>yr_built</th>\n",
              "    </tr>\n",
              "  </thead>\n",
              "  <tbody>\n",
              "    <tr>\n",
              "      <th>5533</th>\n",
              "      <td>3</td>\n",
              "      <td>1</td>\n",
              "      <td>1660</td>\n",
              "      <td>1</td>\n",
              "      <td>7</td>\n",
              "      <td>960</td>\n",
              "      <td>1510</td>\n",
              "      <td>1941</td>\n",
              "    </tr>\n",
              "    <tr>\n",
              "      <th>625</th>\n",
              "      <td>3</td>\n",
              "      <td>1</td>\n",
              "      <td>960</td>\n",
              "      <td>1</td>\n",
              "      <td>6</td>\n",
              "      <td>820</td>\n",
              "      <td>1200</td>\n",
              "      <td>1944</td>\n",
              "    </tr>\n",
              "    <tr>\n",
              "      <th>14950</th>\n",
              "      <td>3</td>\n",
              "      <td>1</td>\n",
              "      <td>850</td>\n",
              "      <td>1</td>\n",
              "      <td>7</td>\n",
              "      <td>850</td>\n",
              "      <td>850</td>\n",
              "      <td>1986</td>\n",
              "    </tr>\n",
              "    <tr>\n",
              "      <th>13654</th>\n",
              "      <td>3</td>\n",
              "      <td>2</td>\n",
              "      <td>1860</td>\n",
              "      <td>1</td>\n",
              "      <td>7</td>\n",
              "      <td>1860</td>\n",
              "      <td>1815</td>\n",
              "      <td>1976</td>\n",
              "    </tr>\n",
              "    <tr>\n",
              "      <th>3929</th>\n",
              "      <td>3</td>\n",
              "      <td>2</td>\n",
              "      <td>1590</td>\n",
              "      <td>1</td>\n",
              "      <td>7</td>\n",
              "      <td>1100</td>\n",
              "      <td>2060</td>\n",
              "      <td>1976</td>\n",
              "    </tr>\n",
              "    <tr>\n",
              "      <th>...</th>\n",
              "      <td>...</td>\n",
              "      <td>...</td>\n",
              "      <td>...</td>\n",
              "      <td>...</td>\n",
              "      <td>...</td>\n",
              "      <td>...</td>\n",
              "      <td>...</td>\n",
              "      <td>...</td>\n",
              "    </tr>\n",
              "    <tr>\n",
              "      <th>8614</th>\n",
              "      <td>3</td>\n",
              "      <td>1</td>\n",
              "      <td>1730</td>\n",
              "      <td>1</td>\n",
              "      <td>7</td>\n",
              "      <td>1480</td>\n",
              "      <td>1730</td>\n",
              "      <td>1941</td>\n",
              "    </tr>\n",
              "    <tr>\n",
              "      <th>15978</th>\n",
              "      <td>4</td>\n",
              "      <td>2</td>\n",
              "      <td>2643</td>\n",
              "      <td>2</td>\n",
              "      <td>8</td>\n",
              "      <td>2643</td>\n",
              "      <td>2406</td>\n",
              "      <td>2012</td>\n",
              "    </tr>\n",
              "    <tr>\n",
              "      <th>12084</th>\n",
              "      <td>3</td>\n",
              "      <td>1</td>\n",
              "      <td>2400</td>\n",
              "      <td>1</td>\n",
              "      <td>7</td>\n",
              "      <td>1200</td>\n",
              "      <td>1460</td>\n",
              "      <td>1961</td>\n",
              "    </tr>\n",
              "    <tr>\n",
              "      <th>19119</th>\n",
              "      <td>4</td>\n",
              "      <td>2</td>\n",
              "      <td>2810</td>\n",
              "      <td>2</td>\n",
              "      <td>9</td>\n",
              "      <td>2810</td>\n",
              "      <td>2990</td>\n",
              "      <td>1993</td>\n",
              "    </tr>\n",
              "    <tr>\n",
              "      <th>11052</th>\n",
              "      <td>3</td>\n",
              "      <td>1</td>\n",
              "      <td>1310</td>\n",
              "      <td>2</td>\n",
              "      <td>7</td>\n",
              "      <td>1310</td>\n",
              "      <td>1310</td>\n",
              "      <td>1998</td>\n",
              "    </tr>\n",
              "  </tbody>\n",
              "</table>\n",
              "<p>6484 rows × 8 columns</p>\n",
              "</div>\n",
              "      <button class=\"colab-df-convert\" onclick=\"convertToInteractive('df-75a6586e-1375-4c37-a0fe-771bfa34c866')\"\n",
              "              title=\"Convert this dataframe to an interactive table.\"\n",
              "              style=\"display:none;\">\n",
              "        \n",
              "  <svg xmlns=\"http://www.w3.org/2000/svg\" height=\"24px\"viewBox=\"0 0 24 24\"\n",
              "       width=\"24px\">\n",
              "    <path d=\"M0 0h24v24H0V0z\" fill=\"none\"/>\n",
              "    <path d=\"M18.56 5.44l.94 2.06.94-2.06 2.06-.94-2.06-.94-.94-2.06-.94 2.06-2.06.94zm-11 1L8.5 8.5l.94-2.06 2.06-.94-2.06-.94L8.5 2.5l-.94 2.06-2.06.94zm10 10l.94 2.06.94-2.06 2.06-.94-2.06-.94-.94-2.06-.94 2.06-2.06.94z\"/><path d=\"M17.41 7.96l-1.37-1.37c-.4-.4-.92-.59-1.43-.59-.52 0-1.04.2-1.43.59L10.3 9.45l-7.72 7.72c-.78.78-.78 2.05 0 2.83L4 21.41c.39.39.9.59 1.41.59.51 0 1.02-.2 1.41-.59l7.78-7.78 2.81-2.81c.8-.78.8-2.07 0-2.86zM5.41 20L4 18.59l7.72-7.72 1.47 1.35L5.41 20z\"/>\n",
              "  </svg>\n",
              "      </button>\n",
              "      \n",
              "  <style>\n",
              "    .colab-df-container {\n",
              "      display:flex;\n",
              "      flex-wrap:wrap;\n",
              "      gap: 12px;\n",
              "    }\n",
              "\n",
              "    .colab-df-convert {\n",
              "      background-color: #E8F0FE;\n",
              "      border: none;\n",
              "      border-radius: 50%;\n",
              "      cursor: pointer;\n",
              "      display: none;\n",
              "      fill: #1967D2;\n",
              "      height: 32px;\n",
              "      padding: 0 0 0 0;\n",
              "      width: 32px;\n",
              "    }\n",
              "\n",
              "    .colab-df-convert:hover {\n",
              "      background-color: #E2EBFA;\n",
              "      box-shadow: 0px 1px 2px rgba(60, 64, 67, 0.3), 0px 1px 3px 1px rgba(60, 64, 67, 0.15);\n",
              "      fill: #174EA6;\n",
              "    }\n",
              "\n",
              "    [theme=dark] .colab-df-convert {\n",
              "      background-color: #3B4455;\n",
              "      fill: #D2E3FC;\n",
              "    }\n",
              "\n",
              "    [theme=dark] .colab-df-convert:hover {\n",
              "      background-color: #434B5C;\n",
              "      box-shadow: 0px 1px 3px 1px rgba(0, 0, 0, 0.15);\n",
              "      filter: drop-shadow(0px 1px 2px rgba(0, 0, 0, 0.3));\n",
              "      fill: #FFFFFF;\n",
              "    }\n",
              "  </style>\n",
              "\n",
              "      <script>\n",
              "        const buttonEl =\n",
              "          document.querySelector('#df-75a6586e-1375-4c37-a0fe-771bfa34c866 button.colab-df-convert');\n",
              "        buttonEl.style.display =\n",
              "          google.colab.kernel.accessAllowed ? 'block' : 'none';\n",
              "\n",
              "        async function convertToInteractive(key) {\n",
              "          const element = document.querySelector('#df-75a6586e-1375-4c37-a0fe-771bfa34c866');\n",
              "          const dataTable =\n",
              "            await google.colab.kernel.invokeFunction('convertToInteractive',\n",
              "                                                     [key], {});\n",
              "          if (!dataTable) return;\n",
              "\n",
              "          const docLinkHtml = 'Like what you see? Visit the ' +\n",
              "            '<a target=\"_blank\" href=https://colab.research.google.com/notebooks/data_table.ipynb>data table notebook</a>'\n",
              "            + ' to learn more about interactive tables.';\n",
              "          element.innerHTML = '';\n",
              "          dataTable['output_type'] = 'display_data';\n",
              "          await google.colab.output.renderOutput(dataTable, element);\n",
              "          const docLink = document.createElement('div');\n",
              "          docLink.innerHTML = docLinkHtml;\n",
              "          element.appendChild(docLink);\n",
              "        }\n",
              "      </script>\n",
              "    </div>\n",
              "  </div>\n",
              "  "
            ]
          },
          "metadata": {},
          "execution_count": 44
        }
      ],
      "source": [
        "X_test"
      ]
    },
    {
      "cell_type": "code",
      "execution_count": 45,
      "metadata": {
        "colab": {
          "base_uri": "https://localhost:8080/",
          "height": 363
        },
        "id": "oEvWl0L8lF6Z",
        "outputId": "c9a2f9d0-110c-4673-eb9d-d906856dfa2b"
      },
      "outputs": [
        {
          "output_type": "execute_result",
          "data": {
            "text/plain": [
              "       bedrooms  bathrooms  sqft_living  floors  grade  sqft_above  \\\n",
              "5533          3          1         1660       1      7         960   \n",
              "625           3          1          960       1      6         820   \n",
              "14950         3          1          850       1      7         850   \n",
              "13654         3          2         1860       1      7        1860   \n",
              "3929          3          2         1590       1      7        1100   \n",
              "10965         2          1          940       1      5         940   \n",
              "8359          4          2         2360       1      6        1180   \n",
              "18853         3          2         2160       2      8        2160   \n",
              "864           4          2         2050       2      8        2050   \n",
              "11703         3          3         1670       1      7        1140   \n",
              "\n",
              "       sqft_living15  yr_built  \n",
              "5533            1510      1941  \n",
              "625             1200      1944  \n",
              "14950            850      1986  \n",
              "13654           1815      1976  \n",
              "3929            2060      1976  \n",
              "10965           1490      1942  \n",
              "8359            1340      1925  \n",
              "18853           2230      1982  \n",
              "864             2050      1990  \n",
              "11703           1010      1929  "
            ],
            "text/html": [
              "\n",
              "  <div id=\"df-7d4b9c7f-22f7-4498-94bf-f1e8fd3bcfdb\">\n",
              "    <div class=\"colab-df-container\">\n",
              "      <div>\n",
              "<style scoped>\n",
              "    .dataframe tbody tr th:only-of-type {\n",
              "        vertical-align: middle;\n",
              "    }\n",
              "\n",
              "    .dataframe tbody tr th {\n",
              "        vertical-align: top;\n",
              "    }\n",
              "\n",
              "    .dataframe thead th {\n",
              "        text-align: right;\n",
              "    }\n",
              "</style>\n",
              "<table border=\"1\" class=\"dataframe\">\n",
              "  <thead>\n",
              "    <tr style=\"text-align: right;\">\n",
              "      <th></th>\n",
              "      <th>bedrooms</th>\n",
              "      <th>bathrooms</th>\n",
              "      <th>sqft_living</th>\n",
              "      <th>floors</th>\n",
              "      <th>grade</th>\n",
              "      <th>sqft_above</th>\n",
              "      <th>sqft_living15</th>\n",
              "      <th>yr_built</th>\n",
              "    </tr>\n",
              "  </thead>\n",
              "  <tbody>\n",
              "    <tr>\n",
              "      <th>5533</th>\n",
              "      <td>3</td>\n",
              "      <td>1</td>\n",
              "      <td>1660</td>\n",
              "      <td>1</td>\n",
              "      <td>7</td>\n",
              "      <td>960</td>\n",
              "      <td>1510</td>\n",
              "      <td>1941</td>\n",
              "    </tr>\n",
              "    <tr>\n",
              "      <th>625</th>\n",
              "      <td>3</td>\n",
              "      <td>1</td>\n",
              "      <td>960</td>\n",
              "      <td>1</td>\n",
              "      <td>6</td>\n",
              "      <td>820</td>\n",
              "      <td>1200</td>\n",
              "      <td>1944</td>\n",
              "    </tr>\n",
              "    <tr>\n",
              "      <th>14950</th>\n",
              "      <td>3</td>\n",
              "      <td>1</td>\n",
              "      <td>850</td>\n",
              "      <td>1</td>\n",
              "      <td>7</td>\n",
              "      <td>850</td>\n",
              "      <td>850</td>\n",
              "      <td>1986</td>\n",
              "    </tr>\n",
              "    <tr>\n",
              "      <th>13654</th>\n",
              "      <td>3</td>\n",
              "      <td>2</td>\n",
              "      <td>1860</td>\n",
              "      <td>1</td>\n",
              "      <td>7</td>\n",
              "      <td>1860</td>\n",
              "      <td>1815</td>\n",
              "      <td>1976</td>\n",
              "    </tr>\n",
              "    <tr>\n",
              "      <th>3929</th>\n",
              "      <td>3</td>\n",
              "      <td>2</td>\n",
              "      <td>1590</td>\n",
              "      <td>1</td>\n",
              "      <td>7</td>\n",
              "      <td>1100</td>\n",
              "      <td>2060</td>\n",
              "      <td>1976</td>\n",
              "    </tr>\n",
              "    <tr>\n",
              "      <th>10965</th>\n",
              "      <td>2</td>\n",
              "      <td>1</td>\n",
              "      <td>940</td>\n",
              "      <td>1</td>\n",
              "      <td>5</td>\n",
              "      <td>940</td>\n",
              "      <td>1490</td>\n",
              "      <td>1942</td>\n",
              "    </tr>\n",
              "    <tr>\n",
              "      <th>8359</th>\n",
              "      <td>4</td>\n",
              "      <td>2</td>\n",
              "      <td>2360</td>\n",
              "      <td>1</td>\n",
              "      <td>6</td>\n",
              "      <td>1180</td>\n",
              "      <td>1340</td>\n",
              "      <td>1925</td>\n",
              "    </tr>\n",
              "    <tr>\n",
              "      <th>18853</th>\n",
              "      <td>3</td>\n",
              "      <td>2</td>\n",
              "      <td>2160</td>\n",
              "      <td>2</td>\n",
              "      <td>8</td>\n",
              "      <td>2160</td>\n",
              "      <td>2230</td>\n",
              "      <td>1982</td>\n",
              "    </tr>\n",
              "    <tr>\n",
              "      <th>864</th>\n",
              "      <td>4</td>\n",
              "      <td>2</td>\n",
              "      <td>2050</td>\n",
              "      <td>2</td>\n",
              "      <td>8</td>\n",
              "      <td>2050</td>\n",
              "      <td>2050</td>\n",
              "      <td>1990</td>\n",
              "    </tr>\n",
              "    <tr>\n",
              "      <th>11703</th>\n",
              "      <td>3</td>\n",
              "      <td>3</td>\n",
              "      <td>1670</td>\n",
              "      <td>1</td>\n",
              "      <td>7</td>\n",
              "      <td>1140</td>\n",
              "      <td>1010</td>\n",
              "      <td>1929</td>\n",
              "    </tr>\n",
              "  </tbody>\n",
              "</table>\n",
              "</div>\n",
              "      <button class=\"colab-df-convert\" onclick=\"convertToInteractive('df-7d4b9c7f-22f7-4498-94bf-f1e8fd3bcfdb')\"\n",
              "              title=\"Convert this dataframe to an interactive table.\"\n",
              "              style=\"display:none;\">\n",
              "        \n",
              "  <svg xmlns=\"http://www.w3.org/2000/svg\" height=\"24px\"viewBox=\"0 0 24 24\"\n",
              "       width=\"24px\">\n",
              "    <path d=\"M0 0h24v24H0V0z\" fill=\"none\"/>\n",
              "    <path d=\"M18.56 5.44l.94 2.06.94-2.06 2.06-.94-2.06-.94-.94-2.06-.94 2.06-2.06.94zm-11 1L8.5 8.5l.94-2.06 2.06-.94-2.06-.94L8.5 2.5l-.94 2.06-2.06.94zm10 10l.94 2.06.94-2.06 2.06-.94-2.06-.94-.94-2.06-.94 2.06-2.06.94z\"/><path d=\"M17.41 7.96l-1.37-1.37c-.4-.4-.92-.59-1.43-.59-.52 0-1.04.2-1.43.59L10.3 9.45l-7.72 7.72c-.78.78-.78 2.05 0 2.83L4 21.41c.39.39.9.59 1.41.59.51 0 1.02-.2 1.41-.59l7.78-7.78 2.81-2.81c.8-.78.8-2.07 0-2.86zM5.41 20L4 18.59l7.72-7.72 1.47 1.35L5.41 20z\"/>\n",
              "  </svg>\n",
              "      </button>\n",
              "      \n",
              "  <style>\n",
              "    .colab-df-container {\n",
              "      display:flex;\n",
              "      flex-wrap:wrap;\n",
              "      gap: 12px;\n",
              "    }\n",
              "\n",
              "    .colab-df-convert {\n",
              "      background-color: #E8F0FE;\n",
              "      border: none;\n",
              "      border-radius: 50%;\n",
              "      cursor: pointer;\n",
              "      display: none;\n",
              "      fill: #1967D2;\n",
              "      height: 32px;\n",
              "      padding: 0 0 0 0;\n",
              "      width: 32px;\n",
              "    }\n",
              "\n",
              "    .colab-df-convert:hover {\n",
              "      background-color: #E2EBFA;\n",
              "      box-shadow: 0px 1px 2px rgba(60, 64, 67, 0.3), 0px 1px 3px 1px rgba(60, 64, 67, 0.15);\n",
              "      fill: #174EA6;\n",
              "    }\n",
              "\n",
              "    [theme=dark] .colab-df-convert {\n",
              "      background-color: #3B4455;\n",
              "      fill: #D2E3FC;\n",
              "    }\n",
              "\n",
              "    [theme=dark] .colab-df-convert:hover {\n",
              "      background-color: #434B5C;\n",
              "      box-shadow: 0px 1px 3px 1px rgba(0, 0, 0, 0.15);\n",
              "      filter: drop-shadow(0px 1px 2px rgba(0, 0, 0, 0.3));\n",
              "      fill: #FFFFFF;\n",
              "    }\n",
              "  </style>\n",
              "\n",
              "      <script>\n",
              "        const buttonEl =\n",
              "          document.querySelector('#df-7d4b9c7f-22f7-4498-94bf-f1e8fd3bcfdb button.colab-df-convert');\n",
              "        buttonEl.style.display =\n",
              "          google.colab.kernel.accessAllowed ? 'block' : 'none';\n",
              "\n",
              "        async function convertToInteractive(key) {\n",
              "          const element = document.querySelector('#df-7d4b9c7f-22f7-4498-94bf-f1e8fd3bcfdb');\n",
              "          const dataTable =\n",
              "            await google.colab.kernel.invokeFunction('convertToInteractive',\n",
              "                                                     [key], {});\n",
              "          if (!dataTable) return;\n",
              "\n",
              "          const docLinkHtml = 'Like what you see? Visit the ' +\n",
              "            '<a target=\"_blank\" href=https://colab.research.google.com/notebooks/data_table.ipynb>data table notebook</a>'\n",
              "            + ' to learn more about interactive tables.';\n",
              "          element.innerHTML = '';\n",
              "          dataTable['output_type'] = 'display_data';\n",
              "          await google.colab.output.renderOutput(dataTable, element);\n",
              "          const docLink = document.createElement('div');\n",
              "          docLink.innerHTML = docLinkHtml;\n",
              "          element.appendChild(docLink);\n",
              "        }\n",
              "      </script>\n",
              "    </div>\n",
              "  </div>\n",
              "  "
            ]
          },
          "metadata": {},
          "execution_count": 45
        }
      ],
      "source": [
        "X_test.head(10)"
      ]
    },
    {
      "cell_type": "code",
      "execution_count": 46,
      "metadata": {
        "colab": {
          "base_uri": "https://localhost:8080/"
        },
        "id": "0TNWO7x7lF6a",
        "outputId": "30be1d47-0b55-4c65-d1ff-dbf91fff0b5a"
      },
      "outputs": [
        {
          "output_type": "execute_result",
          "data": {
            "text/plain": [
              "5533     530000.0\n",
              "625      289500.0\n",
              "14950    295000.0\n",
              "13654    267500.0\n",
              "3929     405000.0\n",
              "10965    283000.0\n",
              "8359     459000.0\n",
              "18853    475000.0\n",
              "864      280000.0\n",
              "11703    294000.0\n",
              "Name: price, dtype: float64"
            ]
          },
          "metadata": {},
          "execution_count": 46
        }
      ],
      "source": [
        "y_test.head(10)"
      ]
    },
    {
      "cell_type": "code",
      "execution_count": 47,
      "metadata": {
        "colab": {
          "base_uri": "https://localhost:8080/"
        },
        "id": "9WbrBWiyt7JM",
        "outputId": "09c3b9c8-1526-45e4-b0a2-1933b5fbeefa"
      },
      "outputs": [
        {
          "output_type": "execute_result",
          "data": {
            "text/plain": [
              "2934      380000.0\n",
              "2564     1620000.0\n",
              "11954     185000.0\n",
              "20158     205000.0\n",
              "4954      474900.0\n",
              "           ...    \n",
              "14565     380000.0\n",
              "15649     252000.0\n",
              "10123     465000.0\n",
              "5600     1691000.0\n",
              "14000     470000.0\n",
              "Name: price, Length: 15128, dtype: float64"
            ]
          },
          "metadata": {},
          "execution_count": 47
        }
      ],
      "source": [
        "y_train"
      ]
    },
    {
      "cell_type": "code",
      "execution_count": 48,
      "metadata": {
        "colab": {
          "base_uri": "https://localhost:8080/"
        },
        "id": "nmU6rasHt7JM",
        "outputId": "acfd7740-1936-4030-863b-c257bec3bd68"
      },
      "outputs": [
        {
          "output_type": "execute_result",
          "data": {
            "text/plain": [
              "5533     530000.0\n",
              "625      289500.0\n",
              "14950    295000.0\n",
              "13654    267500.0\n",
              "3929     405000.0\n",
              "           ...   \n",
              "8614     575700.0\n",
              "15978    376950.0\n",
              "12084    338000.0\n",
              "19119    747500.0\n",
              "11052    398000.0\n",
              "Name: price, Length: 6484, dtype: float64"
            ]
          },
          "metadata": {},
          "execution_count": 48
        }
      ],
      "source": [
        "y_test"
      ]
    },
    {
      "cell_type": "markdown",
      "metadata": {
        "id": "fEzKiEIClF6a"
      },
      "source": [
        "### Percobaan dengan beberapa algoritma regression"
      ]
    },
    {
      "cell_type": "markdown",
      "metadata": {
        "id": "JP5Pw7z0lF6a"
      },
      "source": [
        "#### Linear Regression"
      ]
    },
    {
      "cell_type": "code",
      "execution_count": 49,
      "metadata": {
        "id": "mXrdIHqplF6a"
      },
      "outputs": [],
      "source": [
        "#menggunakan model linear regression\n",
        "#from sklearn.linear_model import LinearRegression\n",
        "\n",
        "#linReg = LinearRegression()\n",
        "#linReg.fit(X_train, y_train)"
      ]
    },
    {
      "cell_type": "code",
      "execution_count": 50,
      "metadata": {
        "id": "tMobPvo5lF6a"
      },
      "outputs": [],
      "source": [
        "#print('akurasi dengan data train:', linReg.score(X_train, y_train)*100)"
      ]
    },
    {
      "cell_type": "markdown",
      "metadata": {
        "id": "ebfDx0xglF6a"
      },
      "source": [
        "#### Gradient Boosting Regression"
      ]
    },
    {
      "cell_type": "code",
      "execution_count": 51,
      "metadata": {
        "id": "U1auLA_XlF6a"
      },
      "outputs": [],
      "source": [
        "#menggunakan model gradient boosting regressor\n",
        "#from sklearn.ensemble import GradientBoostingRegressor\n",
        "\n",
        "#GBR = GradientBoostingRegressor(random_state=50, n_estimators=300)\n",
        "#GBR.fit(X_train, y_train)"
      ]
    },
    {
      "cell_type": "code",
      "execution_count": 52,
      "metadata": {
        "id": "3Su82hxOlF6b"
      },
      "outputs": [],
      "source": [
        "#print('akurasi dengan data train:', GBR.score(X_train, y_train)*100)"
      ]
    },
    {
      "cell_type": "markdown",
      "metadata": {
        "id": "7y5-ZAZZt7JO"
      },
      "source": [
        "#### Random Forest Regression"
      ]
    },
    {
      "cell_type": "code",
      "execution_count": 53,
      "metadata": {
        "colab": {
          "base_uri": "https://localhost:8080/"
        },
        "id": "vKSVN_oct7JO",
        "outputId": "fed6e590-05c7-41e8-a803-397583b05f71"
      },
      "outputs": [
        {
          "output_type": "execute_result",
          "data": {
            "text/plain": [
              "RandomForestRegressor(n_estimators=300, random_state=50)"
            ]
          },
          "metadata": {},
          "execution_count": 53
        }
      ],
      "source": [
        "#random forest regressor\n",
        "from sklearn.ensemble import RandomForestRegressor\n",
        "\n",
        "RFG = RandomForestRegressor(n_estimators=300,random_state=50)\n",
        "RFG.fit(X_train, y_train)"
      ]
    },
    {
      "cell_type": "code",
      "execution_count": 54,
      "metadata": {
        "colab": {
          "base_uri": "https://localhost:8080/"
        },
        "id": "mRR-mXualF6b",
        "outputId": "223afbad-f48e-4bfe-ad5e-cbe58f3a25af"
      },
      "outputs": [
        {
          "output_type": "stream",
          "name": "stdout",
          "text": [
            "akurasi dengan data train: 95.57677709489144\n"
          ]
        }
      ],
      "source": [
        "print('akurasi dengan data train:', RFG.score(X_train, y_train)*100)"
      ]
    },
    {
      "cell_type": "markdown",
      "metadata": {
        "id": "MGm9t8MelF6b"
      },
      "source": [
        "Dari hasil percobaan ketiga algoritma, algoritma dengan akurasi paling tinggi adalah Random Forest Regression"
      ]
    },
    {
      "cell_type": "markdown",
      "metadata": {
        "id": "KsmTIBQS9F-I"
      },
      "source": [
        "kesimpulan:\n",
        "dengan beberapa percobaan menambah variabel, hasil yang diperoleh adalah:\n",
        "- akurasi tertinggi(dengan data train): 95.57677709489144\n"
      ]
    },
    {
      "cell_type": "markdown",
      "metadata": {
        "id": "EpHbOkQplF6b"
      },
      "source": [
        "Cek MAPE dan R Square"
      ]
    },
    {
      "cell_type": "code",
      "execution_count": 55,
      "metadata": {
        "colab": {
          "base_uri": "https://localhost:8080/"
        },
        "id": "Aku2zljORQVV",
        "outputId": "e9a6374b-ba5c-4697-b5ba-d84f76e0153a"
      },
      "outputs": [
        {
          "output_type": "stream",
          "name": "stdout",
          "text": [
            "mean absolute percentage error: 25.48307354803152\n",
            "r2 score: 70.2785467115288\n"
          ]
        }
      ],
      "source": [
        "#cek MAPE dan r2 untuk random forest regressor\n",
        "from sklearn.metrics import mean_absolute_percentage_error\n",
        "from sklearn.metrics import r2_score\n",
        "\n",
        "print(\"mean absolute percentage error:\", mean_absolute_percentage_error(y_test, RFG.predict(X_test))*100)\n",
        "print(\"r2 score:\", r2_score(y_test, RFG.predict(X_test))*100)"
      ]
    },
    {
      "cell_type": "markdown",
      "metadata": {
        "id": "ewIfwPWLSFb9"
      },
      "source": [
        "Mean Absolute Percentage Error (MAPE):\n",
        "- MAPE (Mean Absolute Percent Error) digunakan jika ukuran variabel peramalan merupakan faktor penting dalam mengevaluasi akurasi peramalan tersebut. MAPE memberikan petunjuk seberapa besar kesalahan peramalan dibandingkan dengan nilai sebenarnya\n",
        "\n",
        "- Berdasarkan Lewis (1982), nilai MAPE dapat diinterpretasikan atau ditafsirkan ke dalam 4 kategori yaitu: <10% = sangat akurat. 10-20% = baik. 20-50% = wajar, >50% = buruk.\n",
        "\n",
        "\n",
        "R2 (R squared score):\n",
        "- R squared merupakan angka yang berkisar antara 0 sampai 1 (0 sampai 100 jika dalam persen) yang mengindikasikan besarnya kombinasi variabel independen secara bersama – sama mempengaruhi nilai variabel dependen. Semakin mendekati angka satu, model yang dikeluarkan oleh regresi tersebut akan semakin baik.\n",
        "\n",
        "- Menurut Chin (1998), nilai R-Square dikategorikan kuat jika lebih dari 0,67, moderat jika lebih dari 0,33 tetapi lebih rendah dari 0,67, dan lemah jika lebih dari 0,19 tetapi lebih rendah dari 0,33."
      ]
    },
    {
      "cell_type": "markdown",
      "metadata": {
        "id": "03DTdDNVlF6c"
      },
      "source": [
        "Sample dari harga asli dan harga prediksi"
      ]
    },
    {
      "cell_type": "code",
      "execution_count": 56,
      "metadata": {
        "colab": {
          "base_uri": "https://localhost:8080/",
          "height": 363
        },
        "id": "mTvSbLd1736H",
        "outputId": "f420e01e-7af9-46ae-9d0a-884ee446a172"
      },
      "outputs": [
        {
          "output_type": "execute_result",
          "data": {
            "text/plain": [
              "          price  PredictedPrice\n",
              "5533   530000.0   512195.206667\n",
              "625    289500.0   279400.071111\n",
              "14950  295000.0   306465.666667\n",
              "13654  267500.0   369827.893333\n",
              "3929   405000.0   355514.620000\n",
              "10965  283000.0   302427.866667\n",
              "8359   459000.0   409585.323810\n",
              "18853  475000.0   534795.601111\n",
              "864    280000.0   518530.706667\n",
              "11703  294000.0   468958.693333"
            ],
            "text/html": [
              "\n",
              "  <div id=\"df-81d01b71-370b-415f-9515-c4670373c15f\">\n",
              "    <div class=\"colab-df-container\">\n",
              "      <div>\n",
              "<style scoped>\n",
              "    .dataframe tbody tr th:only-of-type {\n",
              "        vertical-align: middle;\n",
              "    }\n",
              "\n",
              "    .dataframe tbody tr th {\n",
              "        vertical-align: top;\n",
              "    }\n",
              "\n",
              "    .dataframe thead th {\n",
              "        text-align: right;\n",
              "    }\n",
              "</style>\n",
              "<table border=\"1\" class=\"dataframe\">\n",
              "  <thead>\n",
              "    <tr style=\"text-align: right;\">\n",
              "      <th></th>\n",
              "      <th>price</th>\n",
              "      <th>PredictedPrice</th>\n",
              "    </tr>\n",
              "  </thead>\n",
              "  <tbody>\n",
              "    <tr>\n",
              "      <th>5533</th>\n",
              "      <td>530000.0</td>\n",
              "      <td>512195.206667</td>\n",
              "    </tr>\n",
              "    <tr>\n",
              "      <th>625</th>\n",
              "      <td>289500.0</td>\n",
              "      <td>279400.071111</td>\n",
              "    </tr>\n",
              "    <tr>\n",
              "      <th>14950</th>\n",
              "      <td>295000.0</td>\n",
              "      <td>306465.666667</td>\n",
              "    </tr>\n",
              "    <tr>\n",
              "      <th>13654</th>\n",
              "      <td>267500.0</td>\n",
              "      <td>369827.893333</td>\n",
              "    </tr>\n",
              "    <tr>\n",
              "      <th>3929</th>\n",
              "      <td>405000.0</td>\n",
              "      <td>355514.620000</td>\n",
              "    </tr>\n",
              "    <tr>\n",
              "      <th>10965</th>\n",
              "      <td>283000.0</td>\n",
              "      <td>302427.866667</td>\n",
              "    </tr>\n",
              "    <tr>\n",
              "      <th>8359</th>\n",
              "      <td>459000.0</td>\n",
              "      <td>409585.323810</td>\n",
              "    </tr>\n",
              "    <tr>\n",
              "      <th>18853</th>\n",
              "      <td>475000.0</td>\n",
              "      <td>534795.601111</td>\n",
              "    </tr>\n",
              "    <tr>\n",
              "      <th>864</th>\n",
              "      <td>280000.0</td>\n",
              "      <td>518530.706667</td>\n",
              "    </tr>\n",
              "    <tr>\n",
              "      <th>11703</th>\n",
              "      <td>294000.0</td>\n",
              "      <td>468958.693333</td>\n",
              "    </tr>\n",
              "  </tbody>\n",
              "</table>\n",
              "</div>\n",
              "      <button class=\"colab-df-convert\" onclick=\"convertToInteractive('df-81d01b71-370b-415f-9515-c4670373c15f')\"\n",
              "              title=\"Convert this dataframe to an interactive table.\"\n",
              "              style=\"display:none;\">\n",
              "        \n",
              "  <svg xmlns=\"http://www.w3.org/2000/svg\" height=\"24px\"viewBox=\"0 0 24 24\"\n",
              "       width=\"24px\">\n",
              "    <path d=\"M0 0h24v24H0V0z\" fill=\"none\"/>\n",
              "    <path d=\"M18.56 5.44l.94 2.06.94-2.06 2.06-.94-2.06-.94-.94-2.06-.94 2.06-2.06.94zm-11 1L8.5 8.5l.94-2.06 2.06-.94-2.06-.94L8.5 2.5l-.94 2.06-2.06.94zm10 10l.94 2.06.94-2.06 2.06-.94-2.06-.94-.94-2.06-.94 2.06-2.06.94z\"/><path d=\"M17.41 7.96l-1.37-1.37c-.4-.4-.92-.59-1.43-.59-.52 0-1.04.2-1.43.59L10.3 9.45l-7.72 7.72c-.78.78-.78 2.05 0 2.83L4 21.41c.39.39.9.59 1.41.59.51 0 1.02-.2 1.41-.59l7.78-7.78 2.81-2.81c.8-.78.8-2.07 0-2.86zM5.41 20L4 18.59l7.72-7.72 1.47 1.35L5.41 20z\"/>\n",
              "  </svg>\n",
              "      </button>\n",
              "      \n",
              "  <style>\n",
              "    .colab-df-container {\n",
              "      display:flex;\n",
              "      flex-wrap:wrap;\n",
              "      gap: 12px;\n",
              "    }\n",
              "\n",
              "    .colab-df-convert {\n",
              "      background-color: #E8F0FE;\n",
              "      border: none;\n",
              "      border-radius: 50%;\n",
              "      cursor: pointer;\n",
              "      display: none;\n",
              "      fill: #1967D2;\n",
              "      height: 32px;\n",
              "      padding: 0 0 0 0;\n",
              "      width: 32px;\n",
              "    }\n",
              "\n",
              "    .colab-df-convert:hover {\n",
              "      background-color: #E2EBFA;\n",
              "      box-shadow: 0px 1px 2px rgba(60, 64, 67, 0.3), 0px 1px 3px 1px rgba(60, 64, 67, 0.15);\n",
              "      fill: #174EA6;\n",
              "    }\n",
              "\n",
              "    [theme=dark] .colab-df-convert {\n",
              "      background-color: #3B4455;\n",
              "      fill: #D2E3FC;\n",
              "    }\n",
              "\n",
              "    [theme=dark] .colab-df-convert:hover {\n",
              "      background-color: #434B5C;\n",
              "      box-shadow: 0px 1px 3px 1px rgba(0, 0, 0, 0.15);\n",
              "      filter: drop-shadow(0px 1px 2px rgba(0, 0, 0, 0.3));\n",
              "      fill: #FFFFFF;\n",
              "    }\n",
              "  </style>\n",
              "\n",
              "      <script>\n",
              "        const buttonEl =\n",
              "          document.querySelector('#df-81d01b71-370b-415f-9515-c4670373c15f button.colab-df-convert');\n",
              "        buttonEl.style.display =\n",
              "          google.colab.kernel.accessAllowed ? 'block' : 'none';\n",
              "\n",
              "        async function convertToInteractive(key) {\n",
              "          const element = document.querySelector('#df-81d01b71-370b-415f-9515-c4670373c15f');\n",
              "          const dataTable =\n",
              "            await google.colab.kernel.invokeFunction('convertToInteractive',\n",
              "                                                     [key], {});\n",
              "          if (!dataTable) return;\n",
              "\n",
              "          const docLinkHtml = 'Like what you see? Visit the ' +\n",
              "            '<a target=\"_blank\" href=https://colab.research.google.com/notebooks/data_table.ipynb>data table notebook</a>'\n",
              "            + ' to learn more about interactive tables.';\n",
              "          element.innerHTML = '';\n",
              "          dataTable['output_type'] = 'display_data';\n",
              "          await google.colab.output.renderOutput(dataTable, element);\n",
              "          const docLink = document.createElement('div');\n",
              "          docLink.innerHTML = docLinkHtml;\n",
              "          element.appendChild(docLink);\n",
              "        }\n",
              "      </script>\n",
              "    </div>\n",
              "  </div>\n",
              "  "
            ]
          },
          "metadata": {},
          "execution_count": 56
        }
      ],
      "source": [
        "# Sample dari harga asli dan harga prediksi\n",
        "y_pred = RFG.predict(X_test)\n",
        "y_df = pd.DataFrame(y_test)\n",
        "y_df['PredictedPrice']=y_pred\n",
        "y_df.head(10)"
      ]
    },
    {
      "cell_type": "code",
      "execution_count": 57,
      "metadata": {
        "colab": {
          "base_uri": "https://localhost:8080/",
          "height": 424
        },
        "id": "qdkGJtOalF6c",
        "outputId": "637b2fa3-82be-4c63-bde4-1ae553fb6ff2"
      },
      "outputs": [
        {
          "output_type": "execute_result",
          "data": {
            "text/plain": [
              "          price  PredictedPrice\n",
              "5533   530000.0   512195.206667\n",
              "625    289500.0   279400.071111\n",
              "14950  295000.0   306465.666667\n",
              "13654  267500.0   369827.893333\n",
              "3929   405000.0   355514.620000\n",
              "...         ...             ...\n",
              "8614   575700.0   504213.160000\n",
              "15978  376950.0   496745.015000\n",
              "12084  338000.0   395458.111111\n",
              "19119  747500.0   684488.816667\n",
              "11052  398000.0   323526.777778\n",
              "\n",
              "[6484 rows x 2 columns]"
            ],
            "text/html": [
              "\n",
              "  <div id=\"df-dc9f7824-0ab1-4402-9870-24739a59880a\">\n",
              "    <div class=\"colab-df-container\">\n",
              "      <div>\n",
              "<style scoped>\n",
              "    .dataframe tbody tr th:only-of-type {\n",
              "        vertical-align: middle;\n",
              "    }\n",
              "\n",
              "    .dataframe tbody tr th {\n",
              "        vertical-align: top;\n",
              "    }\n",
              "\n",
              "    .dataframe thead th {\n",
              "        text-align: right;\n",
              "    }\n",
              "</style>\n",
              "<table border=\"1\" class=\"dataframe\">\n",
              "  <thead>\n",
              "    <tr style=\"text-align: right;\">\n",
              "      <th></th>\n",
              "      <th>price</th>\n",
              "      <th>PredictedPrice</th>\n",
              "    </tr>\n",
              "  </thead>\n",
              "  <tbody>\n",
              "    <tr>\n",
              "      <th>5533</th>\n",
              "      <td>530000.0</td>\n",
              "      <td>512195.206667</td>\n",
              "    </tr>\n",
              "    <tr>\n",
              "      <th>625</th>\n",
              "      <td>289500.0</td>\n",
              "      <td>279400.071111</td>\n",
              "    </tr>\n",
              "    <tr>\n",
              "      <th>14950</th>\n",
              "      <td>295000.0</td>\n",
              "      <td>306465.666667</td>\n",
              "    </tr>\n",
              "    <tr>\n",
              "      <th>13654</th>\n",
              "      <td>267500.0</td>\n",
              "      <td>369827.893333</td>\n",
              "    </tr>\n",
              "    <tr>\n",
              "      <th>3929</th>\n",
              "      <td>405000.0</td>\n",
              "      <td>355514.620000</td>\n",
              "    </tr>\n",
              "    <tr>\n",
              "      <th>...</th>\n",
              "      <td>...</td>\n",
              "      <td>...</td>\n",
              "    </tr>\n",
              "    <tr>\n",
              "      <th>8614</th>\n",
              "      <td>575700.0</td>\n",
              "      <td>504213.160000</td>\n",
              "    </tr>\n",
              "    <tr>\n",
              "      <th>15978</th>\n",
              "      <td>376950.0</td>\n",
              "      <td>496745.015000</td>\n",
              "    </tr>\n",
              "    <tr>\n",
              "      <th>12084</th>\n",
              "      <td>338000.0</td>\n",
              "      <td>395458.111111</td>\n",
              "    </tr>\n",
              "    <tr>\n",
              "      <th>19119</th>\n",
              "      <td>747500.0</td>\n",
              "      <td>684488.816667</td>\n",
              "    </tr>\n",
              "    <tr>\n",
              "      <th>11052</th>\n",
              "      <td>398000.0</td>\n",
              "      <td>323526.777778</td>\n",
              "    </tr>\n",
              "  </tbody>\n",
              "</table>\n",
              "<p>6484 rows × 2 columns</p>\n",
              "</div>\n",
              "      <button class=\"colab-df-convert\" onclick=\"convertToInteractive('df-dc9f7824-0ab1-4402-9870-24739a59880a')\"\n",
              "              title=\"Convert this dataframe to an interactive table.\"\n",
              "              style=\"display:none;\">\n",
              "        \n",
              "  <svg xmlns=\"http://www.w3.org/2000/svg\" height=\"24px\"viewBox=\"0 0 24 24\"\n",
              "       width=\"24px\">\n",
              "    <path d=\"M0 0h24v24H0V0z\" fill=\"none\"/>\n",
              "    <path d=\"M18.56 5.44l.94 2.06.94-2.06 2.06-.94-2.06-.94-.94-2.06-.94 2.06-2.06.94zm-11 1L8.5 8.5l.94-2.06 2.06-.94-2.06-.94L8.5 2.5l-.94 2.06-2.06.94zm10 10l.94 2.06.94-2.06 2.06-.94-2.06-.94-.94-2.06-.94 2.06-2.06.94z\"/><path d=\"M17.41 7.96l-1.37-1.37c-.4-.4-.92-.59-1.43-.59-.52 0-1.04.2-1.43.59L10.3 9.45l-7.72 7.72c-.78.78-.78 2.05 0 2.83L4 21.41c.39.39.9.59 1.41.59.51 0 1.02-.2 1.41-.59l7.78-7.78 2.81-2.81c.8-.78.8-2.07 0-2.86zM5.41 20L4 18.59l7.72-7.72 1.47 1.35L5.41 20z\"/>\n",
              "  </svg>\n",
              "      </button>\n",
              "      \n",
              "  <style>\n",
              "    .colab-df-container {\n",
              "      display:flex;\n",
              "      flex-wrap:wrap;\n",
              "      gap: 12px;\n",
              "    }\n",
              "\n",
              "    .colab-df-convert {\n",
              "      background-color: #E8F0FE;\n",
              "      border: none;\n",
              "      border-radius: 50%;\n",
              "      cursor: pointer;\n",
              "      display: none;\n",
              "      fill: #1967D2;\n",
              "      height: 32px;\n",
              "      padding: 0 0 0 0;\n",
              "      width: 32px;\n",
              "    }\n",
              "\n",
              "    .colab-df-convert:hover {\n",
              "      background-color: #E2EBFA;\n",
              "      box-shadow: 0px 1px 2px rgba(60, 64, 67, 0.3), 0px 1px 3px 1px rgba(60, 64, 67, 0.15);\n",
              "      fill: #174EA6;\n",
              "    }\n",
              "\n",
              "    [theme=dark] .colab-df-convert {\n",
              "      background-color: #3B4455;\n",
              "      fill: #D2E3FC;\n",
              "    }\n",
              "\n",
              "    [theme=dark] .colab-df-convert:hover {\n",
              "      background-color: #434B5C;\n",
              "      box-shadow: 0px 1px 3px 1px rgba(0, 0, 0, 0.15);\n",
              "      filter: drop-shadow(0px 1px 2px rgba(0, 0, 0, 0.3));\n",
              "      fill: #FFFFFF;\n",
              "    }\n",
              "  </style>\n",
              "\n",
              "      <script>\n",
              "        const buttonEl =\n",
              "          document.querySelector('#df-dc9f7824-0ab1-4402-9870-24739a59880a button.colab-df-convert');\n",
              "        buttonEl.style.display =\n",
              "          google.colab.kernel.accessAllowed ? 'block' : 'none';\n",
              "\n",
              "        async function convertToInteractive(key) {\n",
              "          const element = document.querySelector('#df-dc9f7824-0ab1-4402-9870-24739a59880a');\n",
              "          const dataTable =\n",
              "            await google.colab.kernel.invokeFunction('convertToInteractive',\n",
              "                                                     [key], {});\n",
              "          if (!dataTable) return;\n",
              "\n",
              "          const docLinkHtml = 'Like what you see? Visit the ' +\n",
              "            '<a target=\"_blank\" href=https://colab.research.google.com/notebooks/data_table.ipynb>data table notebook</a>'\n",
              "            + ' to learn more about interactive tables.';\n",
              "          element.innerHTML = '';\n",
              "          dataTable['output_type'] = 'display_data';\n",
              "          await google.colab.output.renderOutput(dataTable, element);\n",
              "          const docLink = document.createElement('div');\n",
              "          docLink.innerHTML = docLinkHtml;\n",
              "          element.appendChild(docLink);\n",
              "        }\n",
              "      </script>\n",
              "    </div>\n",
              "  </div>\n",
              "  "
            ]
          },
          "metadata": {},
          "execution_count": 57
        }
      ],
      "source": [
        "y_df"
      ]
    },
    {
      "cell_type": "markdown",
      "metadata": {
        "id": "cZN7xajAlF6c"
      },
      "source": [
        "Melihat rata-rata persentase selisih antara price dan PredictedPrice"
      ]
    },
    {
      "cell_type": "code",
      "execution_count": 58,
      "metadata": {
        "colab": {
          "base_uri": "https://localhost:8080/"
        },
        "id": "pFVDq_ydpgjB",
        "outputId": "452fb26d-0a39-4bb2-e2c6-443562559256"
      },
      "outputs": [
        {
          "output_type": "stream",
          "name": "stdout",
          "text": [
            "rata-rata persentase selisih antara harga asli dan harga prediksi:  8.964860987347253 %\n"
          ]
        }
      ],
      "source": [
        "#melihat rata-rata persentase selisih antara price dan PredictedPrice\n",
        "y_df['Difference'] = (y_df['PredictedPrice']-y_df['price'])\n",
        "y_df['Difference'] = y_df['Difference']/y_df['price']*100 \n",
        "selisih = y_df['Difference'].mean()\n",
        "print('rata-rata persentase selisih antara harga asli dan harga prediksi: ', selisih, '%')"
      ]
    },
    {
      "cell_type": "markdown",
      "metadata": {
        "id": "wfD11MAN5c5c"
      },
      "source": [
        "Mencoba beberapa inputan dan melihat prediksi"
      ]
    },
    {
      "cell_type": "code",
      "execution_count": 59,
      "metadata": {
        "colab": {
          "base_uri": "https://localhost:8080/"
        },
        "id": "UVUYe9loNTwB",
        "outputId": "6025df6e-11b5-46c0-ab20-6643c2b833b6"
      },
      "outputs": [
        {
          "output_type": "stream",
          "name": "stdout",
          "text": [
            "1.\n",
            "harga aktual: 530000\n",
            "harga prediksi: [512195.20666667]\n",
            "persentase perbedaan: [-3.35939497] %\n"
          ]
        },
        {
          "output_type": "stream",
          "name": "stderr",
          "text": [
            "/usr/local/lib/python3.7/dist-packages/sklearn/base.py:451: UserWarning: X does not have valid feature names, but RandomForestRegressor was fitted with feature names\n",
            "  \"X does not have valid feature names, but\"\n"
          ]
        }
      ],
      "source": [
        "# 'bedrooms', 'bathrooms', 'sqft_living', 'floors',\t'grade', 'sqft_above, 'sqft_living15, 'yr_built'\n",
        "\n",
        "print(\"1.\")\n",
        "print(\"harga aktual: 530000\")\n",
        "harga_pred = RFG.predict([[3,\t1,\t1660,\t1,\t7,\t960,\t1510,\t1941]])\n",
        "print(\"harga prediksi:\", harga_pred)\n",
        "print(\"persentase perbedaan:\", ((harga_pred-530000)/530000)*100, \"%\")"
      ]
    },
    {
      "cell_type": "markdown",
      "metadata": {
        "id": "Hi9HQfAVlF6d"
      },
      "source": [
        "Plot antara harga prediksi dengan harga real"
      ]
    },
    {
      "cell_type": "code",
      "execution_count": 60,
      "metadata": {
        "colab": {
          "base_uri": "https://localhost:8080/",
          "height": 698
        },
        "id": "fRyTX7TWhYZK",
        "outputId": "8c16409d-60c5-48ca-a3cd-e95815e381f2"
      },
      "outputs": [
        {
          "output_type": "display_data",
          "data": {
            "text/plain": [
              "<Figure size 2160x828 with 1 Axes>"
            ],
            "image/png": "[encoded data removed]"
          },
          "metadata": {
            "needs_background": "light"
          }
        }
      ],
      "source": [
        "#melihat plot antara harga prediksi dengan harga real\n",
        "f = plt.figure(figsize=(30,11.5))\n",
        "\n",
        "f.add_subplot(1,2,1)\n",
        "plt.scatter(y_test, RFG.predict(X_test), color='red', s=10)\n",
        "plt.plot([y_test.min(), y_test.max()], [y_test.min(), y_test.max()], '--', color='black', lw=3)\n",
        "plt.xlabel('Actual Price')\n",
        "plt.ylabel('Predicted Price')\n",
        "plt.show()"
      ]
    },
    {
      "cell_type": "markdown",
      "metadata": {
        "id": "S02d9CPOlF6d"
      },
      "source": [
        "Jika plot semakin rapat dengan garis putus-putus, maka menunjukkan bahwa harga prediksi dan harga aktual memiliki selisih yang kecil"
      ]
    },
    {
      "cell_type": "code",
      "execution_count": 61,
      "metadata": {
        "colab": {
          "base_uri": "https://localhost:8080/"
        },
        "id": "9S0ncHnvlF6d",
        "outputId": "c0640eed-309a-4e62-fdeb-b7788c800eb6"
      },
      "outputs": [
        {
          "output_type": "stream",
          "name": "stdout",
          "text": [
            "variance score: 0.7027867070292917\n",
            "mean squared error: 40514109938.98212\n",
            "r2 score: 0.702785467115288\n"
          ]
        }
      ],
      "source": [
        "#melihat variance score\n",
        "from sklearn.metrics import explained_variance_score\n",
        "from sklearn.metrics import mean_squared_error\n",
        "from sklearn.metrics import r2_score\n",
        "\n",
        "\n",
        "print(\"variance score:\", explained_variance_score(y_test, RFG.predict(X_test)))\n",
        "print(\"mean squared error:\", mean_squared_error(y_test, RFG.predict(X_test)))\n",
        "print(\"r2 score:\", r2_score(y_test, RFG.predict(X_test)))\n"
      ]
    },
    {
      "cell_type": "markdown",
      "metadata": {
        "id": "49etCapgw0Ts"
      },
      "source": [
        "## 4. SIMPAN MODEL KE DALAM FILE PICKLE\n",
        "Model disimpan agar dapat digunakan untuk melakukan prediksi tanpa harus training ulang model, dan bisa digunakan di berbagai platform seperti website"
      ]
    },
    {
      "cell_type": "code",
      "execution_count": 62,
      "metadata": {
        "id": "Xa8lqZJPwz89"
      },
      "outputs": [],
      "source": [
        "import pickle"
      ]
    },
    {
      "cell_type": "markdown",
      "metadata": {
        "id": "72PN8V-AlF6e"
      },
      "source": [
        "Membuat variabel 'filename' yang berisi nama file yang akan digunakan untuk menyimpan model\n",
        "\n",
        "pickle.dump untuk menyimpan hasil training ke dalam file pickle yang telah dibuat"
      ]
    },
    {
      "cell_type": "code",
      "execution_count": 63,
      "metadata": {
        "id": "Zqhf9dJxxMOP"
      },
      "outputs": [],
      "source": [
        "#menyimpan model ke dalam file pickle\n",
        "#filename = 'model_prediksi_rumah_new.pkl'\n",
        "#pickle.dump(RFG, open(filename, 'wb'))"
      ]
    },
    {
      "cell_type": "code",
      "execution_count": 64,
      "metadata": {
        "colab": {
          "base_uri": "https://localhost:8080/"
        },
        "id": "4R8uoY-KlF6f",
        "outputId": "ada4de3c-1fb7-4210-e0e4-f8bd33d75265"
      },
      "outputs": [
        {
          "output_type": "execute_result",
          "data": {
            "text/plain": [
              "['model_prediksi_rumah_joblib.pkl']"
            ]
          },
          "metadata": {},
          "execution_count": 64
        }
      ],
      "source": [
        "#mencoba dengan joblib\n",
        "#from sklearn.externals import joblib\n",
        "import joblib\n",
        "\n",
        "#filename = 'model_prediksi_rumah_joblib.pkl'\n",
        "joblib.dump(RFG, 'model_prediksi_rumah_joblib.pkl', compress=9)"
      ]
    },
    {
      "cell_type": "markdown",
      "metadata": {
        "id": "ld7QuHOSlF6f"
      },
      "source": [
        "Mencoba model yang telah disimpan"
      ]
    },
    {
      "cell_type": "code",
      "execution_count": 65,
      "metadata": {
        "id": "3R9YFiUUlF6f"
      },
      "outputs": [],
      "source": [
        "#loaded_model = pickle.load(open('model_prediksi_rumah_new.pkl', 'rb'))\n",
        "# 'bedrooms', 'bathrooms', 'sqft_living', 'floors',\t'grade', 'sqft_above, 'sqft_living15, 'yr_built'\n",
        "#print(loaded_model.predict([[3,\t1,\t1660,\t1,\t7,\t960,\t1510,\t1941]]))"
      ]
    },
    {
      "cell_type": "code",
      "execution_count": 66,
      "metadata": {
        "colab": {
          "base_uri": "https://localhost:8080/"
        },
        "id": "Yet6m4MhlF6f",
        "outputId": "3ade9215-cd28-4991-aa83-d3f771299486"
      },
      "outputs": [
        {
          "output_type": "stream",
          "name": "stdout",
          "text": [
            "[512195.20666667]\n"
          ]
        },
        {
          "output_type": "stream",
          "name": "stderr",
          "text": [
            "/usr/local/lib/python3.7/dist-packages/sklearn/base.py:451: UserWarning: X does not have valid feature names, but RandomForestRegressor was fitted with feature names\n",
            "  \"X does not have valid feature names, but\"\n"
          ]
        }
      ],
      "source": [
        "#prediksi dengan 'model_prediksi_rumah_joblib.pkl'\n",
        "loaded_model = joblib.load('model_prediksi_rumah_joblib.pkl')\n",
        "print(loaded_model.predict([[3,\t1,\t1660,\t1,\t7,\t960,\t1510,\t1941]]))"
      ]
    },
    {
      "cell_type": "markdown",
      "metadata": {
        "id": "vLwZL_islF6g"
      },
      "source": [
        "Model berhasil untuk dijalankan"
      ]
    },
    {
      "cell_type": "markdown",
      "metadata": {
        "id": "394UoRNmlF6g"
      },
      "source": [
        "menyimpan data yang telah dimodifikasi dan digunakan untuk training"
      ]
    },
    {
      "cell_type": "code",
      "execution_count": 67,
      "metadata": {
        "id": "WECQ2O98lF6g"
      },
      "outputs": [],
      "source": [
        "#eksport dataFrame menjadi file csv\n",
        "\n",
        "dataFrame.to_csv('dataFrame_test_train_new.csv')"
      ]
    },
    {
      "cell_type": "markdown",
      "metadata": {
        "id": "_16VYsAXlF6g"
      },
      "source": [
        "catatan:\n",
        "Model ini dapat dikembangkan lagi seperti meningkatkan akurasi, r2 score, menurunkan skor MAPE hingga di bawah 10% dengan pendekatan-pendekatan lain seperti mengubah algoritma, parameter, jumlah variabel, dan lain sebagainya\n",
        "\n",
        "Model yang telah disimpan akan digunakan dalam website sehingga user lebih mudah dalam mendapatkan hasil prediksi\n",
        "\n",
        "link website: https://house-predict1.herokuapp.com/"
      ]
    },
    {
      "cell_type": "code",
      "execution_count": 68,
      "metadata": {
        "colab": {
          "base_uri": "https://localhost:8080/"
        },
        "id": "FMuHWv38nuZJ",
        "outputId": "9b5dd49b-60cf-41b0-fc54-b50fef70e902"
      },
      "outputs": [
        {
          "output_type": "stream",
          "name": "stdout",
          "text": [
            "\u001b[K     |████████████████████████████████| 9.1 MB 38.9 MB/s \n",
            "\u001b[K     |████████████████████████████████| 235 kB 69.8 MB/s \n",
            "\u001b[K     |████████████████████████████████| 164 kB 78.8 MB/s \n",
            "\u001b[K     |████████████████████████████████| 181 kB 72.5 MB/s \n",
            "\u001b[K     |████████████████████████████████| 4.3 MB 59.8 MB/s \n",
            "\u001b[K     |████████████████████████████████| 78 kB 9.4 MB/s \n",
            "\u001b[K     |████████████████████████████████| 63 kB 1.6 MB/s \n",
            "\u001b[K     |████████████████████████████████| 1.6 MB 85.7 MB/s \n",
            "\u001b[K     |████████████████████████████████| 51 kB 8.2 MB/s \n",
            "\u001b[?25h  Building wheel for validators (setup.py) ... \u001b[?25l\u001b[?25hdone\n"
          ]
        }
      ],
      "source": [
        "! pip install streamlit -q"
      ]
    },
    {
      "cell_type": "code",
      "execution_count": 69,
      "metadata": {
        "colab": {
          "base_uri": "https://localhost:8080/"
        },
        "id": "4kj8Ry3zn5Lo",
        "outputId": "be802e06-6a0f-46c7-f4ad-f5b60f4a813a"
      },
      "outputs": [
        {
          "output_type": "stream",
          "name": "stdout",
          "text": [
            "Writing app.py\n"
          ]
        }
      ],
      "source": [
        "%%writefile app.py\n",
        "import streamlit as st\n",
        "\n",
        "import streamlit as st\n",
        "import pandas as pd\n",
        "import time\n",
        "import matplotlib.pyplot as plt\n",
        "import joblib\n",
        "\n",
        "#load model yang sudah di train\n",
        "#pickle_in = open(\"model_prediksi_rumah_new.pkl\", \"rb\")\n",
        "#random_forest_regression_model = pickle.load(pickle_in)\n",
        "\n",
        "loaded_model = joblib.load('model_prediksi_rumah_joblib.pkl')\n",
        "\n",
        "\n",
        "def Home():\n",
        "    return ('Sabar gan')\n",
        "#'bedrooms', 'bathrooms', 'sqft_living', 'floors',\t'grade', 'sqft_above, 'sqft_living15', 'yr_built'\n",
        "def predicting(bedrooms, bathrooms, sqft_living,  floors, grade, sqft_above, sqft_living15, yr_built):\n",
        "    prediction = loaded_model.predict([[bedrooms, bathrooms, sqft_living,  floors, grade, sqft_above, sqft_living15, yr_built]])\n",
        "    output = round(prediction[0], 2)\n",
        "    return output\n",
        "# 'bedrooms', 'bathrooms', 'sqft_living', 'floors',\t'grade', 'sqft_above, 'sqft_living15, 'yr_built'\n",
        "def main():\n",
        "    html_temp = \"\"\"\n",
        "    <div style=\"background-color:navy;padding:10px\">\n",
        "    <h1 style=\"color:white;text-align:center;\">Prediksi Harga Rumah ($) </h1>\n",
        "    </div>\n",
        "    \"\"\"\n",
        "\n",
        "    st.markdown(html_temp, unsafe_allow_html=True)\n",
        "    \n",
        "    st.subheader(\"Jumlah Kamar\") #bedrooms\n",
        "    bedrooms = st.slider(\"\", min_value=0, max_value=11, value=0, step=1)\n",
        "\n",
        "    st.subheader(\"Jumlah Kamar Mandi\") #bathrooms\n",
        "    bathrooms = st.slider(\"\", min_value=0, max_value=8, value=0, step=1)\n",
        "\n",
        "    st.subheader(\"Luas\") #sqft_living\n",
        "    sqft_living = st.text_input(\"luas bangunan secara keseluruhan (sqft)\", \"\")\n",
        "\n",
        "    st.subheader(\"Jumlah Lantai\") #floors\n",
        "    floors = st.slider(\"\", min_value=1, max_value=3, value=1, step=1)\n",
        "\n",
        "    st.subheader(\"Kelas / Grade\") #grade\n",
        "    grade = st.slider(\"\", min_value=1, max_value=13, value=1, step=1)\n",
        "\n",
        "    st.subheader(\"Luas bangunan di atas tanah\")#sqft_above\n",
        "    sqft_above = st.text_input(\"(sqft)\", \"\")\n",
        "\n",
        "    st.subheader(\"Rata-rata luas sekitar\") #sqft_living15\n",
        "    sqft_living15 = st.text_input(\"rata-rata luas tanah 15 tetangga terdekat (sqft)\", \"\")\n",
        "\n",
        "    st.subheader(\"Tahun Dibangun\") #yr_built\n",
        "    yr_built = st.text_input(\"tahun rumah dibangun\", \"\")\n",
        "    \n",
        "    result = \"\"\n",
        "    if st.button(\"Perkiraan harga\"):\n",
        "\n",
        "        my_bar = st.progress(0)\n",
        "        for percent_complete in range(100):\n",
        "            time.sleep(0.01)\n",
        "            my_bar.progress(percent_complete + 1)\n",
        "        result = predicting(bedrooms, bathrooms, sqft_living, floors, grade, sqft_above, sqft_living15, yr_built)\n",
        "\n",
        "    st.success('Hasil Prediksi : {} Dollars'.format(result))\n",
        "\n",
        "\n",
        "nav = st.sidebar.radio(\"Halaman\", [\"Home\", \"Data Sample\", \"About Me\"])\n",
        "if nav == \"Home\":\n",
        "    if __name__ == \"__main__\":\n",
        "        main()\n",
        "\n",
        "if nav == \"Data Sample\":\n",
        "    st.title(\"Data Sample\")\n",
        "    data = pd.read_csv(\"dataFrame_test_train_new.csv\", usecols=['bedrooms', 'bathrooms', 'sqft_living', 'floors',\t'grade', 'sqft_above', 'sqft_living15', 'yr_built'])\n",
        "    st.table(data.sample(100))\n",
        "    plt.show()\n",
        "\n",
        "# 'bedrooms', 'bathrooms', 'sqft_living', 'floors',\t'grade', 'sqft_above, 'sqft_living15, 'yr_built'\n",
        "if nav == \"About Me\":\n",
        "    st.title(\" Prediksi Harga Rumah\")\n",
        "    st.subheader(\"Gilang Agung Saputra (672019229)\")\n",
        "    "
      ]
    },
    {
      "cell_type": "code",
      "execution_count": 70,
      "metadata": {
        "id": "mPIn8LnPojxZ"
      },
      "outputs": [],
      "source": [
        "# ! streamlit run app.py"
      ]
    },
    {
      "cell_type": "code",
      "execution_count": null,
      "metadata": {
        "colab": {
          "background_save": true,
          "base_uri": "https://localhost:8080/"
        },
        "id": "U6qBhtRYpfH4",
        "outputId": "97065a0d-d413-4aeb-c21e-542f5cbc9e5f"
      },
      "outputs": [
        {
          "output_type": "stream",
          "name": "stdout",
          "text": [
            "2022-08-26 01:06:16.151 INFO    numexpr.utils: NumExpr defaulting to 2 threads.\n",
            "\u001b[K\u001b[?25hnpx: installed 22 in 3.312s\n",
            "your url is: https://lovely-cases-rush-35-245-51-218.loca.lt\n",
            "\u001b[0m\n",
            "\u001b[34m\u001b[1m  You can now view your Streamlit app in your browser.\u001b[0m\n",
            "\u001b[0m\n",
            "\u001b[34m  Network URL: \u001b[0m\u001b[1mhttp://172.28.0.2:8501\u001b[0m\n",
            "\u001b[34m  External URL: \u001b[0m\u001b[1mhttp://35.245.51.218:8501\u001b[0m\n",
            "\u001b[0m\n",
            "/usr/local/lib/python3.7/dist-packages/sklearn/base.py:451: UserWarning: X does not have valid feature names, but RandomForestRegressor was fitted with feature names\n",
            "  \"X does not have valid feature names, but\"\n"
          ]
        }
      ],
      "source": [
        "!streamlit run app.py & npx localtunnel  --port 8501"
      ]
    }
  ],
  "metadata": {
    "colab": {
      "collapsed_sections": [
        "5wvgRt7R0Uwj"
      ],
      "name": "latian_PrediksiHargaRumah_colab.ipynb",
      "provenance": []
    },
    "kernelspec": {
      "display_name": "Python 3.9.12 64-bit",
      "language": "python",
      "name": "python3"
    },
    "language_info": {
      "codemirror_mode": {
        "name": "ipython",
        "version": 3
      },
      "file_extension": ".py",
      "mimetype": "text/x-python",
      "name": "python",
      "nbconvert_exporter": "python",
      "pygments_lexer": "ipython3",
      "version": "3.9.12"
    },
    "vscode": {
      "interpreter": {
        "hash": "11938c6bc6919ae2720b4d5011047913343b08a43b18698fd82dedb0d4417594"
      }
    }
  },
  "nbformat": 4,
  "nbformat_minor": 0
}